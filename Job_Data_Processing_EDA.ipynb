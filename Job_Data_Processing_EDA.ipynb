{
 "cells": [
  {
   "cell_type": "markdown",
   "metadata": {},
   "source": [
    "# Data Processing\n",
    "\n",
    "Objective:\n",
    "\n",
    "- Clean location, salary, titles \n",
    "- Make sure data size is large enough\n",
    "- Clean JD \n",
    "    - Remove stop words\n",
    "    - basic tokenization\n",
    "    - get most frequently used words\n",
    "    - create bigrams, or ngrams, or bag or words\n",
    "    - count vectorization"
   ]
  },
  {
   "cell_type": "code",
   "execution_count": 1,
   "metadata": {},
   "outputs": [],
   "source": [
    "import time\n",
    "import nltk\n",
    "from nltk.corpus import stopwords\n",
    "\n",
    "from nltk import word_tokenize, FreqDist\n",
    "from nltk.corpus import stopwords\n",
    "from nltk.collocations import *\n",
    "import string, re\n",
    "\n",
    "from gensim.models import Word2Vec\n",
    "\n",
    "from sklearn.manifold import TSNE\n",
    "from sklearn.feature_extraction.text import TfidfVectorizer\n",
    "from sklearn.model_selection import train_test_split\n",
    "\n",
    "import pandas as pd\n",
    "import numpy as np\n",
    "import matplotlib.pyplot as plt\n",
    "%matplotlib inline\n",
    "np.random.seed(0)"
   ]
  },
  {
   "cell_type": "markdown",
   "metadata": {},
   "source": [
    "### Concat all jobs together"
   ]
  },
  {
   "cell_type": "code",
   "execution_count": 96,
   "metadata": {},
   "outputs": [],
   "source": [
    "import time, glob\n",
    "\n",
    "#Iterate through list of filenames and read each in\n",
    "outfilename = 'all_' + str((int(time.time()))) + \".csv\"\n",
    "\n",
    "filenames = glob.glob('*.csv')\n",
    "\n",
    "import shutil\n",
    "\n",
    "with open(outfilename, 'wb') as outfile:\n",
    "    for filename in glob.glob('*.csv'):\n",
    "        if filename == outfilename:\n",
    "            # don't want to copy the output into the output\n",
    "            continue\n",
    "        with open(filename, 'rb') as readfile:\n",
    "            shutil.copyfileobj(readfile, outfile)\n"
   ]
  },
  {
   "cell_type": "code",
   "execution_count": 55,
   "metadata": {},
   "outputs": [
    {
     "data": {
      "text/plain": [
       "<_io.BufferedWriter name='all_1589642043.csv'>"
      ]
     },
     "execution_count": 55,
     "metadata": {},
     "output_type": "execute_result"
    }
   ],
   "source": [
    "outfile"
   ]
  },
  {
   "cell_type": "code",
   "execution_count": 2,
   "metadata": {},
   "outputs": [],
   "source": [
    "df = pd.read_csv('all_1589665998.csv', encoding='latin-1')"
   ]
  },
  {
   "cell_type": "code",
   "execution_count": 3,
   "metadata": {},
   "outputs": [
    {
     "data": {
      "text/html": [
       "<div>\n",
       "<style scoped>\n",
       "    .dataframe tbody tr th:only-of-type {\n",
       "        vertical-align: middle;\n",
       "    }\n",
       "\n",
       "    .dataframe tbody tr th {\n",
       "        vertical-align: top;\n",
       "    }\n",
       "\n",
       "    .dataframe thead th {\n",
       "        text-align: right;\n",
       "    }\n",
       "</style>\n",
       "<table border=\"1\" class=\"dataframe\">\n",
       "  <thead>\n",
       "    <tr style=\"text-align: right;\">\n",
       "      <th></th>\n",
       "      <th>Unnamed: 0</th>\n",
       "      <th>Title</th>\n",
       "      <th>Company</th>\n",
       "      <th>Location</th>\n",
       "      <th>Link</th>\n",
       "      <th>Review</th>\n",
       "      <th>Salary</th>\n",
       "      <th>Description</th>\n",
       "    </tr>\n",
       "  </thead>\n",
       "  <tbody>\n",
       "    <tr>\n",
       "      <th>0</th>\n",
       "      <td>0.0</td>\n",
       "      <td>Data Scientist</td>\n",
       "      <td>Lockheed Martin</td>\n",
       "      <td>Arlington, VA</td>\n",
       "      <td>https://www.indeed.com/pagead/clk?mo=r&amp;ad=-6NY...</td>\n",
       "      <td>4</td>\n",
       "      <td>None</td>\n",
       "      <td>Description:Are you ready to take your career ...</td>\n",
       "    </tr>\n",
       "    <tr>\n",
       "      <th>1</th>\n",
       "      <td>1.0</td>\n",
       "      <td>Support Scientist Ocean Data Assimilation (HAFS)</td>\n",
       "      <td>IMSG/NOAA</td>\n",
       "      <td>Arlington, VA</td>\n",
       "      <td>https://www.indeed.com/pagead/clk?mo=r&amp;ad=-6NY...</td>\n",
       "      <td>None</td>\n",
       "      <td>None</td>\n",
       "      <td>Overview I.M. Systems Group, Inc. (IMSG) is se...</td>\n",
       "    </tr>\n",
       "    <tr>\n",
       "      <th>2</th>\n",
       "      <td>2.0</td>\n",
       "      <td>2021048 Data Scientist $215,000.00</td>\n",
       "      <td>B4CORP</td>\n",
       "      <td>Arlington, VA</td>\n",
       "      <td>https://www.indeed.com/pagead/clk?mo=r&amp;ad=-6NY...</td>\n",
       "      <td>None</td>\n",
       "      <td>Up to $215,000 a year</td>\n",
       "      <td>Position Requires a Top Secret (TS/SCI) Cleara...</td>\n",
       "    </tr>\n",
       "    <tr>\n",
       "      <th>3</th>\n",
       "      <td>3.0</td>\n",
       "      <td>Senior Data Engineer - Data Quality and Monito...</td>\n",
       "      <td>Freddie Mac</td>\n",
       "      <td>Arlington, VA</td>\n",
       "      <td>https://www.indeed.com/pagead/clk?mo=r&amp;ad=-6NY...</td>\n",
       "      <td>3.8</td>\n",
       "      <td>None</td>\n",
       "      <td>Are you passionate to work with the most valua...</td>\n",
       "    </tr>\n",
       "    <tr>\n",
       "      <th>4</th>\n",
       "      <td>4.0</td>\n",
       "      <td>Chief Scientist Machine Learning</td>\n",
       "      <td>Leidos</td>\n",
       "      <td>Arlington, VA</td>\n",
       "      <td>https://www.indeed.com/pagead/clk?mo=r&amp;ad=-6NY...</td>\n",
       "      <td>3.7</td>\n",
       "      <td>None</td>\n",
       "      <td>Description\\rJob Description:\\rThe Leidos Arti...</td>\n",
       "    </tr>\n",
       "  </tbody>\n",
       "</table>\n",
       "</div>"
      ],
      "text/plain": [
       "   Unnamed: 0                                              Title  \\\n",
       "0         0.0                                     Data Scientist   \n",
       "1         1.0   Support Scientist Ocean Data Assimilation (HAFS)   \n",
       "2         2.0                 2021048 Data Scientist $215,000.00   \n",
       "3         3.0  Senior Data Engineer - Data Quality and Monito...   \n",
       "4         4.0                   Chief Scientist Machine Learning   \n",
       "\n",
       "           Company       Location  \\\n",
       "0  Lockheed Martin  Arlington, VA   \n",
       "1        IMSG/NOAA  Arlington, VA   \n",
       "2           B4CORP  Arlington, VA   \n",
       "3      Freddie Mac  Arlington, VA   \n",
       "4           Leidos  Arlington, VA   \n",
       "\n",
       "                                                Link Review  \\\n",
       "0  https://www.indeed.com/pagead/clk?mo=r&ad=-6NY...      4   \n",
       "1  https://www.indeed.com/pagead/clk?mo=r&ad=-6NY...   None   \n",
       "2  https://www.indeed.com/pagead/clk?mo=r&ad=-6NY...   None   \n",
       "3  https://www.indeed.com/pagead/clk?mo=r&ad=-6NY...    3.8   \n",
       "4  https://www.indeed.com/pagead/clk?mo=r&ad=-6NY...    3.7   \n",
       "\n",
       "                  Salary                                        Description  \n",
       "0                   None  Description:Are you ready to take your career ...  \n",
       "1                   None  Overview I.M. Systems Group, Inc. (IMSG) is se...  \n",
       "2  Up to $215,000 a year  Position Requires a Top Secret (TS/SCI) Cleara...  \n",
       "3                   None  Are you passionate to work with the most valua...  \n",
       "4                   None  Description\\rJob Description:\\rThe Leidos Arti...  "
      ]
     },
     "execution_count": 3,
     "metadata": {},
     "output_type": "execute_result"
    }
   ],
   "source": [
    "df.head()"
   ]
  },
  {
   "cell_type": "code",
   "execution_count": 4,
   "metadata": {},
   "outputs": [],
   "source": [
    "df = df.drop('Unnamed: 0', axis=1)"
   ]
  },
  {
   "cell_type": "code",
   "execution_count": 5,
   "metadata": {},
   "outputs": [
    {
     "name": "stdout",
     "output_type": "stream",
     "text": [
      "<class 'pandas.core.frame.DataFrame'>\n",
      "RangeIndex: 12155 entries, 0 to 12154\n",
      "Data columns (total 7 columns):\n",
      "Title          12155 non-null object\n",
      "Company        12151 non-null object\n",
      "Location       12155 non-null object\n",
      "Link           12155 non-null object\n",
      "Review         12155 non-null object\n",
      "Salary         12155 non-null object\n",
      "Description    12155 non-null object\n",
      "dtypes: object(7)\n",
      "memory usage: 664.9+ KB\n"
     ]
    }
   ],
   "source": [
    "df.info()"
   ]
  },
  {
   "cell_type": "markdown",
   "metadata": {},
   "source": [
    "#### Remove Duplicates"
   ]
  },
  {
   "cell_type": "code",
   "execution_count": 6,
   "metadata": {},
   "outputs": [],
   "source": [
    "df2 = df.drop_duplicates(subset='Link', keep = 'first', inplace = False)"
   ]
  },
  {
   "cell_type": "code",
   "execution_count": 7,
   "metadata": {},
   "outputs": [
    {
     "name": "stdout",
     "output_type": "stream",
     "text": [
      "<class 'pandas.core.frame.DataFrame'>\n",
      "Int64Index: 7066 entries, 0 to 12034\n",
      "Data columns (total 7 columns):\n",
      "Title          7066 non-null object\n",
      "Company        7064 non-null object\n",
      "Location       7066 non-null object\n",
      "Link           7066 non-null object\n",
      "Review         7066 non-null object\n",
      "Salary         7066 non-null object\n",
      "Description    7066 non-null object\n",
      "dtypes: object(7)\n",
      "memory usage: 441.6+ KB\n"
     ]
    }
   ],
   "source": [
    "df2.info()"
   ]
  },
  {
   "cell_type": "code",
   "execution_count": 8,
   "metadata": {},
   "outputs": [],
   "source": [
    "df2.groupby('Location').count().sort_values(by='Salary', ascending=True);"
   ]
  },
  {
   "cell_type": "code",
   "execution_count": 9,
   "metadata": {},
   "outputs": [],
   "source": [
    "def rename_location(x):\n",
    "    if \"New York\" in x:\n",
    "        y = \"New York, NY\"\n",
    "    else: \n",
    "        y = x\n",
    "    return y"
   ]
  },
  {
   "cell_type": "code",
   "execution_count": 10,
   "metadata": {},
   "outputs": [
    {
     "name": "stderr",
     "output_type": "stream",
     "text": [
      "/Applications/anaconda3/lib/python3.7/site-packages/ipykernel_launcher.py:1: SettingWithCopyWarning: \n",
      "A value is trying to be set on a copy of a slice from a DataFrame.\n",
      "Try using .loc[row_indexer,col_indexer] = value instead\n",
      "\n",
      "See the caveats in the documentation: http://pandas.pydata.org/pandas-docs/stable/user_guide/indexing.html#returning-a-view-versus-a-copy\n",
      "  \"\"\"Entry point for launching an IPython kernel.\n"
     ]
    }
   ],
   "source": [
    "df2['Location2'] = df2['Location'].apply(rename_location)"
   ]
  },
  {
   "cell_type": "code",
   "execution_count": 11,
   "metadata": {},
   "outputs": [],
   "source": [
    "df2.to_csv(\"job_data_1.csv\")"
   ]
  },
  {
   "cell_type": "code",
   "execution_count": 12,
   "metadata": {},
   "outputs": [],
   "source": [
    "df2 = pd.read_csv(\"job_data_1.csv\")"
   ]
  },
  {
   "cell_type": "code",
   "execution_count": 13,
   "metadata": {
    "scrolled": true
   },
   "outputs": [
    {
     "data": {
      "text/plain": [
       "array(['None', 'Up to $215,000 a year', '$60,000 a year',\n",
       "       '$20 - $25 an hour', '$70,000 - $85,000 a year',\n",
       "       '$45 - $55 an hour', '$102,663 - $157,709 a year',\n",
       "       '$40 - $60 an hour', '$21.93 - $26.43 an hour',\n",
       "       '$40,000 - $60,000 a year', '$82,326 - $105,339 a year',\n",
       "       '$45 an hour', '$1,200 - $4,200 a month',\n",
       "       '$100,000 - $150,000 a year', '$140,000 - $175,000 a year',\n",
       "       '$67,968 - $126,062 a year', '$75 - $100 an hour',\n",
       "       '$121,316 - $157,709 a year', '$72,030 - $137,012 a year',\n",
       "       'Up to $125,000 a year', '$1,000 a month', '$130,000 a year',\n",
       "       '$27.17 - $36.60 an hour', '$120,000 - $170,000 a year',\n",
       "       'Up to $100,000 a year', '$120,000 - $150,000 a year',\n",
       "       '$40,000 - $50,000 a year', '$190,000 a year', '$20 - $27 an hour',\n",
       "       '$50 - $55 an hour', '$100,000 - $145,000 a year',\n",
       "       '$160,000 - $175,000 a year', '$70,000 - $80,000 a year',\n",
       "       '$85,000 - $165,000 a year', '$145,000 - $165,000 a year',\n",
       "       '$125,000 - $155,000 a year', '$100,000 - $200,000 a year',\n",
       "       '$80,000 - $130,000 a year', '$73,052 - $148,967 a year',\n",
       "       '$100,000 - $165,000 a year', '$67,093 - $122,310 a year',\n",
       "       '$40 - $45 an hour', '$16.83 - $21.62 an hour',\n",
       "       '$10 - $15 an hour', '$60 an hour', '$30,000 - $200,000 a year',\n",
       "       '$62,000 - $72,000 a year', '$70 - $75 an hour', nan,\n",
       "       '$88,744 - $162,767 a year', '$28 - $35 an hour',\n",
       "       '$71,548 - $205,939 a year', '$50,000 a year', '$27 - $31 an hour',\n",
       "       '$30 - $40 an hour', '$25 - $35 an hour',\n",
       "       '$60,000 - $85,000 a year', '$36,268 - $51,812 a year',\n",
       "       '$60,000 - $70,000 a year', '$85,000 a year',\n",
       "       '$25.00 - $32.50 an hour', '$65,000 - $75,000 a year',\n",
       "       '$175,000 a year', '$85,000 - $95,000 a year', '$50 - $60 an hour',\n",
       "       '$50,000 - $65,000 a year', '$70,000 a year',\n",
       "       '$51,004 - $62,338 a year', '$4,000 - $7,000 a month',\n",
       "       '$90,000 - $135,000 a year', '$35 - $40 an hour',\n",
       "       '$50,000 - $75,000 a year', '$22 - $39 an hour', '$45,000 a year',\n",
       "       '$63,000 a year', '$48,950 - $64,000 a year',\n",
       "       '$100,000 - $110,000 a year', '$57,000 - $65,000 a year',\n",
       "       '$93,964 a year', '$80,000 - $90,000 a year', '$17 an hour',\n",
       "       '$66,088 - $85,915 a year', '$100,000 - $125,000 a year',\n",
       "       '$53,917 - $120,874 a year', '$50,000 - $70,000 a year',\n",
       "       '$250,000 - $450,000 a year', '$250,000 - $400,000 a year',\n",
       "       '$88,000 - $118,000 a year', '$5,500 - $7,000 a month',\n",
       "       '$25 - $30 an hour', '$32.50 - $35.00 an hour', '$4,749 a month',\n",
       "       '$30,000 - $35,000 a year', '$80,000 - $84,000 a year',\n",
       "       '$70,000 - $76,000 a year', '$90 an hour',\n",
       "       '$50,000 - $60,000 a year', '$20 - $22 an hour',\n",
       "       '$4,917 - $7,400 a month', '$80,000 - $120,000 a year',\n",
       "       '$5,259 - $6,941 a month', '$65,000 - $85,000 a year',\n",
       "       '$75,000 - $85,000 a year', '$21 - $25 an hour',\n",
       "       '$4,917 - $6,489 a month', 'From $12 an hour', '$35 - $37 an hour',\n",
       "       '$40 - $50 an hour', '$4,917 - $8,060 a month',\n",
       "       '$45,000 - $65,000 a year', '$65 - $75 an hour',\n",
       "       '$73,675 - $101,317 a year', '$29 - $34 an hour',\n",
       "       '$120,000 - $180,000 a year', '$40,000 - $45,000 a year',\n",
       "       '$14 an hour', '$69,000 a year', '$89,700 - $148,800 a year',\n",
       "       '$80,700 - $131,500 a year', '$53,000 - $55,000 a year',\n",
       "       '$69,929 - $102,939 a year', '$115,000 - $160,000 a year',\n",
       "       '$90,000 - $110,000 a year', '$140,000 - $170,000 a year',\n",
       "       '$58,909 - $76,583 a year', '$60 - $65 an hour',\n",
       "       '$35 - $45 an hour', '$58,391 - $83,592 a year',\n",
       "       '$137,200 - $240,100 a year', '$110,000 - $113,000 a year',\n",
       "       '$71,102 - $104,970 a year', '$63,916 - $84,253 a year',\n",
       "       '$23 - $26 an hour', '$85,000 - $120,000 a year',\n",
       "       '$90 - $115 an hour', '$41,600 - $51,900 a year',\n",
       "       '$45,000 - $50,000 a year', '$52 an hour',\n",
       "       '$75,000 - $106,062 a year', '$15 an hour',\n",
       "       '$144,600 - $218,700 a year', '$35,000 - $45,000 a year',\n",
       "       '$104 - $105 an hour', '$70,000 - $90,000 a year',\n",
       "       '$95,400 - $121,800 a year', '$90,000 a year',\n",
       "       '$95,100 - $135,000 a year', '$80,000 - $160,000 a year',\n",
       "       '$90,000 - $130,000 a year', '$119,900 - $176,700 a year',\n",
       "       '$153,300 - $201,600 a year', '$150,000 a year', '$140,000 a year',\n",
       "       '$300,000 a year', '$120,000 - $175,000 a year', '$180,000 a year',\n",
       "       '$90,000 - $120,000 a year', '$166,200 - $218,700 a year',\n",
       "       '$53 - $60 an hour', '$145,000 a year', '$185,000 a year',\n",
       "       '$110,000 - $130,000 a year', '$70,000 - $75,000 a year',\n",
       "       '$29 - $30 an hour', '$33,960 - $57,493 a year',\n",
       "       '$65,000 - $70,000 a year', '$38,000 - $42,000 a year',\n",
       "       '$100,000 a year', '$34 - $35 an hour', '$40,300 - $87,457 a year',\n",
       "       '$9 - $13 an hour', '$16 - $23 an hour', '$7.25 an hour',\n",
       "       '$40 - $48 an hour', '$14 - $18 an hour', '$18 - $19 an hour',\n",
       "       '$38,000 - $46,000 a year', '$19 - $25 an hour',\n",
       "       '$65,000 - $80,000 a year', '$49.18 an hour',\n",
       "       '$60,000 - $80,000 a year', '$36,683 - $57,370 a year',\n",
       "       '$60,000 - $89,000 a year', '$98,000 - $125,000 a year',\n",
       "       '$42,935 a year', '$19.07 an hour', '$51 - $58 a day',\n",
       "       '$30 - $36 an hour', '$46,107 - $98,841 a year',\n",
       "       '$30 - $50 an hour', '$65,000 - $90,000 a year', '$105,000 a year',\n",
       "       '$46 - $50 an hour', '$16 - $20 an hour', '$15 - $18 an hour',\n",
       "       '$80,000 - $85,000 a year', '$60,000 - $110,000 a year',\n",
       "       '$35 - $55 an hour', '$25.04 - $31.02 an hour',\n",
       "       '$30 - $35 an hour', '$10 an hour', '$80,000 - $110,000 a year',\n",
       "       '$55,000 - $60,000 a year', '$22,607 a year',\n",
       "       '$90,000 - $100,000 a year', '$22 - $30 an hour',\n",
       "       '$36 - $38 an hour', '$120,000 - $160,000 a year',\n",
       "       '$70,000 - $140,000 a year', '$36 - $43 an hour',\n",
       "       '$85,000 - $200,000 a year', '$25 - $45 an hour',\n",
       "       '$40,000 - $130,000 a year', '$75,000 - $100,000 a year',\n",
       "       '$30 - $32 an hour', 'From $16 an hour',\n",
       "       '$80,000 - $105,000 a year', '$44,000 - $55,000 a year',\n",
       "       '$74,321 - $139,159 a year', '$100,000 - $160,000 a year',\n",
       "       '$50 - $65 an hour', '$18.92 - $28.38 an hour',\n",
       "       '$50,000 - $95,000 a year', '$76,000 - $110,000 a year',\n",
       "       '$60 - $75 an hour', '$75,200 a year', '$55,000 - $65,000 a year',\n",
       "       '$45 - $60 an hour', '$100,000 - $135,000 a year',\n",
       "       '$36.30 - $55.37 an hour', '$55 - $75 an hour', '$55 an hour',\n",
       "       '$70,000 - $95,000 a year', '$72,200 a year',\n",
       "       '$120,000 - $130,000 a year', '$75,100 a year', '$95,000 a year',\n",
       "       'From $69,415 a year', '$80,000 a year',\n",
       "       '$60,000 - $75,000 a year', '$11 - $12 an hour',\n",
       "       '$13 - $18 an hour', '$75 - $125 an hour', '$70 an hour',\n",
       "       '$55 - $60 an hour', '$99,357 - $226,108 a year',\n",
       "       '$110,000 - $150,000 a year', '$120,000 - $240,000 a year',\n",
       "       '$4,583 - $5,833 a month', '$7,224 - $8,623 a month',\n",
       "       '$65,000 a year', '$85,000 - $110,000 a year', '$50 an hour',\n",
       "       '$150,000 - $200,000 a year', '$110,000 a year', '$3,450 a month',\n",
       "       '$19 - $20 an hour', '$120,000 - $140,000 a year',\n",
       "       '$35,000 - $40,000 a year', '$15 - $20 an hour',\n",
       "       '$65,000 - $110,000 a year', '$25 - $72 an hour',\n",
       "       '$6,765 - $8,861 a month', '$140,000 - $180,000 a year',\n",
       "       '$80,000 - $95,000 a year', '$45 - $50 an hour',\n",
       "       '$100,000 - $120,000 a year', '$65 an hour', '$98 - $100 an hour',\n",
       "       '$60 - $80 an hour', '$20 an hour', '$79,047 - $101,662 a year',\n",
       "       '$25 - $27 an hour', '$27.40 an hour', '$62,865 - $80,827 a year',\n",
       "       '$65,428 - $84,671 a year', '$43,251 - $76,808 a year',\n",
       "       '$165,000 a year', '$35 - $38 an hour', '$47,305 - $60,315 a year',\n",
       "       '$17 - $20 an hour', '$51,038 - $61,445 a year',\n",
       "       '$69,267 - $89,058 a year', '$135,000 a year',\n",
       "       '$28,000 - $35,000 a year', '$93,442 - $127,413 a year',\n",
       "       '$30 an hour', '$28.31 - $36.80 an hour', '$80 an hour',\n",
       "       '$30 - $33 an hour', 'From $100,000 a year', '$50 - $85 an hour',\n",
       "       '$25 - $29 an hour', '$101,066 - $137,814 a year',\n",
       "       '$105,113 - $143,324 a year', '$14.75 - $25.00 an hour',\n",
       "       '$18 - $22 an hour', '$97,183 - $132,508 a year',\n",
       "       '$36,772 - $65,000 a year', '$20 - $30 an hour',\n",
       "       '$24 - $36 an hour', '$12 an hour', '$33,000 - $40,000 a year',\n",
       "       '$16 an hour', '$40,000 a year', 'Salary', '$42,000 a year',\n",
       "       'Up to $120,000 a year', 'From $13 an hour',\n",
       "       '$89,000 - $111,000 a year', '$77,000 - $97,000 a year',\n",
       "       '$83,500 - $95,000 a year', '$85,000 - $130,000 a year',\n",
       "       '$60,000 - $65,000 a year', '$40,000 - $65,000 a year',\n",
       "       '$24,000 - $30,000 a year', '$15 - $25 an hour',\n",
       "       '$225,000 - $500,000 a year', '$68,000 - $70,000 a year',\n",
       "       '$20 - $36 an hour', '$14 - $20 an hour', 'Up to $55,000 a year',\n",
       "       '$25 an hour', 'Up to $20 an hour', '$75,000 - $90,000 a year',\n",
       "       '$2,000 - $4,000 a month', '$48,000 a year', '$75,000 a year',\n",
       "       '$90,000 - $140,000 a year', '$125,000 - $135,000 a year',\n",
       "       '$49,390 - $113,900 a year', '$29 - $32 an hour',\n",
       "       '$69,000 - $100,000 a year', '$60,000 - $90,000 a year',\n",
       "       '$19 - $24 an hour', '$54,080 a year', '$25.91 an hour',\n",
       "       'Up to $5,000 a month', '$35,000 - $60,000 a year',\n",
       "       '$35,000 a year', '$2,500 - $5,000 a month',\n",
       "       '$45,000 - $60,000 a year', '$35,000 - $50,000 a year',\n",
       "       '$81,000 - $101,000 a year', '$95,000 - $115,000 a year',\n",
       "       '$60,000 - $120,000 a year', '$150,000 - $170,000 a year',\n",
       "       '$55,000 - $66,000 a year', '$16 - $19 an hour',\n",
       "       '$1,500 - $3,000 a month', '$125,000 - $150,000 a year',\n",
       "       '$112,950 - $149,900 a year', '$14 - $15 an hour',\n",
       "       '$45,000 - $55,000 a year', '$28 - $30 an hour', '$51.25 an hour',\n",
       "       '$55,287 - $105,988 a year', '$40 - $46 an hour',\n",
       "       '$15 - $17 an hour', '$81,299 - $101,623 a year',\n",
       "       '$48,000 - $50,000 a year', '$70 - $80 an hour',\n",
       "       '$55 - $65 an hour', '$58 an hour', '$155,000 - $160,000 a year',\n",
       "       '$59,509 - $85,000 a year', '$73,243 - $95,000 a year',\n",
       "       '$27 - $35 an hour', '$20 - $21 an hour',\n",
       "       '$59,000 - $70,000 a year', '$45 - $65 an hour',\n",
       "       '$55,473 - $68,898 a year', '$75,504 - $94,761 a year',\n",
       "       '$50,507 - $130,000 a year', '$59,816 - $128,299 a year',\n",
       "       '$54,100 - $64,419 a year', '$72,576 a year',\n",
       "       '$98,099 - $120,937 a year', 'Up to $126,086 a year',\n",
       "       '$50,000 - $55,000 a year', 'Up to $109,647 a year',\n",
       "       '$17 - $19 an hour', '$55 - $69 an hour',\n",
       "       '$110,000 - $180,000 a year', '$30.00 - $30.01 an hour',\n",
       "       '$60 - $63 an hour', '$140,000 - $160,000 a year',\n",
       "       '$125,000 - $175,000 a year', 'From $150,000 a year',\n",
       "       'Up to $150,000 a year', '$85,000 - $115,000 a year',\n",
       "       '$41 - $51 an hour', '$48 - $50 an hour',\n",
       "       '$180,000 - $210,000 a year', '$60,000 - $100,000 a year',\n",
       "       'Up to $10,000 a year', '$53,956 - $66,388 a year',\n",
       "       '$125,000 - $130,000 a year', '$109 an hour', '$120,000 a year',\n",
       "       'From $30 an hour', '$103 an hour', '$12.25 an hour',\n",
       "       '$165,000 - $220,000 a year', '$103,281 - $126,232 a year',\n",
       "       '$34.25 an hour', 'From $200,000 a year',\n",
       "       '$91,000 - $116,000 a year', '$40 an hour', '$110,000 a year ++',\n",
       "       '$90,000 - $95,000 a year', 'Up to $80,000 a year',\n",
       "       '$25 - $34 an hour', '$80,000 - $100,000 a year',\n",
       "       '$20,000 - $100,000 a year', '$40 - $80 an hour',\n",
       "       '$75 - $85 an hour', '$95,000 - $105,000 a year', '$26 an hour',\n",
       "       '$70,000 - $100,000 a year', '$21.85 - $25.30 an hour',\n",
       "       '$40,000 - $100,000 a year', '$97,360 - $126,571 a year',\n",
       "       '$130,000 - $150,000 a year', '$4,312 - $6,294 a month',\n",
       "       '$65 - $70 an hour', '$11.25 an hour', '$16 - $18 an hour',\n",
       "       '$64,866 - $68,889 a year', '$18 - $20 an hour',\n",
       "       '$40,000 - $55,000 a year', '$105,650 - $146,300 a year',\n",
       "       '$160,000 a year', '$14.25 an hour', '$115,050 - $149,562 a year',\n",
       "       '$53,738 - $65,017 a year', '$71,870 - $110,944 a year',\n",
       "       '$125,000 - $145,000 a year', '$129,761 - $168,693 a year',\n",
       "       '$56,459 - $68,309 a year', '$34 - $40 an hour',\n",
       "       '$40 - $55 an hour', '$46,156 - $59,999 a year', '$115,000 a year',\n",
       "       '$60 - $120 an hour', '$90,000 - $115,000 a year',\n",
       "       '$150,000 - $250,000 a year', '$150,000 - $225,000 a year',\n",
       "       '$200,000 a year', '$130,000 - $175,000 a year', '$195,000 a year',\n",
       "       '$160,000 - $200,000 a year', '$45.60 an hour',\n",
       "       '$70 - $90 an hour', '$200,000 - $350,000 a year',\n",
       "       '$220,000 a year', '$175,000 - $200,000 a year',\n",
       "       '$80,000 - $150,000 a year', '$40,000 - $70,000 a year',\n",
       "       '$160,000 - $225,000 a year', '$250,000 a year',\n",
       "       '$50,000 - $120,000 a year', '$61,930 - $162,227 a year',\n",
       "       '$85 - $90 an hour', '$125,000 - $240,000 a year',\n",
       "       '$23,000 a year', '$68,000 - $73,000 a year',\n",
       "       '$50,932 - $105,236 a year', '$37 - $45 an hour',\n",
       "       '$91,589 - $129,700 a year', '$100 - $110 an hour',\n",
       "       '$85,000 - $98,900 a year', '$75 an hour', '$77 - $87 an hour',\n",
       "       '$91,231 - $144,676 a year', '$104,286 - $131,196 a year',\n",
       "       '$50 - $75 an hour', '$43.31 - $54.48 an hour',\n",
       "       '$84,000 - $90,000 a year', '$60 - $70 an hour',\n",
       "       '$50.14 - $63.08 an hour', '$8,613 - $10,766 a month',\n",
       "       '$81.56 an hour', '$90,090 - $113,308 a year',\n",
       "       '$6,389 - $9,583 a month', '$48.19 - $60.63 an hour',\n",
       "       '$120,744 - $151,892 a year', '$102,770 - $154,150 a year',\n",
       "       '$50 - $66 an hour', '$28 - $38 an hour',\n",
       "       '$81,800 - $89,000 a year', '$50 - $70 an hour', '$4,217 a month',\n",
       "       '$50,400 - $55,200 a year', '$112,000 - $168,000 a year',\n",
       "       '$6,591 a month', '$11,000 - $15,000 a month',\n",
       "       '$45,000 - $70,000 a year', '$60 - $67 an hour',\n",
       "       '$42.59 - $51.76 an hour', '$16.35 an hour',\n",
       "       '$200,000 - $250,000 a year', '$50 - $80 an hour',\n",
       "       '$150,000 - $240,000 a year', 'From $13.50 an hour',\n",
       "       '$17 - $25 an hour', '$33.65 an hour',\n",
       "       '$130,000 - $140,000 a year', '$126,100 - $160,000 a year',\n",
       "       '$170,000 - $250,000 a year', '$130,000 - $180,000 a year',\n",
       "       '$150,000 - $180,000 a year', '$82,000 - $102,000 a year',\n",
       "       '$100,000 - $105,000 a year', '$64,535 - $83,897 a year',\n",
       "       '$58,429 - $75,958 a year', '$120,000 - $138,000 a year',\n",
       "       '$200,000 - $225,000 a year', '$19 - $23 an hour',\n",
       "       '$36,000 - $65,000 a year', '$15.75 an hour',\n",
       "       '$120,000 - $145,000 a year', '$115,000 - $140,000 a year',\n",
       "       '$55 - $58 an hour', '$111,098 - $140,823 a year',\n",
       "       '$17.00 - $19.50 an hour', '$50,000 - $62,000 a year',\n",
       "       '$48,500 - $59,000 a year', '$140,000 - $200,000 a year',\n",
       "       '$130,000 - $145,000 a year', '$44,000 - $48,000 a year',\n",
       "       '$41.15 - $52.16 an hour', '$44,000 - $56,000 a year',\n",
       "       '$85,629 - $128,433 a year', 'Up to $60 an hour',\n",
       "       '$99,736 - $120,744 a year', '$78,426 - $82,347 a year',\n",
       "       '$100 - $105 an hour', '$100,000 - $130,000 a year',\n",
       "       '$30 - $60 an hour', '$35 an hour', '$40 - $70 an hour',\n",
       "       '$120,000 - $200,000 a year', '$109,000 - $119,000 a year',\n",
       "       '$89,000 - $99,000 a year', '$108,000 - $118,000 a year'],\n",
       "      dtype=object)"
      ]
     },
     "execution_count": 13,
     "metadata": {},
     "output_type": "execute_result"
    }
   ],
   "source": [
    "df2.Salary.unique()"
   ]
  },
  {
   "cell_type": "markdown",
   "metadata": {},
   "source": [
    "#### Subset dataframe with Salary info"
   ]
  },
  {
   "cell_type": "code",
   "execution_count": 14,
   "metadata": {},
   "outputs": [],
   "source": [
    "salary_df = df2[df2['Salary']!= 'None'].drop(['Location','Unnamed: 0'], axis = 1)"
   ]
  },
  {
   "cell_type": "code",
   "execution_count": 15,
   "metadata": {},
   "outputs": [
    {
     "name": "stdout",
     "output_type": "stream",
     "text": [
      "<class 'pandas.core.frame.DataFrame'>\n",
      "Int64Index: 1162 entries, 2 to 7261\n",
      "Data columns (total 7 columns):\n",
      "Title          981 non-null object\n",
      "Company        964 non-null object\n",
      "Link           964 non-null object\n",
      "Review         964 non-null object\n",
      "Salary         964 non-null object\n",
      "Description    964 non-null object\n",
      "Location2      959 non-null object\n",
      "dtypes: object(7)\n",
      "memory usage: 72.6+ KB\n"
     ]
    }
   ],
   "source": [
    "salary_df.info()"
   ]
  },
  {
   "cell_type": "markdown",
   "metadata": {},
   "source": [
    "We have 964 jobs with salary info. Let's look at their titles."
   ]
  },
  {
   "cell_type": "code",
   "execution_count": 16,
   "metadata": {},
   "outputs": [],
   "source": [
    "salary_list = salary_df['Salary'].unique().tolist()"
   ]
  },
  {
   "cell_type": "markdown",
   "metadata": {},
   "source": [
    "##### Adjust Hourly and Daily Salary to Yearly"
   ]
  },
  {
   "cell_type": "code",
   "execution_count": 17,
   "metadata": {},
   "outputs": [],
   "source": [
    "def salary_base(x):\n",
    "    y=\"\"\n",
    "    if \"year\" in str(x):\n",
    "        y = \"Yearly\"\n",
    "    if \"hour\" in str(x):\n",
    "        y = \"Hourly\"\n",
    "    if \"day\" in str(x):\n",
    "        y = \"Daily\"\n",
    "    elif \"month\" in str(x):\n",
    "        y = \"Monthly\"\n",
    "    \n",
    "    return y\n",
    "        "
   ]
  },
  {
   "cell_type": "code",
   "execution_count": 18,
   "metadata": {},
   "outputs": [],
   "source": [
    "salary_df['Rate_by'] = salary_df['Salary'].apply(salary_base)"
   ]
  },
  {
   "cell_type": "code",
   "execution_count": 19,
   "metadata": {},
   "outputs": [],
   "source": [
    "salary_df = salary_df[salary_df['Rate_by']!=\"\"]"
   ]
  },
  {
   "cell_type": "code",
   "execution_count": 20,
   "metadata": {},
   "outputs": [],
   "source": [
    "indexNames = salary_df[salary_df['Rate_by']==\"\"].index\n",
    " \n",
    "# Delete these row indexes from dataFrame\n",
    "salary_df.drop(indexNames , inplace=True)"
   ]
  },
  {
   "cell_type": "code",
   "execution_count": 21,
   "metadata": {},
   "outputs": [],
   "source": [
    "salary_df.reset_index(drop=True);"
   ]
  },
  {
   "cell_type": "code",
   "execution_count": 22,
   "metadata": {},
   "outputs": [
    {
     "data": {
      "text/plain": [
       "Rate_by\n",
       "Daily        1\n",
       "Hourly     294\n",
       "Monthly     31\n",
       "Yearly     637\n",
       "Name: Salary, dtype: int64"
      ]
     },
     "execution_count": 22,
     "metadata": {},
     "output_type": "execute_result"
    }
   ],
   "source": [
    "salary_df.groupby('Rate_by').Salary.count()"
   ]
  },
  {
   "cell_type": "markdown",
   "metadata": {},
   "source": [
    "#### Split the cell and use regular expression to identify only numbers."
   ]
  },
  {
   "cell_type": "code",
   "execution_count": 23,
   "metadata": {},
   "outputs": [
    {
     "data": {
      "text/plain": [
       "['$69,415']"
      ]
     },
     "execution_count": 23,
     "metadata": {},
     "output_type": "execute_result"
    }
   ],
   "source": [
    "a = \"From $69,415 a year\" \n",
    "\n",
    "\n",
    "pattern = '\\$[0-9]*[.,]?[0-9]*'\n",
    "p = re.compile(pattern)\n",
    "digits = p.findall(a)\n",
    "digits"
   ]
  },
  {
   "cell_type": "code",
   "execution_count": 24,
   "metadata": {},
   "outputs": [],
   "source": [
    "salary_list;"
   ]
  },
  {
   "cell_type": "code",
   "execution_count": 25,
   "metadata": {},
   "outputs": [],
   "source": [
    "salary_df[['low','high']] = salary_df.Salary.str.split('-', expand=True)"
   ]
  },
  {
   "cell_type": "code",
   "execution_count": 26,
   "metadata": {},
   "outputs": [
    {
     "data": {
      "text/html": [
       "<div>\n",
       "<style scoped>\n",
       "    .dataframe tbody tr th:only-of-type {\n",
       "        vertical-align: middle;\n",
       "    }\n",
       "\n",
       "    .dataframe tbody tr th {\n",
       "        vertical-align: top;\n",
       "    }\n",
       "\n",
       "    .dataframe thead th {\n",
       "        text-align: right;\n",
       "    }\n",
       "</style>\n",
       "<table border=\"1\" class=\"dataframe\">\n",
       "  <thead>\n",
       "    <tr style=\"text-align: right;\">\n",
       "      <th></th>\n",
       "      <th>Rate_by</th>\n",
       "      <th>low</th>\n",
       "      <th>high</th>\n",
       "    </tr>\n",
       "  </thead>\n",
       "  <tbody>\n",
       "    <tr>\n",
       "      <th>2</th>\n",
       "      <td>Yearly</td>\n",
       "      <td>Up to $215,000 a year</td>\n",
       "      <td>None</td>\n",
       "    </tr>\n",
       "    <tr>\n",
       "      <th>6</th>\n",
       "      <td>Yearly</td>\n",
       "      <td>$60,000 a year</td>\n",
       "      <td>None</td>\n",
       "    </tr>\n",
       "    <tr>\n",
       "      <th>8</th>\n",
       "      <td>Hourly</td>\n",
       "      <td>$20</td>\n",
       "      <td>$25 an hour</td>\n",
       "    </tr>\n",
       "    <tr>\n",
       "      <th>11</th>\n",
       "      <td>Yearly</td>\n",
       "      <td>$70,000</td>\n",
       "      <td>$85,000 a year</td>\n",
       "    </tr>\n",
       "    <tr>\n",
       "      <th>16</th>\n",
       "      <td>Hourly</td>\n",
       "      <td>$45</td>\n",
       "      <td>$55 an hour</td>\n",
       "    </tr>\n",
       "    <tr>\n",
       "      <th>...</th>\n",
       "      <td>...</td>\n",
       "      <td>...</td>\n",
       "      <td>...</td>\n",
       "    </tr>\n",
       "    <tr>\n",
       "      <th>7192</th>\n",
       "      <td>Yearly</td>\n",
       "      <td>$108,000</td>\n",
       "      <td>$118,000 a year</td>\n",
       "    </tr>\n",
       "    <tr>\n",
       "      <th>7199</th>\n",
       "      <td>Yearly</td>\n",
       "      <td>$89,000</td>\n",
       "      <td>$99,000 a year</td>\n",
       "    </tr>\n",
       "    <tr>\n",
       "      <th>7208</th>\n",
       "      <td>Yearly</td>\n",
       "      <td>$89,000</td>\n",
       "      <td>$99,000 a year</td>\n",
       "    </tr>\n",
       "    <tr>\n",
       "      <th>7212</th>\n",
       "      <td>Yearly</td>\n",
       "      <td>$80,000</td>\n",
       "      <td>$90,000 a year</td>\n",
       "    </tr>\n",
       "    <tr>\n",
       "      <th>7261</th>\n",
       "      <td>Yearly</td>\n",
       "      <td>$70,000</td>\n",
       "      <td>$90,000 a year</td>\n",
       "    </tr>\n",
       "  </tbody>\n",
       "</table>\n",
       "<p>963 rows × 3 columns</p>\n",
       "</div>"
      ],
      "text/plain": [
       "     Rate_by                    low              high\n",
       "2     Yearly  Up to $215,000 a year              None\n",
       "6     Yearly         $60,000 a year              None\n",
       "8     Hourly                   $20        $25 an hour\n",
       "11    Yearly               $70,000     $85,000 a year\n",
       "16    Hourly                   $45        $55 an hour\n",
       "...      ...                    ...               ...\n",
       "7192  Yearly              $108,000    $118,000 a year\n",
       "7199  Yearly               $89,000     $99,000 a year\n",
       "7208  Yearly               $89,000     $99,000 a year\n",
       "7212  Yearly               $80,000     $90,000 a year\n",
       "7261  Yearly               $70,000     $90,000 a year\n",
       "\n",
       "[963 rows x 3 columns]"
      ]
     },
     "execution_count": 26,
     "metadata": {},
     "output_type": "execute_result"
    }
   ],
   "source": [
    "salary_df[['Rate_by','low','high']]"
   ]
  },
  {
   "cell_type": "code",
   "execution_count": 27,
   "metadata": {},
   "outputs": [],
   "source": [
    "def find_salary(a):\n",
    "    if a:\n",
    "        pattern = '\\$[0-9]*[.,]?[0-9]*'\n",
    "        p = re.compile(pattern)\n",
    "        digits = p.findall(a)\n",
    "        new1 = digits[0].replace(\"$\",\"\")\n",
    "        new2 = new1.replace(\",\",\"\")\n",
    "        \n",
    "        return float(new2)\n",
    "    else:\n",
    "        return 0"
   ]
  },
  {
   "cell_type": "code",
   "execution_count": 28,
   "metadata": {},
   "outputs": [],
   "source": [
    "salary_df['min'] = salary_df['low'].apply(find_salary)"
   ]
  },
  {
   "cell_type": "code",
   "execution_count": 29,
   "metadata": {},
   "outputs": [],
   "source": [
    "salary_df['max'] = salary_df['high'].apply(find_salary)"
   ]
  },
  {
   "cell_type": "code",
   "execution_count": 30,
   "metadata": {},
   "outputs": [],
   "source": [
    "salary_df.head();"
   ]
  },
  {
   "cell_type": "code",
   "execution_count": 31,
   "metadata": {},
   "outputs": [],
   "source": [
    "salary_df.to_csv(\"salary_df_5.20.csv\")"
   ]
  },
  {
   "cell_type": "markdown",
   "metadata": {},
   "source": [
    "#### Calculate the adjusted salary (turn all daily/hourly wage to yearly), use average"
   ]
  },
  {
   "cell_type": "code",
   "execution_count": 32,
   "metadata": {},
   "outputs": [],
   "source": [
    "#Calculate average salary\n",
    "def adjust_salary(a, b):\n",
    "    adjusted_salary=[]\n",
    "    for x, y in zip(a,b):\n",
    "        if y > 0:\n",
    "            avg_salary = (x+y)/2\n",
    "        \n",
    "        else:\n",
    "            avg_salary = x\n",
    "            \n",
    "        adjusted_salary.append(avg_salary)\n",
    "        \n",
    "    return adjusted_salary               "
   ]
  },
  {
   "cell_type": "code",
   "execution_count": 33,
   "metadata": {},
   "outputs": [],
   "source": [
    "salary_df['adjusted_salary'] = adjust_salary(salary_df['min'], salary_df['max'])"
   ]
  },
  {
   "cell_type": "code",
   "execution_count": 34,
   "metadata": {},
   "outputs": [],
   "source": [
    "#turn hourly, daily and monthly wage to yearly \n",
    "def adjust_salary2(m,n):\n",
    "    adjusted_yearly_salary = []\n",
    "    for x, y in zip(m,n):\n",
    "        if x == \"Yearly\":\n",
    "            yearly_salary = y\n",
    "        if x == \"Monthly\":\n",
    "            yearly_salary = y*12\n",
    "        if x == \"Hourly\":\n",
    "            yearly_salary = y*40*52\n",
    "        if x == \"Daily\":\n",
    "            yearly_salary = y*5*52\n",
    "            \n",
    "        adjusted_yearly_salary.append(yearly_salary)\n",
    "        \n",
    "    return adjusted_yearly_salary\n",
    "        "
   ]
  },
  {
   "cell_type": "code",
   "execution_count": 35,
   "metadata": {},
   "outputs": [],
   "source": [
    "salary_df['adjusted_yearly_salary'] = adjust_salary2(salary_df['Rate_by'], salary_df['adjusted_salary'])"
   ]
  },
  {
   "cell_type": "code",
   "execution_count": 36,
   "metadata": {},
   "outputs": [
    {
     "data": {
      "text/html": [
       "<div>\n",
       "<style scoped>\n",
       "    .dataframe tbody tr th:only-of-type {\n",
       "        vertical-align: middle;\n",
       "    }\n",
       "\n",
       "    .dataframe tbody tr th {\n",
       "        vertical-align: top;\n",
       "    }\n",
       "\n",
       "    .dataframe thead th {\n",
       "        text-align: right;\n",
       "    }\n",
       "</style>\n",
       "<table border=\"1\" class=\"dataframe\">\n",
       "  <thead>\n",
       "    <tr style=\"text-align: right;\">\n",
       "      <th></th>\n",
       "      <th>Title</th>\n",
       "      <th>Company</th>\n",
       "      <th>Link</th>\n",
       "      <th>Review</th>\n",
       "      <th>Salary</th>\n",
       "      <th>Description</th>\n",
       "      <th>Location2</th>\n",
       "      <th>Rate_by</th>\n",
       "      <th>low</th>\n",
       "      <th>high</th>\n",
       "      <th>min</th>\n",
       "      <th>max</th>\n",
       "      <th>adjusted_salary</th>\n",
       "      <th>adjusted_yearly_salary</th>\n",
       "    </tr>\n",
       "  </thead>\n",
       "  <tbody>\n",
       "    <tr>\n",
       "      <th>2</th>\n",
       "      <td>2021048 Data Scientist $215,000.00</td>\n",
       "      <td>B4CORP</td>\n",
       "      <td>https://www.indeed.com/pagead/clk?mo=r&amp;ad=-6NY...</td>\n",
       "      <td>None</td>\n",
       "      <td>Up to $215,000 a year</td>\n",
       "      <td>Position Requires a Top Secret (TS/SCI) Cleara...</td>\n",
       "      <td>Arlington, VA</td>\n",
       "      <td>Yearly</td>\n",
       "      <td>Up to $215,000 a year</td>\n",
       "      <td>None</td>\n",
       "      <td>215000.0</td>\n",
       "      <td>0.0</td>\n",
       "      <td>215000.0</td>\n",
       "      <td>215000.0</td>\n",
       "    </tr>\n",
       "    <tr>\n",
       "      <th>6</th>\n",
       "      <td>Data Science/Data Analyst</td>\n",
       "      <td>CRAiC LLC</td>\n",
       "      <td>https://www.indeed.com/company/CRAiC-LLC/jobs/...</td>\n",
       "      <td>None</td>\n",
       "      <td>$60,000 a year</td>\n",
       "      <td>Cost Readiness Analytics (CRAiC LLC) is lookin...</td>\n",
       "      <td>Arlington, VA</td>\n",
       "      <td>Yearly</td>\n",
       "      <td>$60,000 a year</td>\n",
       "      <td>None</td>\n",
       "      <td>60000.0</td>\n",
       "      <td>0.0</td>\n",
       "      <td>60000.0</td>\n",
       "      <td>60000.0</td>\n",
       "    </tr>\n",
       "    <tr>\n",
       "      <th>8</th>\n",
       "      <td>Data Science Intern</td>\n",
       "      <td>MilliporeSigma</td>\n",
       "      <td>https://www.indeed.com/company/Serono/jobs/Dat...</td>\n",
       "      <td>3.9</td>\n",
       "      <td>$20 - $25 an hour</td>\n",
       "      <td>Job Title: Data Science Intern\\rA career with ...</td>\n",
       "      <td>Arlington, VA</td>\n",
       "      <td>Hourly</td>\n",
       "      <td>$20</td>\n",
       "      <td>$25 an hour</td>\n",
       "      <td>20.0</td>\n",
       "      <td>25.0</td>\n",
       "      <td>22.5</td>\n",
       "      <td>46800.0</td>\n",
       "    </tr>\n",
       "    <tr>\n",
       "      <th>11</th>\n",
       "      <td>Jr. Data Scientist</td>\n",
       "      <td>Numero Data LLC</td>\n",
       "      <td>https://www.indeed.com/company/Numero-Data-LLC...</td>\n",
       "      <td>None</td>\n",
       "      <td>$70,000 - $85,000 a year</td>\n",
       "      <td>Ideal candidate should have a degree in a quan...</td>\n",
       "      <td>Arlington, VA</td>\n",
       "      <td>Yearly</td>\n",
       "      <td>$70,000</td>\n",
       "      <td>$85,000 a year</td>\n",
       "      <td>70000.0</td>\n",
       "      <td>85000.0</td>\n",
       "      <td>77500.0</td>\n",
       "      <td>77500.0</td>\n",
       "    </tr>\n",
       "    <tr>\n",
       "      <th>16</th>\n",
       "      <td>Business Data Quality Engineer</td>\n",
       "      <td>HRU Technical Resources</td>\n",
       "      <td>https://www.indeed.com/pagead/clk?mo=r&amp;ad=-6NY...</td>\n",
       "      <td>None</td>\n",
       "      <td>$45 - $55 an hour</td>\n",
       "      <td>Please note that this is not a corp to corp or...</td>\n",
       "      <td>Arlington, VA</td>\n",
       "      <td>Hourly</td>\n",
       "      <td>$45</td>\n",
       "      <td>$55 an hour</td>\n",
       "      <td>45.0</td>\n",
       "      <td>55.0</td>\n",
       "      <td>50.0</td>\n",
       "      <td>104000.0</td>\n",
       "    </tr>\n",
       "  </tbody>\n",
       "</table>\n",
       "</div>"
      ],
      "text/plain": [
       "                                 Title                  Company  \\\n",
       "2   2021048 Data Scientist $215,000.00                   B4CORP   \n",
       "6            Data Science/Data Analyst                CRAiC LLC   \n",
       "8                  Data Science Intern           MilliporeSigma   \n",
       "11                  Jr. Data Scientist          Numero Data LLC   \n",
       "16      Business Data Quality Engineer  HRU Technical Resources   \n",
       "\n",
       "                                                 Link Review  \\\n",
       "2   https://www.indeed.com/pagead/clk?mo=r&ad=-6NY...   None   \n",
       "6   https://www.indeed.com/company/CRAiC-LLC/jobs/...   None   \n",
       "8   https://www.indeed.com/company/Serono/jobs/Dat...    3.9   \n",
       "11  https://www.indeed.com/company/Numero-Data-LLC...   None   \n",
       "16  https://www.indeed.com/pagead/clk?mo=r&ad=-6NY...   None   \n",
       "\n",
       "                      Salary  \\\n",
       "2      Up to $215,000 a year   \n",
       "6             $60,000 a year   \n",
       "8          $20 - $25 an hour   \n",
       "11  $70,000 - $85,000 a year   \n",
       "16         $45 - $55 an hour   \n",
       "\n",
       "                                          Description      Location2 Rate_by  \\\n",
       "2   Position Requires a Top Secret (TS/SCI) Cleara...  Arlington, VA  Yearly   \n",
       "6   Cost Readiness Analytics (CRAiC LLC) is lookin...  Arlington, VA  Yearly   \n",
       "8   Job Title: Data Science Intern\\rA career with ...  Arlington, VA  Hourly   \n",
       "11  Ideal candidate should have a degree in a quan...  Arlington, VA  Yearly   \n",
       "16  Please note that this is not a corp to corp or...  Arlington, VA  Hourly   \n",
       "\n",
       "                      low             high       min      max  \\\n",
       "2   Up to $215,000 a year             None  215000.0      0.0   \n",
       "6          $60,000 a year             None   60000.0      0.0   \n",
       "8                    $20       $25 an hour      20.0     25.0   \n",
       "11               $70,000    $85,000 a year   70000.0  85000.0   \n",
       "16                   $45       $55 an hour      45.0     55.0   \n",
       "\n",
       "    adjusted_salary  adjusted_yearly_salary  \n",
       "2          215000.0                215000.0  \n",
       "6           60000.0                 60000.0  \n",
       "8              22.5                 46800.0  \n",
       "11          77500.0                 77500.0  \n",
       "16             50.0                104000.0  "
      ]
     },
     "execution_count": 36,
     "metadata": {},
     "output_type": "execute_result"
    }
   ],
   "source": [
    "salary_df.head()"
   ]
  },
  {
   "cell_type": "markdown",
   "metadata": {},
   "source": [
    "#### Join with Cost of Living Index"
   ]
  },
  {
   "cell_type": "code",
   "execution_count": 37,
   "metadata": {},
   "outputs": [],
   "source": [
    "COI = pd.read_excel(\"CostofLiving2020.xlsx\")"
   ]
  },
  {
   "cell_type": "code",
   "execution_count": 38,
   "metadata": {},
   "outputs": [
    {
     "data": {
      "text/html": [
       "<div>\n",
       "<style scoped>\n",
       "    .dataframe tbody tr th:only-of-type {\n",
       "        vertical-align: middle;\n",
       "    }\n",
       "\n",
       "    .dataframe tbody tr th {\n",
       "        vertical-align: top;\n",
       "    }\n",
       "\n",
       "    .dataframe thead th {\n",
       "        text-align: right;\n",
       "    }\n",
       "</style>\n",
       "<table border=\"1\" class=\"dataframe\">\n",
       "  <thead>\n",
       "    <tr style=\"text-align: right;\">\n",
       "      <th></th>\n",
       "      <th>Rank</th>\n",
       "      <th>City</th>\n",
       "      <th>Cost of Living Index</th>\n",
       "      <th>Rent Index</th>\n",
       "      <th>Cost of Living Plus Rent Index</th>\n",
       "      <th>Groceries Index</th>\n",
       "      <th>Restaurant Price Index</th>\n",
       "      <th>Local Purchasing Power Index</th>\n",
       "    </tr>\n",
       "  </thead>\n",
       "  <tbody>\n",
       "    <tr>\n",
       "      <th>0</th>\n",
       "      <td>1</td>\n",
       "      <td>New York, NY</td>\n",
       "      <td>100.00</td>\n",
       "      <td>100.00</td>\n",
       "      <td>100.00</td>\n",
       "      <td>100.00</td>\n",
       "      <td>100.00</td>\n",
       "      <td>100.00</td>\n",
       "    </tr>\n",
       "    <tr>\n",
       "      <th>1</th>\n",
       "      <td>2</td>\n",
       "      <td>San Francisco, CA</td>\n",
       "      <td>91.51</td>\n",
       "      <td>115.58</td>\n",
       "      <td>103.02</td>\n",
       "      <td>86.91</td>\n",
       "      <td>94.45</td>\n",
       "      <td>135.90</td>\n",
       "    </tr>\n",
       "    <tr>\n",
       "      <th>2</th>\n",
       "      <td>3</td>\n",
       "      <td>Anchorage, AK</td>\n",
       "      <td>91.36</td>\n",
       "      <td>38.94</td>\n",
       "      <td>66.29</td>\n",
       "      <td>88.42</td>\n",
       "      <td>78.89</td>\n",
       "      <td>118.44</td>\n",
       "    </tr>\n",
       "    <tr>\n",
       "      <th>3</th>\n",
       "      <td>4</td>\n",
       "      <td>Honolulu, HI</td>\n",
       "      <td>89.70</td>\n",
       "      <td>63.03</td>\n",
       "      <td>76.94</td>\n",
       "      <td>89.83</td>\n",
       "      <td>83.60</td>\n",
       "      <td>88.29</td>\n",
       "    </tr>\n",
       "    <tr>\n",
       "      <th>4</th>\n",
       "      <td>5</td>\n",
       "      <td>Brooklyn, NY</td>\n",
       "      <td>88.82</td>\n",
       "      <td>80.49</td>\n",
       "      <td>84.84</td>\n",
       "      <td>83.22</td>\n",
       "      <td>92.77</td>\n",
       "      <td>92.95</td>\n",
       "    </tr>\n",
       "  </tbody>\n",
       "</table>\n",
       "</div>"
      ],
      "text/plain": [
       "   Rank                City  Cost of Living Index  Rent Index  \\\n",
       "0     1       New York, NY                 100.00      100.00   \n",
       "1     2  San Francisco, CA                  91.51      115.58   \n",
       "2     3      Anchorage, AK                  91.36       38.94   \n",
       "3     4       Honolulu, HI                  89.70       63.03   \n",
       "4     5       Brooklyn, NY                  88.82       80.49   \n",
       "\n",
       "   Cost of Living Plus Rent Index  Groceries Index  Restaurant Price Index  \\\n",
       "0                          100.00           100.00                  100.00   \n",
       "1                          103.02            86.91                   94.45   \n",
       "2                           66.29            88.42                   78.89   \n",
       "3                           76.94            89.83                   83.60   \n",
       "4                           84.84            83.22                   92.77   \n",
       "\n",
       "   Local Purchasing Power Index  \n",
       "0                        100.00  \n",
       "1                        135.90  \n",
       "2                        118.44  \n",
       "3                         88.29  \n",
       "4                         92.95  "
      ]
     },
     "execution_count": 38,
     "metadata": {},
     "output_type": "execute_result"
    }
   ],
   "source": [
    "COI.head()"
   ]
  },
  {
   "cell_type": "code",
   "execution_count": null,
   "metadata": {},
   "outputs": [],
   "source": [
    "salary_df2 = salary_df.join(COI)"
   ]
  },
  {
   "cell_type": "markdown",
   "metadata": {},
   "source": [
    "### Helper Functions to deal with text data"
   ]
  },
  {
   "cell_type": "markdown",
   "metadata": {},
   "source": [
    "* Do we remove stop words or not?\n",
    "* Do we stem or lemmatize our text data, or leave the words as is?\n",
    "* Is basic tokenization enough, or do we need to support special edge cases through the use of regex?\n",
    "* Do we use the entire vocabulary, or just limit the model to a subset of the most frequently used words? If so, how many?\n",
    "* Do we engineer other features, such as bigrams, or POS tags, or Mutual Information Scores?\n",
    "* What sort of vectorization should we use in our model? Boolean Vectorization? Count Vectorization? TF-IDF? More advanced vectorization strategies such as Word2Vec?"
   ]
  },
  {
   "cell_type": "code",
   "execution_count": 2,
   "metadata": {},
   "outputs": [],
   "source": [
    "salary_df = pd.read_csv(\"salary_final.csv\")"
   ]
  },
  {
   "cell_type": "code",
   "execution_count": 3,
   "metadata": {},
   "outputs": [
    {
     "data": {
      "text/html": [
       "<div>\n",
       "<style scoped>\n",
       "    .dataframe tbody tr th:only-of-type {\n",
       "        vertical-align: middle;\n",
       "    }\n",
       "\n",
       "    .dataframe tbody tr th {\n",
       "        vertical-align: top;\n",
       "    }\n",
       "\n",
       "    .dataframe thead th {\n",
       "        text-align: right;\n",
       "    }\n",
       "</style>\n",
       "<table border=\"1\" class=\"dataframe\">\n",
       "  <thead>\n",
       "    <tr style=\"text-align: right;\">\n",
       "      <th></th>\n",
       "      <th>Unnamed: 0</th>\n",
       "      <th>Title</th>\n",
       "      <th>Company</th>\n",
       "      <th>Link</th>\n",
       "      <th>Review</th>\n",
       "      <th>Salary</th>\n",
       "      <th>Description</th>\n",
       "      <th>Location2</th>\n",
       "      <th>Rate_by</th>\n",
       "      <th>low</th>\n",
       "      <th>high</th>\n",
       "      <th>min</th>\n",
       "      <th>max</th>\n",
       "      <th>adjusted_salary</th>\n",
       "      <th>adjusted_yearly_salary</th>\n",
       "    </tr>\n",
       "  </thead>\n",
       "  <tbody>\n",
       "    <tr>\n",
       "      <th>0</th>\n",
       "      <td>2</td>\n",
       "      <td>2021048 Data Scientist $215,000.00</td>\n",
       "      <td>B4CORP</td>\n",
       "      <td>https://www.indeed.com/pagead/clk?mo=r&amp;ad=-6NY...</td>\n",
       "      <td>None</td>\n",
       "      <td>Up to $215,000 a year</td>\n",
       "      <td>Position Requires a Top Secret (TS/SCI) Cleara...</td>\n",
       "      <td>Arlington, VA</td>\n",
       "      <td>Yearly</td>\n",
       "      <td>Up to $215,000 a year</td>\n",
       "      <td>NaN</td>\n",
       "      <td>215000.0</td>\n",
       "      <td>0.0</td>\n",
       "      <td>215000.0</td>\n",
       "      <td>215000.0</td>\n",
       "    </tr>\n",
       "    <tr>\n",
       "      <th>1</th>\n",
       "      <td>6</td>\n",
       "      <td>Data Science/Data Analyst</td>\n",
       "      <td>CRAiC LLC</td>\n",
       "      <td>https://www.indeed.com/company/CRAiC-LLC/jobs/...</td>\n",
       "      <td>None</td>\n",
       "      <td>$60,000 a year</td>\n",
       "      <td>Cost Readiness Analytics (CRAiC LLC) is lookin...</td>\n",
       "      <td>Arlington, VA</td>\n",
       "      <td>Yearly</td>\n",
       "      <td>$60,000 a year</td>\n",
       "      <td>NaN</td>\n",
       "      <td>60000.0</td>\n",
       "      <td>0.0</td>\n",
       "      <td>60000.0</td>\n",
       "      <td>60000.0</td>\n",
       "    </tr>\n",
       "    <tr>\n",
       "      <th>2</th>\n",
       "      <td>8</td>\n",
       "      <td>Data Science Intern</td>\n",
       "      <td>MilliporeSigma</td>\n",
       "      <td>https://www.indeed.com/company/Serono/jobs/Dat...</td>\n",
       "      <td>3.9</td>\n",
       "      <td>$20 - $25 an hour</td>\n",
       "      <td>Job Title: Data Science Intern\\rA career with ...</td>\n",
       "      <td>Arlington, VA</td>\n",
       "      <td>Hourly</td>\n",
       "      <td>$20</td>\n",
       "      <td>$25 an hour</td>\n",
       "      <td>20.0</td>\n",
       "      <td>25.0</td>\n",
       "      <td>22.5</td>\n",
       "      <td>46800.0</td>\n",
       "    </tr>\n",
       "    <tr>\n",
       "      <th>3</th>\n",
       "      <td>11</td>\n",
       "      <td>Jr. Data Scientist</td>\n",
       "      <td>Numero Data LLC</td>\n",
       "      <td>https://www.indeed.com/company/Numero-Data-LLC...</td>\n",
       "      <td>None</td>\n",
       "      <td>$70,000 - $85,000 a year</td>\n",
       "      <td>Ideal candidate should have a degree in a quan...</td>\n",
       "      <td>Arlington, VA</td>\n",
       "      <td>Yearly</td>\n",
       "      <td>$70,000</td>\n",
       "      <td>$85,000 a year</td>\n",
       "      <td>70000.0</td>\n",
       "      <td>85000.0</td>\n",
       "      <td>77500.0</td>\n",
       "      <td>77500.0</td>\n",
       "    </tr>\n",
       "    <tr>\n",
       "      <th>4</th>\n",
       "      <td>16</td>\n",
       "      <td>Business Data Quality Engineer</td>\n",
       "      <td>HRU Technical Resources</td>\n",
       "      <td>https://www.indeed.com/pagead/clk?mo=r&amp;ad=-6NY...</td>\n",
       "      <td>None</td>\n",
       "      <td>$45 - $55 an hour</td>\n",
       "      <td>Please note that this is not a corp to corp or...</td>\n",
       "      <td>Arlington, VA</td>\n",
       "      <td>Hourly</td>\n",
       "      <td>$45</td>\n",
       "      <td>$55 an hour</td>\n",
       "      <td>45.0</td>\n",
       "      <td>55.0</td>\n",
       "      <td>50.0</td>\n",
       "      <td>104000.0</td>\n",
       "    </tr>\n",
       "  </tbody>\n",
       "</table>\n",
       "</div>"
      ],
      "text/plain": [
       "   Unnamed: 0                               Title                  Company  \\\n",
       "0           2  2021048 Data Scientist $215,000.00                   B4CORP   \n",
       "1           6           Data Science/Data Analyst                CRAiC LLC   \n",
       "2           8                 Data Science Intern           MilliporeSigma   \n",
       "3          11                  Jr. Data Scientist          Numero Data LLC   \n",
       "4          16      Business Data Quality Engineer  HRU Technical Resources   \n",
       "\n",
       "                                                Link Review  \\\n",
       "0  https://www.indeed.com/pagead/clk?mo=r&ad=-6NY...   None   \n",
       "1  https://www.indeed.com/company/CRAiC-LLC/jobs/...   None   \n",
       "2  https://www.indeed.com/company/Serono/jobs/Dat...    3.9   \n",
       "3  https://www.indeed.com/company/Numero-Data-LLC...   None   \n",
       "4  https://www.indeed.com/pagead/clk?mo=r&ad=-6NY...   None   \n",
       "\n",
       "                     Salary  \\\n",
       "0     Up to $215,000 a year   \n",
       "1            $60,000 a year   \n",
       "2         $20 - $25 an hour   \n",
       "3  $70,000 - $85,000 a year   \n",
       "4         $45 - $55 an hour   \n",
       "\n",
       "                                         Description      Location2 Rate_by  \\\n",
       "0  Position Requires a Top Secret (TS/SCI) Cleara...  Arlington, VA  Yearly   \n",
       "1  Cost Readiness Analytics (CRAiC LLC) is lookin...  Arlington, VA  Yearly   \n",
       "2  Job Title: Data Science Intern\\rA career with ...  Arlington, VA  Hourly   \n",
       "3  Ideal candidate should have a degree in a quan...  Arlington, VA  Yearly   \n",
       "4  Please note that this is not a corp to corp or...  Arlington, VA  Hourly   \n",
       "\n",
       "                     low             high       min      max  adjusted_salary  \\\n",
       "0  Up to $215,000 a year              NaN  215000.0      0.0         215000.0   \n",
       "1         $60,000 a year              NaN   60000.0      0.0          60000.0   \n",
       "2                   $20       $25 an hour      20.0     25.0             22.5   \n",
       "3               $70,000    $85,000 a year   70000.0  85000.0          77500.0   \n",
       "4                   $45       $55 an hour      45.0     55.0             50.0   \n",
       "\n",
       "   adjusted_yearly_salary  \n",
       "0                215000.0  \n",
       "1                 60000.0  \n",
       "2                 46800.0  \n",
       "3                 77500.0  \n",
       "4                104000.0  "
      ]
     },
     "execution_count": 3,
     "metadata": {},
     "output_type": "execute_result"
    }
   ],
   "source": [
    "salary_df.head()"
   ]
  },
  {
   "cell_type": "code",
   "execution_count": 4,
   "metadata": {},
   "outputs": [],
   "source": [
    "def clean_word(job_descriptions):\n",
    "    jd_data=[]\n",
    "    pattern = \"([a-zA-Z]+(?:'[a-z]+)?)\"\n",
    "    stopwords_list = stopwords.words('english')\n",
    "    stopwords_list += list(string.punctuation)\n",
    "    stopwords_list += ['0', '1', '2', '3', '4', '5', '6', '7', '8', '9']\n",
    "    \n",
    "    for jd in job_descriptions:\n",
    "        jd_tokens_raw = nltk.regexp_tokenize(jd, pattern)\n",
    "        jd_tokens=[word.lower() for word in jd_tokens_raw]\n",
    "        jd_words_stopped = [word for word in jd_tokens if word not in stopwords_list]\n",
    "        jd_data.append(jd_words_stopped)\n",
    "    return pd.Series(jd_data) # Turn list of lists to series of lists to use in Word2Vec"
   ]
  },
  {
   "cell_type": "code",
   "execution_count": 5,
   "metadata": {},
   "outputs": [],
   "source": [
    "#Combine Title with the Description\n",
    "salary_df['combined_text'] = salary_df['Title'].str.cat(salary_df['Description'], sep = ' ')"
   ]
  },
  {
   "cell_type": "code",
   "execution_count": null,
   "metadata": {},
   "outputs": [],
   "source": []
  },
  {
   "cell_type": "code",
   "execution_count": null,
   "metadata": {},
   "outputs": [],
   "source": []
  },
  {
   "cell_type": "code",
   "execution_count": null,
   "metadata": {},
   "outputs": [],
   "source": []
  }
 ],
 "metadata": {
  "kernelspec": {
   "display_name": "Python 3",
   "language": "python",
   "name": "python3"
  },
  "language_info": {
   "codemirror_mode": {
    "name": "ipython",
    "version": 3
   },
   "file_extension": ".py",
   "mimetype": "text/x-python",
   "name": "python",
   "nbconvert_exporter": "python",
   "pygments_lexer": "ipython3",
   "version": "3.7.1"
  },
  "toc": {
   "base_numbering": 1,
   "nav_menu": {},
   "number_sections": true,
   "sideBar": true,
   "skip_h1_title": false,
   "title_cell": "Table of Contents",
   "title_sidebar": "Contents",
   "toc_cell": false,
   "toc_position": {
    "height": "calc(100% - 180px)",
    "left": "10px",
    "top": "150px",
    "width": "165px"
   },
   "toc_section_display": true,
   "toc_window_display": true
  },
  "varInspector": {
   "cols": {
    "lenName": "20",
    "lenType": 16,
    "lenVar": 40
   },
   "kernels_config": {
    "python": {
     "delete_cmd_postfix": "",
     "delete_cmd_prefix": "del ",
     "library": "var_list.py",
     "varRefreshCmd": "print(var_dic_list())"
    },
    "r": {
     "delete_cmd_postfix": ") ",
     "delete_cmd_prefix": "rm(",
     "library": "var_list.r",
     "varRefreshCmd": "cat(var_dic_list()) "
    }
   },
   "position": {
    "height": "467px",
    "left": "1550px",
    "right": "20px",
    "top": "120px",
    "width": "350px"
   },
   "types_to_exclude": [
    "module",
    "function",
    "builtin_function_or_method",
    "instance",
    "_Feature"
   ],
   "window_display": true
  }
 },
 "nbformat": 4,
 "nbformat_minor": 2
}
