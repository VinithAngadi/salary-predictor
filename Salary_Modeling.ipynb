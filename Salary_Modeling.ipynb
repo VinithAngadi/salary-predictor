{
 "cells": [
  {
   "cell_type": "markdown",
   "metadata": {},
   "source": [
    "# Modeling"
   ]
  },
  {
   "cell_type": "markdown",
   "metadata": {},
   "source": [
    "## Import Libraries and the final salary data set"
   ]
  },
  {
   "cell_type": "code",
   "execution_count": 18,
   "metadata": {},
   "outputs": [],
   "source": [
    "import time\n",
    "import nltk\n",
    "from nltk.corpus import stopwords\n",
    "\n",
    "from nltk import word_tokenize, FreqDist\n",
    "from nltk.corpus import stopwords\n",
    "from nltk.collocations import *\n",
    "import string, re\n",
    "\n",
    "from gensim.models import Word2Vec\n",
    "\n",
    "from sklearn.manifold import TSNE\n",
    "from sklearn.feature_extraction.text import TfidfVectorizer\n",
    "from sklearn.model_selection import train_test_split\n",
    "\n",
    "import pandas as pd\n",
    "import numpy as np\n",
    "import matplotlib.pyplot as plt\n",
    "%matplotlib inline\n",
    "np.random.seed(0)"
   ]
  },
  {
   "cell_type": "code",
   "execution_count": 19,
   "metadata": {},
   "outputs": [],
   "source": [
    "salary_df = pd.read_csv(\"salary_final.csv\")"
   ]
  },
  {
   "cell_type": "code",
   "execution_count": 20,
   "metadata": {},
   "outputs": [
    {
     "data": {
      "text/html": [
       "<div>\n",
       "<style scoped>\n",
       "    .dataframe tbody tr th:only-of-type {\n",
       "        vertical-align: middle;\n",
       "    }\n",
       "\n",
       "    .dataframe tbody tr th {\n",
       "        vertical-align: top;\n",
       "    }\n",
       "\n",
       "    .dataframe thead th {\n",
       "        text-align: right;\n",
       "    }\n",
       "</style>\n",
       "<table border=\"1\" class=\"dataframe\">\n",
       "  <thead>\n",
       "    <tr style=\"text-align: right;\">\n",
       "      <th></th>\n",
       "      <th>Unnamed: 0</th>\n",
       "      <th>Unnamed: 0.1</th>\n",
       "      <th>Title</th>\n",
       "      <th>Company</th>\n",
       "      <th>Link</th>\n",
       "      <th>Review</th>\n",
       "      <th>Salary</th>\n",
       "      <th>Description</th>\n",
       "      <th>Location2</th>\n",
       "      <th>Rate_by</th>\n",
       "      <th>...</th>\n",
       "      <th>adjusted_yearly_salary</th>\n",
       "      <th>Rank</th>\n",
       "      <th>City</th>\n",
       "      <th>Cost of Living Index</th>\n",
       "      <th>Rent Index</th>\n",
       "      <th>Cost of Living Plus Rent Index</th>\n",
       "      <th>Groceries Index</th>\n",
       "      <th>Restaurant Price Index</th>\n",
       "      <th>Local Purchasing Power Index</th>\n",
       "      <th>combined_text</th>\n",
       "    </tr>\n",
       "  </thead>\n",
       "  <tbody>\n",
       "    <tr>\n",
       "      <th>0</th>\n",
       "      <td>0</td>\n",
       "      <td>2</td>\n",
       "      <td>2021048 Data Scientist $215,000.00</td>\n",
       "      <td>B4CORP</td>\n",
       "      <td>https://www.indeed.com/pagead/clk?mo=r&amp;ad=-6NY...</td>\n",
       "      <td>None</td>\n",
       "      <td>Up to $215,000 a year</td>\n",
       "      <td>Position Requires a Top Secret (TS/SCI) Cleara...</td>\n",
       "      <td>Arlington, VA</td>\n",
       "      <td>Yearly</td>\n",
       "      <td>...</td>\n",
       "      <td>215000.0</td>\n",
       "      <td>36.0</td>\n",
       "      <td>Arlington, VA</td>\n",
       "      <td>80.159143</td>\n",
       "      <td>58.838571</td>\n",
       "      <td>69.961143</td>\n",
       "      <td>76.886286</td>\n",
       "      <td>78.608571</td>\n",
       "      <td>115.594571</td>\n",
       "      <td>2021048 Data Scientist $215,000.00 Position Re...</td>\n",
       "    </tr>\n",
       "    <tr>\n",
       "      <th>1</th>\n",
       "      <td>1</td>\n",
       "      <td>2</td>\n",
       "      <td>2021048 Data Scientist $215,000.00</td>\n",
       "      <td>B4CORP</td>\n",
       "      <td>https://www.indeed.com/pagead/clk?mo=r&amp;ad=-6NY...</td>\n",
       "      <td>None</td>\n",
       "      <td>Up to $215,000 a year</td>\n",
       "      <td>Position Requires a Top Secret (TS/SCI) Cleara...</td>\n",
       "      <td>Arlington, VA</td>\n",
       "      <td>Yearly</td>\n",
       "      <td>...</td>\n",
       "      <td>215000.0</td>\n",
       "      <td>61.0</td>\n",
       "      <td>Arlington, VA</td>\n",
       "      <td>67.200000</td>\n",
       "      <td>33.880000</td>\n",
       "      <td>51.260000</td>\n",
       "      <td>59.130000</td>\n",
       "      <td>76.440000</td>\n",
       "      <td>112.570000</td>\n",
       "      <td>2021048 Data Scientist $215,000.00 Position Re...</td>\n",
       "    </tr>\n",
       "    <tr>\n",
       "      <th>2</th>\n",
       "      <td>2</td>\n",
       "      <td>6</td>\n",
       "      <td>Data Science/Data Analyst</td>\n",
       "      <td>CRAiC LLC</td>\n",
       "      <td>https://www.indeed.com/company/CRAiC-LLC/jobs/...</td>\n",
       "      <td>None</td>\n",
       "      <td>$60,000 a year</td>\n",
       "      <td>Cost Readiness Analytics (CRAiC LLC) is lookin...</td>\n",
       "      <td>Arlington, VA</td>\n",
       "      <td>Yearly</td>\n",
       "      <td>...</td>\n",
       "      <td>60000.0</td>\n",
       "      <td>36.0</td>\n",
       "      <td>Arlington, VA</td>\n",
       "      <td>80.159143</td>\n",
       "      <td>58.838571</td>\n",
       "      <td>69.961143</td>\n",
       "      <td>76.886286</td>\n",
       "      <td>78.608571</td>\n",
       "      <td>115.594571</td>\n",
       "      <td>Data Science/Data Analyst Cost Readiness Analy...</td>\n",
       "    </tr>\n",
       "    <tr>\n",
       "      <th>3</th>\n",
       "      <td>3</td>\n",
       "      <td>6</td>\n",
       "      <td>Data Science/Data Analyst</td>\n",
       "      <td>CRAiC LLC</td>\n",
       "      <td>https://www.indeed.com/company/CRAiC-LLC/jobs/...</td>\n",
       "      <td>None</td>\n",
       "      <td>$60,000 a year</td>\n",
       "      <td>Cost Readiness Analytics (CRAiC LLC) is lookin...</td>\n",
       "      <td>Arlington, VA</td>\n",
       "      <td>Yearly</td>\n",
       "      <td>...</td>\n",
       "      <td>60000.0</td>\n",
       "      <td>61.0</td>\n",
       "      <td>Arlington, VA</td>\n",
       "      <td>67.200000</td>\n",
       "      <td>33.880000</td>\n",
       "      <td>51.260000</td>\n",
       "      <td>59.130000</td>\n",
       "      <td>76.440000</td>\n",
       "      <td>112.570000</td>\n",
       "      <td>Data Science/Data Analyst Cost Readiness Analy...</td>\n",
       "    </tr>\n",
       "    <tr>\n",
       "      <th>4</th>\n",
       "      <td>4</td>\n",
       "      <td>8</td>\n",
       "      <td>Data Science Intern</td>\n",
       "      <td>MilliporeSigma</td>\n",
       "      <td>https://www.indeed.com/company/Serono/jobs/Dat...</td>\n",
       "      <td>3.9</td>\n",
       "      <td>$20 - $25 an hour</td>\n",
       "      <td>Job Title: Data Science Intern\\rA career with ...</td>\n",
       "      <td>Arlington, VA</td>\n",
       "      <td>Hourly</td>\n",
       "      <td>...</td>\n",
       "      <td>46800.0</td>\n",
       "      <td>36.0</td>\n",
       "      <td>Arlington, VA</td>\n",
       "      <td>80.159143</td>\n",
       "      <td>58.838571</td>\n",
       "      <td>69.961143</td>\n",
       "      <td>76.886286</td>\n",
       "      <td>78.608571</td>\n",
       "      <td>115.594571</td>\n",
       "      <td>Data Science Intern Job Title: Data Science In...</td>\n",
       "    </tr>\n",
       "  </tbody>\n",
       "</table>\n",
       "<p>5 rows × 25 columns</p>\n",
       "</div>"
      ],
      "text/plain": [
       "   Unnamed: 0  Unnamed: 0.1                               Title  \\\n",
       "0           0             2  2021048 Data Scientist $215,000.00   \n",
       "1           1             2  2021048 Data Scientist $215,000.00   \n",
       "2           2             6           Data Science/Data Analyst   \n",
       "3           3             6           Data Science/Data Analyst   \n",
       "4           4             8                 Data Science Intern   \n",
       "\n",
       "          Company                                               Link Review  \\\n",
       "0          B4CORP  https://www.indeed.com/pagead/clk?mo=r&ad=-6NY...   None   \n",
       "1          B4CORP  https://www.indeed.com/pagead/clk?mo=r&ad=-6NY...   None   \n",
       "2       CRAiC LLC  https://www.indeed.com/company/CRAiC-LLC/jobs/...   None   \n",
       "3       CRAiC LLC  https://www.indeed.com/company/CRAiC-LLC/jobs/...   None   \n",
       "4  MilliporeSigma  https://www.indeed.com/company/Serono/jobs/Dat...    3.9   \n",
       "\n",
       "                  Salary                                        Description  \\\n",
       "0  Up to $215,000 a year  Position Requires a Top Secret (TS/SCI) Cleara...   \n",
       "1  Up to $215,000 a year  Position Requires a Top Secret (TS/SCI) Cleara...   \n",
       "2         $60,000 a year  Cost Readiness Analytics (CRAiC LLC) is lookin...   \n",
       "3         $60,000 a year  Cost Readiness Analytics (CRAiC LLC) is lookin...   \n",
       "4      $20 - $25 an hour  Job Title: Data Science Intern\\rA career with ...   \n",
       "\n",
       "       Location2 Rate_by  ... adjusted_yearly_salary  Rank           City  \\\n",
       "0  Arlington, VA  Yearly  ...               215000.0  36.0  Arlington, VA   \n",
       "1  Arlington, VA  Yearly  ...               215000.0  61.0  Arlington, VA   \n",
       "2  Arlington, VA  Yearly  ...                60000.0  36.0  Arlington, VA   \n",
       "3  Arlington, VA  Yearly  ...                60000.0  61.0  Arlington, VA   \n",
       "4  Arlington, VA  Hourly  ...                46800.0  36.0  Arlington, VA   \n",
       "\n",
       "   Cost of Living Index  Rent Index  Cost of Living Plus Rent Index  \\\n",
       "0             80.159143   58.838571                       69.961143   \n",
       "1             67.200000   33.880000                       51.260000   \n",
       "2             80.159143   58.838571                       69.961143   \n",
       "3             67.200000   33.880000                       51.260000   \n",
       "4             80.159143   58.838571                       69.961143   \n",
       "\n",
       "   Groceries Index Restaurant Price Index  Local Purchasing Power Index  \\\n",
       "0        76.886286              78.608571                    115.594571   \n",
       "1        59.130000              76.440000                    112.570000   \n",
       "2        76.886286              78.608571                    115.594571   \n",
       "3        59.130000              76.440000                    112.570000   \n",
       "4        76.886286              78.608571                    115.594571   \n",
       "\n",
       "                                       combined_text  \n",
       "0  2021048 Data Scientist $215,000.00 Position Re...  \n",
       "1  2021048 Data Scientist $215,000.00 Position Re...  \n",
       "2  Data Science/Data Analyst Cost Readiness Analy...  \n",
       "3  Data Science/Data Analyst Cost Readiness Analy...  \n",
       "4  Data Science Intern Job Title: Data Science In...  \n",
       "\n",
       "[5 rows x 25 columns]"
      ]
     },
     "execution_count": 20,
     "metadata": {},
     "output_type": "execute_result"
    }
   ],
   "source": [
    "salary_df.head()"
   ]
  },
  {
   "cell_type": "code",
   "execution_count": 21,
   "metadata": {},
   "outputs": [
    {
     "data": {
      "text/plain": [
       "array([[<matplotlib.axes._subplots.AxesSubplot object at 0x1267b3588>]],\n",
       "      dtype=object)"
      ]
     },
     "execution_count": 21,
     "metadata": {},
     "output_type": "execute_result"
    },
    {
     "data": {
      "image/png": "[encoded data removed]",
      "text/plain": [
       "<Figure size 432x288 with 1 Axes>"
      ]
     },
     "metadata": {
      "needs_background": "light"
     },
     "output_type": "display_data"
    }
   ],
   "source": [
    "salary_df.hist('adjusted_yearly_salary')"
   ]
  },
  {
   "cell_type": "code",
   "execution_count": 22,
   "metadata": {},
   "outputs": [
    {
     "data": {
      "text/plain": [
       "352500.0"
      ]
     },
     "execution_count": 22,
     "metadata": {},
     "output_type": "execute_result"
    }
   ],
   "source": [
    "salary_df['adjusted_yearly_salary'].max() - salary_df['adjusted_yearly_salary'].min()"
   ]
  },
  {
   "cell_type": "markdown",
   "metadata": {},
   "source": [
    "Salary bins: [< 50,000, 50,000-75,000, 75,000-100,000, 100,000-125,000, 125,000-150,000, 150,000-175,000, 175,000-200,000, 200,000-225,000, 225,000-250,000, >250,000]"
   ]
  },
  {
   "cell_type": "code",
   "execution_count": 23,
   "metadata": {},
   "outputs": [
    {
     "data": {
      "text/plain": [
       "0.0     10000.00\n",
       "0.1     44916.00\n",
       "0.2     57796.00\n",
       "0.3     67500.00\n",
       "0.4     77500.00\n",
       "0.5     91434.00\n",
       "0.6    105000.00\n",
       "0.7    119421.00\n",
       "0.8    140000.00\n",
       "0.9    168143.44\n",
       "1.0    362500.00\n",
       "Name: adjusted_yearly_salary, dtype: float64"
      ]
     },
     "execution_count": 23,
     "metadata": {},
     "output_type": "execute_result"
    }
   ],
   "source": [
    "salary_df['adjusted_yearly_salary'].quantile(list(np.linspace(0,1,11)))"
   ]
  },
  {
   "cell_type": "code",
   "execution_count": 24,
   "metadata": {},
   "outputs": [],
   "source": [
    "#Create Bins\n",
    "BINS = [0,50000,75000,100000,125000,150000,175000,200000,400000]"
   ]
  },
  {
   "cell_type": "code",
   "execution_count": 25,
   "metadata": {},
   "outputs": [],
   "source": [
    "salary_df['Salary_Bins'] = pd.cut(x=salary_df['adjusted_yearly_salary'], bins=BINS, labels=False)"
   ]
  },
  {
   "cell_type": "code",
   "execution_count": 26,
   "metadata": {},
   "outputs": [
    {
     "data": {
      "text/plain": [
       "0       7\n",
       "1       7\n",
       "2       1\n",
       "3       1\n",
       "4       0\n",
       "       ..\n",
       "1003    3\n",
       "1004    2\n",
       "1005    2\n",
       "1006    2\n",
       "1007    2\n",
       "Name: Salary_Bins, Length: 1008, dtype: int64"
      ]
     },
     "execution_count": 26,
     "metadata": {},
     "output_type": "execute_result"
    }
   ],
   "source": [
    "salary_df['Salary_Bins']"
   ]
  },
  {
   "cell_type": "code",
   "execution_count": 27,
   "metadata": {},
   "outputs": [
    {
     "data": {
      "text/plain": [
       "<matplotlib.axes._subplots.AxesSubplot at 0x125198278>"
      ]
     },
     "execution_count": 27,
     "metadata": {},
     "output_type": "execute_result"
    },
    {
     "data": {
      "image/png": "[encoded data removed]",
      "text/plain": [
       "<Figure size 432x288 with 1 Axes>"
      ]
     },
     "metadata": {
      "needs_background": "light"
     },
     "output_type": "display_data"
    }
   ],
   "source": [
    "salary_df.groupby('Salary_Bins')['Location2'].count().plot.bar()"
   ]
  },
  {
   "cell_type": "code",
   "execution_count": 28,
   "metadata": {},
   "outputs": [],
   "source": [
    "#Categorical target\n",
    "target_class = salary_df['Salary_Bins'].astype('category')"
   ]
  },
  {
   "cell_type": "code",
   "execution_count": 29,
   "metadata": {},
   "outputs": [],
   "source": [
    "data = clean_word(salary_df['combined_text'])\n",
    "target = salary_df['adjusted_yearly_salary'] #continuous target\n",
    "target_class = salary_df['Salary_Bins'].astype('category') #categorical target"
   ]
  },
  {
   "cell_type": "markdown",
   "metadata": {},
   "source": [
    "## Model 1:  Use Word2Vec Model "
   ]
  },
  {
   "cell_type": "markdown",
   "metadata": {},
   "source": [
    "We are going to use Word2Vec model in this section. Word2vec is a group of related models that are used to produce word embeddings. These models are shallow, two-layer neural networks that are trained to reconstruct linguistic contexts of words. Word2vec takes as its input a large corpus of text and produces a vector space, typically of several hundred dimensions, with each unique word in the corpus being assigned a corresponding vector in the space. Word vectors are positioned in the vector space such that words that share common contexts in the corpus are located close to one another in the space.\n",
    "\n",
    "We need to specify following parameter to the model:\n",
    "* the `size` of the word vectors we want to learn \n",
    "* the `window` size to use when training the model\n",
    "* `min_count`, which corresponds to the minimum number of times a word must be used in the corpus in order to be included in the training (for instance, `min_count=5` would only learn word embeddings for words that appear 5 or more times throughout the entire training set)\n",
    "* `workers`, the number of threads to use for training, which can speed up processing (`4` is typically used, since most processors nowadays have at least 4 cores)"
   ]
  },
  {
   "cell_type": "code",
   "execution_count": 30,
   "metadata": {},
   "outputs": [
    {
     "data": {
      "text/plain": [
       "['data',\n",
       " 'scientist',\n",
       " 'position',\n",
       " 'requires',\n",
       " 'top',\n",
       " 'secret',\n",
       " 'ts',\n",
       " 'sci',\n",
       " 'clearance',\n",
       " 'polygraph',\n",
       " 'estimated',\n",
       " 'salary',\n",
       " 'position',\n",
       " 'level',\n",
       " 'level',\n",
       " 'subject',\n",
       " 'matter',\n",
       " 'expert',\n",
       " 'salary',\n",
       " 'range',\n",
       " 'per',\n",
       " 'year',\n",
       " 'b',\n",
       " 'corp',\n",
       " 'estimated',\n",
       " 'salary',\n",
       " 'ranges',\n",
       " 'position',\n",
       " 'level',\n",
       " 'min',\n",
       " 'salary',\n",
       " 'max',\n",
       " 'salary',\n",
       " 'level',\n",
       " 'subject',\n",
       " 'matter',\n",
       " 'expert',\n",
       " 'level',\n",
       " 'expert',\n",
       " 'level',\n",
       " 'senior',\n",
       " 'level',\n",
       " 'full',\n",
       " 'performance',\n",
       " 'mandatory',\n",
       " 'requirements',\n",
       " 'java',\n",
       " 'development',\n",
       " 'experience',\n",
       " 'production',\n",
       " 'environment',\n",
       " 'required',\n",
       " 'software',\n",
       " 'developer',\n",
       " 'list',\n",
       " 'years',\n",
       " 'experience',\n",
       " 'demonstrated',\n",
       " 'job',\n",
       " 'experience',\n",
       " 'troubleshooting',\n",
       " 'user',\n",
       " 'issues',\n",
       " 'list',\n",
       " 'years',\n",
       " 'experience',\n",
       " 'demonstrated',\n",
       " 'job',\n",
       " 'experience',\n",
       " 'writing',\n",
       " 'system',\n",
       " 'automation',\n",
       " 'scripts',\n",
       " 'linux',\n",
       " 'environment',\n",
       " 'using',\n",
       " 'tools',\n",
       " 'bash',\n",
       " 'sh',\n",
       " 'python',\n",
       " 'ruby',\n",
       " 'perl',\n",
       " 'list',\n",
       " 'years',\n",
       " 'experience',\n",
       " 'demonstrated',\n",
       " 'job',\n",
       " 'experience',\n",
       " 'installing',\n",
       " 'configuring',\n",
       " 'patching',\n",
       " 'troubleshooting',\n",
       " 'rhel',\n",
       " 'based',\n",
       " 'e',\n",
       " 'g',\n",
       " 'sl',\n",
       " 'redhat',\n",
       " 'centos',\n",
       " 'linux',\n",
       " 'os',\n",
       " 'list',\n",
       " 'years',\n",
       " 'experience',\n",
       " 'demonstrated',\n",
       " 'job',\n",
       " 'experience',\n",
       " 'installing',\n",
       " 'configuring',\n",
       " 'patching',\n",
       " 'troubleshooting',\n",
       " 'middleware',\n",
       " 'components',\n",
       " 'linux',\n",
       " 'environment',\n",
       " 'e',\n",
       " 'g',\n",
       " 'mysql',\n",
       " 'tomcat',\n",
       " 'apache',\n",
       " 'etc',\n",
       " 'list',\n",
       " 'years',\n",
       " 'experience',\n",
       " 'strong',\n",
       " 'writing',\n",
       " 'speaking',\n",
       " 'editing',\n",
       " 'skills',\n",
       " 'along',\n",
       " 'ability',\n",
       " 'utilize',\n",
       " 'internal',\n",
       " 'social',\n",
       " 'media',\n",
       " 'tools',\n",
       " 'help',\n",
       " 'messaging',\n",
       " 'promotion',\n",
       " 'marketing',\n",
       " 'list',\n",
       " 'years',\n",
       " 'experience',\n",
       " 'ability',\n",
       " 'organize',\n",
       " 'prioritize',\n",
       " 'tight',\n",
       " 'deadlines',\n",
       " 'list',\n",
       " 'years',\n",
       " 'experience',\n",
       " 'system',\n",
       " 'engineering',\n",
       " 'experience',\n",
       " 'production',\n",
       " 'environment',\n",
       " 'required',\n",
       " 'system',\n",
       " 'engineer',\n",
       " 'list',\n",
       " 'years',\n",
       " 'experience',\n",
       " 'system',\n",
       " 'administration',\n",
       " 'experience',\n",
       " 'production',\n",
       " 'environment',\n",
       " 'required',\n",
       " 'system',\n",
       " 'engineer',\n",
       " 'list',\n",
       " 'years',\n",
       " 'experience',\n",
       " 'development',\n",
       " 'skills',\n",
       " 'experience',\n",
       " 'production',\n",
       " 'environment',\n",
       " 'required',\n",
       " 'system',\n",
       " 'engineer',\n",
       " 'list',\n",
       " 'years',\n",
       " 'experience',\n",
       " 'amazon',\n",
       " 'cloud',\n",
       " 'services',\n",
       " 'list',\n",
       " 'years',\n",
       " 'experience',\n",
       " 'devops',\n",
       " 'practices',\n",
       " 'list',\n",
       " 'years',\n",
       " 'experience',\n",
       " 'server',\n",
       " 'automation',\n",
       " 'tools',\n",
       " 'docker',\n",
       " 'jenkins',\n",
       " 'puppet',\n",
       " 'list',\n",
       " 'years',\n",
       " 'experience',\n",
       " 'docker',\n",
       " 'list',\n",
       " 'years',\n",
       " 'experience',\n",
       " 'kubernettes',\n",
       " 'list',\n",
       " 'years',\n",
       " 'experience',\n",
       " 'optional',\n",
       " 'requirements',\n",
       " 'b',\n",
       " 'corp',\n",
       " 'company',\n",
       " 'information',\n",
       " 'b',\n",
       " 'corp',\n",
       " 'small',\n",
       " 'defense',\n",
       " 'contracting',\n",
       " 'company',\n",
       " 'focuses',\n",
       " 'providing',\n",
       " 'optimum',\n",
       " 'environment',\n",
       " 'mission',\n",
       " 'focused',\n",
       " 'highly',\n",
       " 'skilled',\n",
       " 'consultants',\n",
       " 'support',\n",
       " 'united',\n",
       " 'states',\n",
       " 'america',\n",
       " 'intelligence',\n",
       " 'community',\n",
       " 'defense',\n",
       " 'organizations',\n",
       " 'b',\n",
       " 'corp',\n",
       " 'provides',\n",
       " 'low',\n",
       " 'overhead',\n",
       " 'highly',\n",
       " 'efficient',\n",
       " 'high',\n",
       " 'salary',\n",
       " 'environment',\n",
       " 'allows',\n",
       " 'employees',\n",
       " 'excel',\n",
       " 'meeting',\n",
       " 'client',\n",
       " 'needs',\n",
       " 'b',\n",
       " 'corp',\n",
       " 'looking',\n",
       " 'information',\n",
       " 'technology',\n",
       " 'professionals',\n",
       " 'high',\n",
       " 'sense',\n",
       " 'personal',\n",
       " 'responsibility',\n",
       " 'self',\n",
       " 'motivation',\n",
       " 'mission',\n",
       " 'drive',\n",
       " 'b',\n",
       " 'corp',\n",
       " 'dedication',\n",
       " 'care',\n",
       " 'employees',\n",
       " 'reflected',\n",
       " 'outstanding',\n",
       " 'compensation',\n",
       " 'benefits',\n",
       " 'b',\n",
       " 'corp',\n",
       " 'provides',\n",
       " 'salaries',\n",
       " 'second',\n",
       " 'none',\n",
       " 'b',\n",
       " 'corp',\n",
       " 'benefits',\n",
       " 'reflect',\n",
       " 'company',\n",
       " 'policy',\n",
       " 'putting',\n",
       " 'employees',\n",
       " 'first',\n",
       " 'health',\n",
       " 'insurance',\n",
       " 'demonstrates',\n",
       " 'employer',\n",
       " 'coverage',\n",
       " 'providing',\n",
       " 'employees',\n",
       " 'plan',\n",
       " 'copay',\n",
       " 'coinsurance',\n",
       " 'hsa',\n",
       " 'allow',\n",
       " 'employees',\n",
       " 'accrue',\n",
       " 'health',\n",
       " 'savings',\n",
       " 'future',\n",
       " 'b',\n",
       " 'corp',\n",
       " 'maximum',\n",
       " 'flexibility',\n",
       " 'comp',\n",
       " 'makeup',\n",
       " 'time',\n",
       " 'policy',\n",
       " 'along',\n",
       " 'company',\n",
       " 'cafeteria',\n",
       " 'style',\n",
       " 'benefit',\n",
       " 'plan',\n",
       " 'allows',\n",
       " 'employees',\n",
       " 'maximize',\n",
       " 'benefit',\n",
       " 'dollars',\n",
       " 'reflects',\n",
       " 'b',\n",
       " 'corp',\n",
       " 'commitment',\n",
       " 'employees',\n",
       " 'compensation',\n",
       " 'outstanding',\n",
       " 'salaries',\n",
       " 'retirement',\n",
       " 'full',\n",
       " 'vanguard',\n",
       " 'k',\n",
       " 'plan',\n",
       " 'featuring',\n",
       " 'full',\n",
       " 'scope',\n",
       " 'investment',\n",
       " 'options',\n",
       " 'employer',\n",
       " 'matched',\n",
       " 'contribution',\n",
       " 'employee',\n",
       " 'salary',\n",
       " 'ability',\n",
       " 'max',\n",
       " 'k',\n",
       " 'savings',\n",
       " 'k',\n",
       " 'k',\n",
       " 'employees',\n",
       " 'receive',\n",
       " 'b',\n",
       " 'corp',\n",
       " 'phantom',\n",
       " 'stock',\n",
       " 'year',\n",
       " 'year',\n",
       " 'vesting',\n",
       " 'period',\n",
       " 'insurance',\n",
       " 'employer',\n",
       " 'paid',\n",
       " 'premiums',\n",
       " 'united',\n",
       " 'health',\n",
       " 'care',\n",
       " 'choice',\n",
       " 'plus',\n",
       " 'hsa',\n",
       " 'pos',\n",
       " 'gold',\n",
       " 'w',\n",
       " 'hsa',\n",
       " 'employer',\n",
       " 'funded',\n",
       " 'hsa',\n",
       " 'cover',\n",
       " 'health',\n",
       " 'care',\n",
       " 'deductible',\n",
       " 'health',\n",
       " 'insurance',\n",
       " 'copay',\n",
       " 'co',\n",
       " 'insurance',\n",
       " 'full',\n",
       " 'scope',\n",
       " 'protection',\n",
       " 'family',\n",
       " 'employer',\n",
       " 'premium',\n",
       " 'coverage',\n",
       " 'single',\n",
       " 'family',\n",
       " 'health',\n",
       " 'equity',\n",
       " 'hsa',\n",
       " 'b',\n",
       " 'corp',\n",
       " 'contributes',\n",
       " 'single',\n",
       " 'family',\n",
       " 'health',\n",
       " 'equity',\n",
       " 'hsa',\n",
       " 'cover',\n",
       " 'health',\n",
       " 'care',\n",
       " 'deductible',\n",
       " 'mutual',\n",
       " 'omaha',\n",
       " 'dental',\n",
       " 'vsp',\n",
       " 'vision',\n",
       " 'insurance',\n",
       " 'mutual',\n",
       " 'omaha',\n",
       " 'short',\n",
       " 'term',\n",
       " 'disability',\n",
       " 'salary',\n",
       " 'week',\n",
       " 'mutual',\n",
       " 'omaha',\n",
       " 'long',\n",
       " 'term',\n",
       " 'disability',\n",
       " 'salary',\n",
       " 'month',\n",
       " 'mutual',\n",
       " 'omaha',\n",
       " 'life',\n",
       " 'insurance',\n",
       " 'employee',\n",
       " 'referral',\n",
       " 'bonus',\n",
       " 'refer',\n",
       " 'friend',\n",
       " 'coworker',\n",
       " 'receive',\n",
       " 'per',\n",
       " 'year',\n",
       " 'every',\n",
       " 'year',\n",
       " 'person',\n",
       " 'works',\n",
       " 'b',\n",
       " 'corp',\n",
       " 'paid',\n",
       " 'time',\n",
       " 'pto',\n",
       " 'seven',\n",
       " 'weeks',\n",
       " 'leave',\n",
       " 'per',\n",
       " 'year',\n",
       " 'including',\n",
       " 'ten',\n",
       " 'federal',\n",
       " 'holidays',\n",
       " 'ability',\n",
       " 'purchase',\n",
       " 'additional',\n",
       " 'weeks',\n",
       " 'vacation',\n",
       " 'flexible',\n",
       " 'work',\n",
       " 'schedule',\n",
       " 'comp',\n",
       " 'time',\n",
       " 'customer',\n",
       " 'approval',\n",
       " 'tuition',\n",
       " 'training',\n",
       " 'free',\n",
       " 'cbtnuggets',\n",
       " 'online',\n",
       " 'training',\n",
       " 'account',\n",
       " 'online',\n",
       " 'courses',\n",
       " 'large',\n",
       " 'variety',\n",
       " 'topics',\n",
       " 'including',\n",
       " 'networking',\n",
       " 'security',\n",
       " 'virtualization',\n",
       " 'cloud',\n",
       " 'trusted',\n",
       " 'vendors',\n",
       " 'cisco',\n",
       " 'microsoft',\n",
       " 'google',\n",
       " 'train',\n",
       " 'anytime',\n",
       " 'anywhere',\n",
       " 'variety',\n",
       " 'devices',\n",
       " 'even',\n",
       " 'offline',\n",
       " 'transcender',\n",
       " 'practice',\n",
       " 'exams',\n",
       " 'virtual',\n",
       " 'labs',\n",
       " 'free',\n",
       " 'l',\n",
       " 'inux',\n",
       " 'academy',\n",
       " 'online',\n",
       " 'training',\n",
       " 'account',\n",
       " 'internal',\n",
       " 'tracking',\n",
       " 'j']"
      ]
     },
     "execution_count": 30,
     "metadata": {},
     "output_type": "execute_result"
    }
   ],
   "source": [
    "data[0]"
   ]
  },
  {
   "cell_type": "markdown",
   "metadata": {},
   "source": [
    "### Random Forest Regressor,  Linear SVC and Linear Regression in the pipeline"
   ]
  },
  {
   "cell_type": "markdown",
   "metadata": {},
   "source": [
    "http://nadbordrozd.github.io/blog/2016/05/20/text-classification-with-word2vec/\n",
    "TF-IDF embedding, focus on important words."
   ]
  },
  {
   "cell_type": "markdown",
   "metadata": {},
   "source": [
    "\n",
    "https://scikit-learn.org/stable/modules/classes.html\n",
    "#module-sklearn.feature_extraction.text\n",
    "https://scikit-learn.org/stable/auto_examples/model_selection/grid_search_text_feature_extraction.html"
   ]
  },
  {
   "cell_type": "markdown",
   "metadata": {},
   "source": [
    "#### Word2Vec Model from scratch"
   ]
  },
  {
   "cell_type": "code",
   "execution_count": 40,
   "metadata": {},
   "outputs": [],
   "source": [
    "model = Word2Vec(data,\n",
    "                size=500,\n",
    "                window=5,\n",
    "                min_count=2,\n",
    "                workers=4)"
   ]
  },
  {
   "cell_type": "code",
   "execution_count": 41,
   "metadata": {},
   "outputs": [
    {
     "data": {
      "text/plain": [
       "(3431362, 3673340)"
      ]
     },
     "execution_count": 41,
     "metadata": {},
     "output_type": "execute_result"
    }
   ],
   "source": [
    "model.train(data,total_examples=model.corpus_count, epochs=10)"
   ]
  },
  {
   "cell_type": "code",
   "execution_count": 42,
   "metadata": {},
   "outputs": [],
   "source": [
    "wv = model.wv"
   ]
  },
  {
   "cell_type": "code",
   "execution_count": 43,
   "metadata": {},
   "outputs": [
    {
     "data": {
      "text/plain": [
       "500"
      ]
     },
     "execution_count": 43,
     "metadata": {},
     "output_type": "execute_result"
    }
   ],
   "source": [
    "wv.vector_size"
   ]
  },
  {
   "cell_type": "code",
   "execution_count": 44,
   "metadata": {
    "scrolled": true
   },
   "outputs": [
    {
     "data": {
      "text/plain": [
       "[('extraction', 0.5246098637580872),\n",
       " ('cleaning', 0.5221850872039795),\n",
       " ('unstructured', 0.517565906047821),\n",
       " ('etl', 0.5145159363746643),\n",
       " ('sets', 0.5127720236778259),\n",
       " ('large', 0.5070561170578003),\n",
       " ('manipulate', 0.49055036902427673),\n",
       " ('dashboards', 0.49043816328048706),\n",
       " ('raw', 0.4901886582374573),\n",
       " ('manipulating', 0.48749840259552)]"
      ]
     },
     "execution_count": 44,
     "metadata": {},
     "output_type": "execute_result"
    }
   ],
   "source": [
    "wv.most_similar('data')"
   ]
  },
  {
   "cell_type": "markdown",
   "metadata": {},
   "source": [
    "To be able to use in a pipeline, need fit and transform"
   ]
  },
  {
   "cell_type": "code",
   "execution_count": 45,
   "metadata": {},
   "outputs": [
    {
     "name": "stderr",
     "output_type": "stream",
     "text": [
      "/Applications/anaconda3/lib/python3.7/site-packages/ipykernel_launcher.py:1: DeprecationWarning: Call to deprecated `syn0` (Attribute will be removed in 4.0.0, use self.vectors instead).\n",
      "  \"\"\"Entry point for launching an IPython kernel.\n"
     ]
    }
   ],
   "source": [
    "w2v = dict(zip(model.wv.index2word, model.wv.syn0))"
   ]
  },
  {
   "cell_type": "code",
   "execution_count": 46,
   "metadata": {},
   "outputs": [
    {
     "data": {
      "text/plain": [
       "9364"
      ]
     },
     "execution_count": 46,
     "metadata": {},
     "output_type": "execute_result"
    }
   ],
   "source": [
    "len(w2v.values())"
   ]
  },
  {
   "cell_type": "markdown",
   "metadata": {},
   "source": [
    "Averaging word vectors for all words in a text."
   ]
  },
  {
   "cell_type": "code",
   "execution_count": null,
   "metadata": {},
   "outputs": [],
   "source": [
    "class MeanEmbeddingVectorizer(object):\n",
    "    def __init__(self, word2vec):\n",
    "        self.word2vec = word2vec\n",
    "        # if a text is empty we should return a vector of zeros\n",
    "        # with the same dimensionality as all the other vectors\n",
    "        self.dim = len(word2vec.values())\n",
    "\n",
    "    def fit(self, X, y):\n",
    "        return self\n",
    "\n",
    "    def transform(self, X):\n",
    "        return np.array([\n",
    "            np.mean([self.word2vec[w] for w in words if w in self.word2vec]\n",
    "                    or [np.zeros(self.dim)], axis=0)\n",
    "            for words in X\n",
    "        ])"
   ]
  },
  {
   "cell_type": "code",
   "execution_count": 47,
   "metadata": {},
   "outputs": [],
   "source": [
    "#Use pipeline\n",
    "from sklearn.ensemble import RandomForestRegressor, RandomForestClassifier\n",
    "from sklearn.svm import SVC\n",
    "from sklearn.svm import SVR\n",
    "from sklearn.linear_model import LinearRegression, SGDClassifier\n",
    "from sklearn.pipeline import Pipeline\n",
    "from sklearn.model_selection import cross_val_score\n",
    "\n",
    "rf =  Pipeline([('Word2Vec Vectorizer', MeanEmbeddingVectorizer(w2v)),\n",
    "              ('Random Forest', RandomForestClassifier(n_estimators=100, criterion='entropy', min_samples_leaf=3, verbose=True, n_jobs=3))])\n",
    "\n",
    "svc = Pipeline([('Word2Vec Vectorizer', MeanEmbeddingVectorizer(w2v)),\n",
    "              ('Support Vector Machine', SVC(kernel='rbf', C=0.5))])\n",
    "\n",
    "sgd = Pipeline([('Word2Vec Vectorizer', MeanEmbeddingVectorizer(w2v)),\n",
    "               ('Stochastic Gradient Descent', SGDClassifier(alpha=0.001, n_jobs=3))])\n",
    "\n",
    "#svr = Pipeline([('Word2Vec Vectorizer', MeanEmbeddingVectorizer(w2v)),\n",
    "              #('SVR-lin', SVR(kernel='rbf', C=0.5))])\n",
    "                \n",
    "#lr = Pipeline([('Word2Vec Vectorizer', MeanEmbeddingVectorizer(w2v)),\n",
    "              #('Linear Regression', LinearRegression(n_jobs=3))])"
   ]
  },
  {
   "cell_type": "code",
   "execution_count": 51,
   "metadata": {},
   "outputs": [],
   "source": [
    "rf =  Pipeline([('Word2Vec Vectorizer', MeanEmbeddingVectorizer(w2v)),\n",
    "              ('Random Forest', RandomForestClassifier(n_estimators=100, criterion='entropy', min_samples_leaf=3, verbose=True, n_jobs=3))])\n"
   ]
  },
  {
   "cell_type": "code",
   "execution_count": null,
   "metadata": {},
   "outputs": [],
   "source": [
    "cross_val_score(rf, data, target_class, cv=2).mean()"
   ]
  },
  {
   "cell_type": "code",
   "execution_count": 48,
   "metadata": {},
   "outputs": [],
   "source": [
    "models = [('Random Forest', rf),\n",
    "          ('Support Vector Machine', svc),\n",
    "          ('Stochastic Gradient Descent', sgd)]\n",
    "          #('Linear Regression', lr)]"
   ]
  },
  {
   "cell_type": "code",
   "execution_count": 49,
   "metadata": {},
   "outputs": [
    {
     "name": "stderr",
     "output_type": "stream",
     "text": [
      "[Parallel(n_jobs=3)]: Using backend LokyBackend with 3 concurrent workers.\n",
      "[Parallel(n_jobs=3)]: Done  50 out of  50 | elapsed:    2.4s finished\n",
      "[Parallel(n_jobs=3)]: Using backend ThreadingBackend with 3 concurrent workers.\n",
      "[Parallel(n_jobs=3)]: Done  44 tasks      | elapsed:    0.0s\n",
      "[Parallel(n_jobs=3)]: Done  50 out of  50 | elapsed:    0.0s finished\n",
      "[Parallel(n_jobs=3)]: Using backend LokyBackend with 3 concurrent workers.\n",
      "[Parallel(n_jobs=3)]: Done  50 out of  50 | elapsed:    0.3s finished\n",
      "[Parallel(n_jobs=3)]: Using backend ThreadingBackend with 3 concurrent workers.\n",
      "[Parallel(n_jobs=3)]: Done  44 tasks      | elapsed:    0.0s\n",
      "[Parallel(n_jobs=3)]: Done  50 out of  50 | elapsed:    0.0s finished\n"
     ]
    }
   ],
   "source": [
    "scores = [(name, cross_val_score(model, data, target_class, cv=2).mean()) for name, model, in models]"
   ]
  },
  {
   "cell_type": "code",
   "execution_count": 50,
   "metadata": {},
   "outputs": [
    {
     "data": {
      "text/plain": [
       "[('Random Forest', 0.3680555555555556),\n",
       " ('Support Vector Machine', 0.33134920634920634),\n",
       " ('Stochastic Gradient Descent', 0.33333333333333337)]"
      ]
     },
     "execution_count": 50,
     "metadata": {},
     "output_type": "execute_result"
    }
   ],
   "source": [
    "scores"
   ]
  },
  {
   "cell_type": "code",
   "execution_count": null,
   "metadata": {},
   "outputs": [],
   "source": []
  },
  {
   "cell_type": "code",
   "execution_count": null,
   "metadata": {},
   "outputs": [],
   "source": []
  },
  {
   "cell_type": "code",
   "execution_count": null,
   "metadata": {},
   "outputs": [],
   "source": []
  },
  {
   "cell_type": "code",
   "execution_count": null,
   "metadata": {},
   "outputs": [],
   "source": []
  },
  {
   "cell_type": "markdown",
   "metadata": {},
   "source": [
    "TD-IDF Embedding"
   ]
  },
  {
   "cell_type": "code",
   "execution_count": 42,
   "metadata": {},
   "outputs": [],
   "source": [
    "class TfidfEmbeddingVectorizer(object):\n",
    "    def __init__(self, word2vec):\n",
    "        self.word2vec = word2vec\n",
    "        self.word2weight = None\n",
    "        self.dim = len(word2vec.values())\n",
    "\n",
    "    def fit(self, X, y):\n",
    "        tfidf = TfidfVectorizer(analyzer=lambda x: x)\n",
    "        tfidf.fit(X)\n",
    "        # if a word was never seen - it must be at least as infrequent\n",
    "        # as any of the known words - so the default idf is the max of \n",
    "        # known idf's\n",
    "        max_idf = max(tfidf.idf_)\n",
    "        self.word2weight = defaultdict(\n",
    "            lambda: max_idf,\n",
    "            [(w, tfidf.idf_[i]) for w, i in tfidf.vocabulary_.items()])\n",
    "\n",
    "        return self\n",
    "\n",
    "    def transform(self, X):\n",
    "        return np.array([\n",
    "                np.mean([self.word2vec[w] * self.word2weight[w]\n",
    "                         for w in words if w in self.word2vec] or\n",
    "                        [np.zeros(self.dim)], axis=0)\n",
    "                for words in X\n",
    "            ])"
   ]
  },
  {
   "cell_type": "code",
   "execution_count": 43,
   "metadata": {},
   "outputs": [],
   "source": [
    "#Use pipeline\n",
    "from sklearn.ensemble import RandomForestRegressor\n",
    "from sklearn.svm import SVC\n",
    "from sklearn.svm import SVR\n",
    "from sklearn.linear_model import LinearRegression\n",
    "from sklearn.pipeline import Pipeline\n",
    "from sklearn.model_selection import cross_val_score\n",
    "\n",
    "rf =  Pipeline([('Word2Vec Vectorizer', TfidfEmbeddingVectorizer(w2v)),\n",
    "              ('Random Forest', RandomForestRegressor(n_estimators=100, verbose=True, n_jobs=3))])\n",
    "svc = Pipeline([('Word2Vec Vectorizer', MeanEmbeddingVectorizer(w2v)),\n",
    "              ('Support Vector Machine', SVC(kernel='rbf', C=0.5))])\n",
    "\n",
    "#svr = Pipeline([('Word2Vec Vectorizer', TfidfEmbeddingVectorizer(w2v)),\n",
    "             # ('SVR-lin', SVR(kernel='rbf'))])\n",
    "                \n",
    "#lr = Pipeline([('Word2Vec Vectorizer', MeanEmbeddingVectorizer(w2v)),\n",
    "              #('Linear Regression', LinearRegression(n_jobs=3))])"
   ]
  },
  {
   "cell_type": "code",
   "execution_count": 44,
   "metadata": {},
   "outputs": [],
   "source": [
    "models = [('Random Forest', rf),\n",
    "          ('Support Vector Machine', svc)]\n",
    "          #('Linear Regression', lr)]"
   ]
  },
  {
   "cell_type": "code",
   "execution_count": 45,
   "metadata": {},
   "outputs": [
    {
     "name": "stderr",
     "output_type": "stream",
     "text": [
      "/Applications/anaconda3/lib/python3.7/site-packages/sklearn/model_selection/_validation.py:536: FitFailedWarning: Estimator fit failed. The score on this train-test partition for these parameters will be set to nan. Details: \n",
      "NameError: name 'defaultdict' is not defined\n",
      "\n",
      "  FitFailedWarning)\n",
      "/Applications/anaconda3/lib/python3.7/site-packages/sklearn/model_selection/_validation.py:536: FitFailedWarning: Estimator fit failed. The score on this train-test partition for these parameters will be set to nan. Details: \n",
      "NameError: name 'defaultdict' is not defined\n",
      "\n",
      "  FitFailedWarning)\n"
     ]
    }
   ],
   "source": [
    "scores = [(name, cross_val_score(model, data, target_class, cv=2).mean()) for name, model, in models]"
   ]
  },
  {
   "cell_type": "code",
   "execution_count": 46,
   "metadata": {
    "scrolled": true
   },
   "outputs": [
    {
     "data": {
      "text/plain": [
       "[('Random Forest', nan), ('Support Vector Machine', 0.3208715418258987)]"
      ]
     },
     "execution_count": 46,
     "metadata": {},
     "output_type": "execute_result"
    }
   ],
   "source": [
    "scores"
   ]
  },
  {
   "cell_type": "markdown",
   "metadata": {},
   "source": [
    "#### Try other vectorizers with GridSearch\n"
   ]
  },
  {
   "cell_type": "code",
   "execution_count": 49,
   "metadata": {},
   "outputs": [
    {
     "name": "stdout",
     "output_type": "stream",
     "text": [
      "Collecting pprint\n",
      "  Using cached https://files.pythonhosted.org/packages/99/12/b6383259ef85c2b942ab9135f322c0dce83fdca8600d87122d2b0181451f/pprint-0.1.tar.gz\n",
      "Building wheels for collected packages: pprint\n",
      "  Building wheel for pprint (setup.py) ... \u001b[?25ldone\n",
      "\u001b[?25h  Created wheel for pprint: filename=pprint-0.1-cp37-none-any.whl size=1250 sha256=cacd71b09028f9b2b9349d4e7c4a38ccd3cd6fe3d0565d644a9463403cf1d03d\n",
      "  Stored in directory: /Users/bonniema/Library/Caches/pip/wheels/42/d4/c6/16a6495aecc1bda5d5857bd036efd50617789ba9bea4a05124\n",
      "Successfully built pprint\n",
      "Installing collected packages: pprint\n",
      "Successfully installed pprint-0.1\n"
     ]
    }
   ],
   "source": [
    "!pip install pprint"
   ]
  },
  {
   "cell_type": "code",
   "execution_count": 50,
   "metadata": {},
   "outputs": [],
   "source": [
    "from pprint import pprint\n",
    "from time import time\n",
    "import logging\n",
    "\n",
    "from sklearn.feature_extraction.text import CountVectorizer\n",
    "from sklearn.feature_extraction.text import TfidfTransformer\n",
    "from sklearn.linear_model import SGDClassifier\n",
    "from sklearn.model_selection import GridSearchCV\n",
    "from sklearn.pipeline import Pipeline"
   ]
  },
  {
   "cell_type": "code",
   "execution_count": 52,
   "metadata": {},
   "outputs": [],
   "source": [
    "text = salary_df['combined_text']"
   ]
  },
  {
   "cell_type": "code",
   "execution_count": 53,
   "metadata": {},
   "outputs": [
    {
     "name": "stdout",
     "output_type": "stream",
     "text": [
      "Performing grid search...\n",
      "pipeline: ['vect', 'tfidf', 'clf']\n",
      "parameters:\n",
      "{'clf__alpha': (1e-05, 1e-06),\n",
      " 'clf__max_iter': (20,),\n",
      " 'clf__penalty': ('l2', 'elasticnet'),\n",
      " 'vect__max_df': (0.5, 0.75, 1.0),\n",
      " 'vect__ngram_range': ((1, 1), (1, 2))}\n",
      "Fitting 5 folds for each of 24 candidates, totalling 120 fits\n"
     ]
    },
    {
     "name": "stderr",
     "output_type": "stream",
     "text": [
      "[Parallel(n_jobs=-1)]: Using backend LokyBackend with 4 concurrent workers.\n",
      "[Parallel(n_jobs=-1)]: Done  42 tasks      | elapsed:   20.9s\n",
      "[Parallel(n_jobs=-1)]: Done 120 out of 120 | elapsed:  1.1min finished\n"
     ]
    },
    {
     "name": "stdout",
     "output_type": "stream",
     "text": [
      "done in 67.460s\n",
      "\n",
      "Best score: 0.453\n",
      "Best parameters set:\n",
      "\tclf__alpha: 1e-05\n",
      "\tclf__max_iter: 20\n",
      "\tclf__penalty: 'elasticnet'\n",
      "\tvect__max_df: 0.5\n",
      "\tvect__ngram_range: (1, 2)\n"
     ]
    }
   ],
   "source": [
    "pipeline = Pipeline([\n",
    "    ('vect', CountVectorizer()),\n",
    "    ('tfidf', TfidfTransformer()),\n",
    "    ('clf', SGDClassifier()),\n",
    "])\n",
    "\n",
    "# uncommenting more parameters will give better exploring power but will\n",
    "# increase processing time in a combinatorial way\n",
    "parameters = {\n",
    "    'vect__max_df': (0.5, 0.75, 1.0),\n",
    "    # 'vect__max_features': (None, 5000, 10000, 50000),\n",
    "    'vect__ngram_range': ((1, 1), (1, 2)),  # unigrams or bigrams\n",
    "    # 'tfidf__use_idf': (True, False),\n",
    "    # 'tfidf__norm': ('l1', 'l2'),\n",
    "    'clf__max_iter': (20,),\n",
    "    'clf__alpha': (0.00001, 0.000001),\n",
    "    'clf__penalty': ('l2', 'elasticnet'),\n",
    "    # 'clf__max_iter': (10, 50, 80),\n",
    "}\n",
    "\n",
    "if __name__ == \"__main__\":\n",
    "    # multiprocessing requires the fork to happen in a __main__ protected\n",
    "    # block\n",
    "\n",
    "    # find the best parameters for both the feature extraction and the\n",
    "    # classifier\n",
    "    grid_search = GridSearchCV(pipeline, parameters, n_jobs=-1, verbose=1)\n",
    "\n",
    "    print(\"Performing grid search...\")\n",
    "    print(\"pipeline:\", [name for name, _ in pipeline.steps])\n",
    "    print(\"parameters:\")\n",
    "    pprint(parameters)\n",
    "    t0 = time()\n",
    "    grid_search.fit(text, target_class)\n",
    "    print(\"done in %0.3fs\" % (time() - t0))\n",
    "    print()\n",
    "\n",
    "    print(\"Best score: %0.3f\" % grid_search.best_score_)\n",
    "    print(\"Best parameters set:\")\n",
    "    best_parameters = grid_search.best_estimator_.get_params()\n",
    "    for param_name in sorted(parameters.keys()):\n",
    "        print(\"\\t%s: %r\" % (param_name, best_parameters[param_name]))"
   ]
  },
  {
   "cell_type": "markdown",
   "metadata": {},
   "source": [
    "Confusion matrix to interpret the score better. If predicting lower bins better, can combine some of them.  "
   ]
  },
  {
   "cell_type": "code",
   "execution_count": null,
   "metadata": {},
   "outputs": [],
   "source": []
  },
  {
   "cell_type": "code",
   "execution_count": null,
   "metadata": {},
   "outputs": [],
   "source": []
  },
  {
   "cell_type": "code",
   "execution_count": null,
   "metadata": {},
   "outputs": [],
   "source": []
  },
  {
   "cell_type": "code",
   "execution_count": null,
   "metadata": {},
   "outputs": [],
   "source": []
  },
  {
   "cell_type": "code",
   "execution_count": null,
   "metadata": {},
   "outputs": [],
   "source": []
  },
  {
   "cell_type": "code",
   "execution_count": null,
   "metadata": {},
   "outputs": [],
   "source": []
  },
  {
   "cell_type": "markdown",
   "metadata": {},
   "source": [
    "### Use Pretrained GloVe Model"
   ]
  },
  {
   "cell_type": "markdown",
   "metadata": {},
   "source": [
    "#### Getting the Total Vocabulary"
   ]
  },
  {
   "cell_type": "code",
   "execution_count": 24,
   "metadata": {},
   "outputs": [],
   "source": [
    "total_vocabulary = set(word for jd in data for word in jd)"
   ]
  },
  {
   "cell_type": "code",
   "execution_count": 25,
   "metadata": {},
   "outputs": [
    {
     "name": "stdout",
     "output_type": "stream",
     "text": [
      "There are 13283 unique tokens in the dataset.\n"
     ]
    }
   ],
   "source": [
    "len(total_vocabulary)\n",
    "print('There are {} unique tokens in the dataset.'.format(len(total_vocabulary)))"
   ]
  },
  {
   "cell_type": "code",
   "execution_count": 26,
   "metadata": {},
   "outputs": [],
   "source": [
    "#Get the appropriate vectors out of the GloVe file\n",
    "glove = {}\n",
    "with open('glove_6B_50d.txt', 'rb') as f:\n",
    "    for line in f:\n",
    "        parts = line.split()\n",
    "        word = parts[0].decode('utf-8')\n",
    "        if word in total_vocabulary:\n",
    "            vector = np.array(parts[1:], dtype=np.float32)\n",
    "            glove[word] = vector"
   ]
  },
  {
   "cell_type": "code",
   "execution_count": 18,
   "metadata": {},
   "outputs": [
    {
     "data": {
      "text/plain": [
       "array([ 5.3101e-01, -5.5869e-01,  1.7674e+00,  4.4824e-01,  2.2341e-01,\n",
       "       -3.4559e-01, -7.7679e-01, -9.6117e-01,  1.1669e+00,  7.4279e-02,\n",
       "        8.1470e-01, -5.9428e-02,  6.4599e-02,  1.5176e-03,  9.9179e-02,\n",
       "        3.6602e-01, -9.8724e-01, -8.3913e-01,  1.5917e-01, -7.7603e-01,\n",
       "        7.3474e-01, -6.4861e-01,  4.6174e-01,  8.8162e-03,  5.1738e-01,\n",
       "       -6.5976e-01, -7.4010e-01, -1.3928e-01,  8.1094e-02,  2.0657e-01,\n",
       "        3.5652e+00, -8.2264e-01,  5.7360e-01, -1.7268e+00,  6.2356e-03,\n",
       "        6.7672e-02, -2.3411e-01,  3.5163e-02,  2.6507e-01, -2.9966e-01,\n",
       "        7.4323e-01, -4.5027e-01,  1.9406e-01,  4.8611e-01, -4.3075e-01,\n",
       "       -2.5210e-01,  1.2774e+00,  1.5815e+00,  6.5838e-01, -2.0978e-01],\n",
       "      dtype=float32)"
      ]
     },
     "execution_count": 18,
     "metadata": {},
     "output_type": "execute_result"
    }
   ],
   "source": [
    "glove['data']"
   ]
  },
  {
   "cell_type": "code",
   "execution_count": null,
   "metadata": {},
   "outputs": [],
   "source": [
    "len(next(iter(glove)))"
   ]
  },
  {
   "cell_type": "code",
   "execution_count": 27,
   "metadata": {},
   "outputs": [],
   "source": [
    "class W2vVectorizer(object):\n",
    "    \n",
    "    def __init__(self, w2v):\n",
    "        # Takes in a dictionary of words and vectors as input\n",
    "        self.w2v = w2v\n",
    "        if len(w2v) == 0:\n",
    "            self.dimensions = 0\n",
    "        else:\n",
    "            self.dimensions = len(w2v[next(iter(glove))])\n",
    "    \n",
    "    # Note: Even though it doesn't do anything, it's required that this object implement a fit method or else\n",
    "    # it can't be used in a scikit-learn pipeline  \n",
    "    def fit(self, X, y):\n",
    "        return self\n",
    "            \n",
    "    def transform(self, X):\n",
    "        return np.array([\n",
    "            np.mean([self.w2v[w] for w in words if w in self.w2v]\n",
    "                   or [np.zeros(self.dimensions)], axis=0) for words in X])"
   ]
  },
  {
   "cell_type": "markdown",
   "metadata": {},
   "source": [
    "To be able to use in a pipeline, need fit and transform"
   ]
  },
  {
   "cell_type": "markdown",
   "metadata": {},
   "source": [
    "### Use Random Forest Regressor and Linear Regression in the pipeline"
   ]
  },
  {
   "cell_type": "markdown",
   "metadata": {},
   "source": [
    "http://nadbordrozd.github.io/blog/2016/05/20/text-classification-with-word2vec/\n",
    "TF-IDF embedding, focus on important words."
   ]
  },
  {
   "cell_type": "code",
   "execution_count": 28,
   "metadata": {},
   "outputs": [],
   "source": [
    "#Use pipeline\n",
    "from sklearn.ensemble import RandomForestRegressor\n",
    "from sklearn.svm import SVC\n",
    "from sklearn.svm import SVR\n",
    "from sklearn.linear_model import LinearRegression\n",
    "from sklearn.pipeline import Pipeline\n",
    "from sklearn.model_selection import cross_val_score\n",
    "\n",
    "rf =  Pipeline([('Word2Vec Vectorizer', W2vVectorizer(glove)),\n",
    "              ('Random Forest', RandomForestRegressor(n_estimators=100, verbose=True, n_jobs=3))])\n",
    "svr = Pipeline([('Word2Vec Vectorizer', W2vVectorizer(glove)),\n",
    "                ('Support Vector Machine', SVR(kernel='linear'))])\n",
    "lr = Pipeline([('Word2Vec Vectorizer', W2vVectorizer(glove)),\n",
    "              ('Linear Regression', LinearRegression())])"
   ]
  },
  {
   "cell_type": "code",
   "execution_count": 30,
   "metadata": {},
   "outputs": [],
   "source": [
    "models = [('Random Forest', rf),\n",
    "          ('Support Vector Machine', svr),\n",
    "          ('Linear Regression', lr)]"
   ]
  },
  {
   "cell_type": "code",
   "execution_count": 31,
   "metadata": {},
   "outputs": [
    {
     "name": "stderr",
     "output_type": "stream",
     "text": [
      "[Parallel(n_jobs=3)]: Using backend LokyBackend with 3 concurrent workers.\n",
      "[Parallel(n_jobs=3)]: Done  89 tasks      | elapsed:    1.5s\n",
      "[Parallel(n_jobs=3)]: Done 100 out of 100 | elapsed:    1.6s finished\n",
      "[Parallel(n_jobs=3)]: Using backend ThreadingBackend with 3 concurrent workers.\n",
      "[Parallel(n_jobs=3)]: Done  44 tasks      | elapsed:    0.0s\n",
      "[Parallel(n_jobs=3)]: Done 100 out of 100 | elapsed:    0.0s finished\n",
      "[Parallel(n_jobs=3)]: Using backend LokyBackend with 3 concurrent workers.\n",
      "[Parallel(n_jobs=3)]: Done 100 out of 100 | elapsed:    0.5s finished\n",
      "[Parallel(n_jobs=3)]: Using backend ThreadingBackend with 3 concurrent workers.\n",
      "[Parallel(n_jobs=3)]: Done  44 tasks      | elapsed:    0.0s\n",
      "[Parallel(n_jobs=3)]: Done 100 out of 100 | elapsed:    0.0s finished\n"
     ]
    }
   ],
   "source": [
    "scores = [(name, cross_val_score(model, data, target, cv=2).mean()) for name, model, in models]"
   ]
  },
  {
   "cell_type": "code",
   "execution_count": 32,
   "metadata": {},
   "outputs": [
    {
     "data": {
      "text/plain": [
       "[('Random Forest', 0.23296344891439746),\n",
       " ('Support Vector Machine', -0.12380575212964273),\n",
       " ('Linear Regression', 0.21515161505580238)]"
      ]
     },
     "execution_count": 32,
     "metadata": {},
     "output_type": "execute_result"
    }
   ],
   "source": [
    "scores"
   ]
  },
  {
   "cell_type": "markdown",
   "metadata": {},
   "source": [
    "The score is pretty low. There is plenty of room to improve the model performance: standardize the scale of salary, add more parameters to the regression model."
   ]
  },
  {
   "cell_type": "code",
   "execution_count": null,
   "metadata": {},
   "outputs": [],
   "source": []
  },
  {
   "cell_type": "code",
   "execution_count": null,
   "metadata": {},
   "outputs": [],
   "source": []
  },
  {
   "cell_type": "code",
   "execution_count": null,
   "metadata": {},
   "outputs": [],
   "source": []
  },
  {
   "cell_type": "markdown",
   "metadata": {},
   "source": [
    "## Model 2: Deep Learning Models with Word Embeddings"
   ]
  },
  {
   "cell_type": "code",
   "execution_count": 13,
   "metadata": {},
   "outputs": [
    {
     "name": "stderr",
     "output_type": "stream",
     "text": [
      "Using TensorFlow backend.\n",
      "/Applications/anaconda3/lib/python3.7/site-packages/tensorflow/python/framework/dtypes.py:526: FutureWarning: Passing (type, 1) or '1type' as a synonym of type is deprecated; in a future version of numpy, it will be understood as (type, (1,)) / '(1,)type'.\n",
      "  _np_qint8 = np.dtype([(\"qint8\", np.int8, 1)])\n",
      "/Applications/anaconda3/lib/python3.7/site-packages/tensorflow/python/framework/dtypes.py:527: FutureWarning: Passing (type, 1) or '1type' as a synonym of type is deprecated; in a future version of numpy, it will be understood as (type, (1,)) / '(1,)type'.\n",
      "  _np_quint8 = np.dtype([(\"quint8\", np.uint8, 1)])\n",
      "/Applications/anaconda3/lib/python3.7/site-packages/tensorflow/python/framework/dtypes.py:528: FutureWarning: Passing (type, 1) or '1type' as a synonym of type is deprecated; in a future version of numpy, it will be understood as (type, (1,)) / '(1,)type'.\n",
      "  _np_qint16 = np.dtype([(\"qint16\", np.int16, 1)])\n",
      "/Applications/anaconda3/lib/python3.7/site-packages/tensorflow/python/framework/dtypes.py:529: FutureWarning: Passing (type, 1) or '1type' as a synonym of type is deprecated; in a future version of numpy, it will be understood as (type, (1,)) / '(1,)type'.\n",
      "  _np_quint16 = np.dtype([(\"quint16\", np.uint16, 1)])\n",
      "/Applications/anaconda3/lib/python3.7/site-packages/tensorflow/python/framework/dtypes.py:530: FutureWarning: Passing (type, 1) or '1type' as a synonym of type is deprecated; in a future version of numpy, it will be understood as (type, (1,)) / '(1,)type'.\n",
      "  _np_qint32 = np.dtype([(\"qint32\", np.int32, 1)])\n",
      "/Applications/anaconda3/lib/python3.7/site-packages/tensorflow/python/framework/dtypes.py:535: FutureWarning: Passing (type, 1) or '1type' as a synonym of type is deprecated; in a future version of numpy, it will be understood as (type, (1,)) / '(1,)type'.\n",
      "  np_resource = np.dtype([(\"resource\", np.ubyte, 1)])\n"
     ]
    }
   ],
   "source": [
    "from keras.preprocessing.sequence import pad_sequences\n",
    "from keras.layers import Input, Dense, LSTM, Embedding\n",
    "from keras.layers import Dropout, Activation, Bidirectional, GlobalMaxPool1D\n",
    "from keras.models import Sequential\n",
    "from keras import initializers, regularizers, constraints, optimizers, layers\n",
    "from keras.preprocessing import text, sequence\n",
    "from keras.layers import Flatten\n",
    "\n",
    "from keras.utils import to_categorical"
   ]
  },
  {
   "cell_type": "code",
   "execution_count": 14,
   "metadata": {},
   "outputs": [
    {
     "name": "stdout",
     "output_type": "stream",
     "text": [
      "0      7\n",
      "1      1\n",
      "2      0\n",
      "3      2\n",
      "4      3\n",
      "      ..\n",
      "958    3\n",
      "959    2\n",
      "960    2\n",
      "961    2\n",
      "962    2\n",
      "Name: Salary_Bins, Length: 963, dtype: category\n",
      "Categories (8, int64): [0, 1, 2, 3, 4, 5, 6, 7]\n"
     ]
    }
   ],
   "source": [
    "print(target_class)"
   ]
  },
  {
   "cell_type": "code",
   "execution_count": 15,
   "metadata": {},
   "outputs": [],
   "source": [
    "#Encoding to categorical classes\n",
    "y = to_categorical(target_class.values, num_classes=8, dtype=\"float32\")\n"
   ]
  },
  {
   "cell_type": "code",
   "execution_count": 16,
   "metadata": {},
   "outputs": [
    {
     "data": {
      "text/plain": [
       "(963, 8)"
      ]
     },
     "execution_count": 16,
     "metadata": {},
     "output_type": "execute_result"
    }
   ],
   "source": [
    "y.shape"
   ]
  },
  {
   "cell_type": "code",
   "execution_count": 17,
   "metadata": {},
   "outputs": [],
   "source": [
    "tokenizer = text.Tokenizer() #limit the number of words\n",
    "tokenizer.num_words = 500\n",
    "tokenizer.fit_on_texts(list(salary_df['combined_text']))\n",
    "list_tokenized_jd = tokenizer.texts_to_sequences(salary_df['combined_text'])\n",
    "X_t = sequence.pad_sequences(list_tokenized_jd, maxlen=100)"
   ]
  },
  {
   "cell_type": "code",
   "execution_count": 18,
   "metadata": {},
   "outputs": [
    {
     "data": {
      "text/plain": [
       "963"
      ]
     },
     "execution_count": 18,
     "metadata": {},
     "output_type": "execute_result"
    }
   ],
   "source": [
    "len(list_tokenized_jd)"
   ]
  },
  {
   "cell_type": "code",
   "execution_count": 19,
   "metadata": {},
   "outputs": [
    {
     "data": {
      "text/plain": [
       "(963, 100)"
      ]
     },
     "execution_count": 19,
     "metadata": {},
     "output_type": "execute_result"
    }
   ],
   "source": [
    "X_t.shape"
   ]
  },
  {
   "cell_type": "code",
   "execution_count": 28,
   "metadata": {},
   "outputs": [
    {
     "data": {
      "text/plain": [
       "(963, 8)"
      ]
     },
     "execution_count": 28,
     "metadata": {},
     "output_type": "execute_result"
    }
   ],
   "source": [
    "y.shape"
   ]
  },
  {
   "cell_type": "markdown",
   "metadata": {},
   "source": [
    "#### Train-Test Split"
   ]
  },
  {
   "cell_type": "code",
   "execution_count": 29,
   "metadata": {},
   "outputs": [],
   "source": [
    "X_train, X_test, y_train, y_test = train_test_split(X_t, y, test_size=0.1, random_state=4)"
   ]
  },
  {
   "cell_type": "code",
   "execution_count": 30,
   "metadata": {
    "scrolled": true
   },
   "outputs": [
    {
     "data": {
      "text/plain": [
       "(97, 100)"
      ]
     },
     "execution_count": 30,
     "metadata": {},
     "output_type": "execute_result"
    }
   ],
   "source": [
    "X_test.shape"
   ]
  },
  {
   "cell_type": "code",
   "execution_count": 32,
   "metadata": {},
   "outputs": [
    {
     "data": {
      "text/plain": [
       "(97, 8)"
      ]
     },
     "execution_count": 32,
     "metadata": {},
     "output_type": "execute_result"
    }
   ],
   "source": [
    "y_test.shape"
   ]
  },
  {
   "cell_type": "code",
   "execution_count": 41,
   "metadata": {},
   "outputs": [
    {
     "data": {
      "text/plain": [
       "array([ 75,   1,  27, 265,   8,  53, 217, 109,   1,  55,  21,  19,   3,\n",
       "        27, 107, 436, 323, 113,   3,  75, 393,   4,  21,   7,  44, 277,\n",
       "        35, 139,   1,  16, 139,   7,   8,   3, 114, 186, 211,  97, 146,\n",
       "        23, 448,  12,   7,  71,  13,  12,   7,   1, 284,   7,   7, 211,\n",
       "        73,  89,  14, 341,   1, 448,  65,   5, 133,  69,  10, 272,   8,\n",
       "         3, 114, 186, 211,  97, 146, 469,  52,  52, 102,  13, 144, 142,\n",
       "       455, 186, 211,  97, 211,  97, 114,  97, 211, 181,  48, 277, 439,\n",
       "       293, 211, 364,  35,  71,  35,  75,  35, 105], dtype=int32)"
      ]
     },
     "execution_count": 41,
     "metadata": {},
     "output_type": "execute_result"
    }
   ],
   "source": [
    "X_train[0]"
   ]
  },
  {
   "cell_type": "code",
   "execution_count": 42,
   "metadata": {},
   "outputs": [
    {
     "data": {
      "text/plain": [
       "array([0., 0., 0., 0., 1., 0., 0., 0.], dtype=float32)"
      ]
     },
     "execution_count": 42,
     "metadata": {},
     "output_type": "execute_result"
    }
   ],
   "source": [
    "y_train[0]"
   ]
  },
  {
   "cell_type": "code",
   "execution_count": 61,
   "metadata": {},
   "outputs": [],
   "source": [
    "#Transform features by scaling each feature to a given range\n",
    "from sklearn.preprocessing import MinMaxScaler\n",
    "\n",
    "scalarX_train, scalarX_test, scalarY_train, scalarY_test = MinMaxScaler(), MinMaxScaler(), MinMaxScaler(), MinMaxScaler()\n",
    "scalarX_train.fit(X_train)\n",
    "scalarY_train.fit(y_train.reshape(866,1))\n",
    "scalarX_test.fit(X_test)\n",
    "scalarY_test.fit(y_test.reshape(97,1))\n",
    "X_train_new = scalarX_train.transform(X_train)\n",
    "y_train_new = scalarY_train.transform(y_train.reshape(866,1))\n",
    "X_test_new = scalarX_test.transform(X_test)\n",
    "y_test_new = scalarY_test.transform(y_test.reshape(97,1))"
   ]
  },
  {
   "cell_type": "code",
   "execution_count": 62,
   "metadata": {},
   "outputs": [
    {
     "data": {
      "text/plain": [
       "(866, 100)"
      ]
     },
     "execution_count": 62,
     "metadata": {},
     "output_type": "execute_result"
    }
   ],
   "source": [
    "X_train_new.shape"
   ]
  },
  {
   "cell_type": "code",
   "execution_count": 63,
   "metadata": {},
   "outputs": [
    {
     "data": {
      "text/plain": [
       "(866, 1)"
      ]
     },
     "execution_count": 63,
     "metadata": {},
     "output_type": "execute_result"
    }
   ],
   "source": [
    "y_train_new.shape"
   ]
  },
  {
   "cell_type": "code",
   "execution_count": 43,
   "metadata": {
    "scrolled": true
   },
   "outputs": [],
   "source": [
    "model = Sequential()\n",
    "\n",
    "embedding_size = 64\n",
    "model.add(Embedding(output_dim = 64, input_dim = 500, input_length = 100)) #try 100, 200, single LSTM and single dense 100\n",
    "model.add(LSTM(128, return_sequences=True))\n",
    "#model.add(LSTM(64))\n",
    "#model.add(GlobalMaxPool1D())\n",
    "#model.add(Dropout(0.5))\n",
    "model.add(Dense(100, activation='relu'))\n",
    "model.add(Dropout(0.5))\n",
    "#model.add(Dense(32, activation='relu'))\n",
    "model.add(Flatten())   #add Flatten layer \n",
    "model.add(Dense(8, activation='softmax'))"
   ]
  },
  {
   "cell_type": "code",
   "execution_count": 44,
   "metadata": {},
   "outputs": [
    {
     "name": "stdout",
     "output_type": "stream",
     "text": [
      "Model: \"sequential_3\"\n",
      "_________________________________________________________________\n",
      "Layer (type)                 Output Shape              Param #   \n",
      "=================================================================\n",
      "embedding_3 (Embedding)      (None, 100, 64)           32000     \n",
      "_________________________________________________________________\n",
      "lstm_3 (LSTM)                (None, 100, 128)          98816     \n",
      "_________________________________________________________________\n",
      "dense_5 (Dense)              (None, 100, 100)          12900     \n",
      "_________________________________________________________________\n",
      "dropout_3 (Dropout)          (None, 100, 100)          0         \n",
      "_________________________________________________________________\n",
      "flatten_3 (Flatten)          (None, 10000)             0         \n",
      "_________________________________________________________________\n",
      "dense_6 (Dense)              (None, 8)                 80008     \n",
      "=================================================================\n",
      "Total params: 223,724\n",
      "Trainable params: 223,724\n",
      "Non-trainable params: 0\n",
      "_________________________________________________________________\n"
     ]
    }
   ],
   "source": [
    "model.summary()"
   ]
  },
  {
   "cell_type": "code",
   "execution_count": 45,
   "metadata": {},
   "outputs": [],
   "source": [
    "model.compile(loss='categorical_crossentropy', optimizer='adam', metrics=['accuracy'])\n",
    "#model.compile(loss='mse', optimizer='adam', metrics=['mse', 'mae'])"
   ]
  },
  {
   "cell_type": "code",
   "execution_count": 48,
   "metadata": {
    "scrolled": false
   },
   "outputs": [
    {
     "name": "stdout",
     "output_type": "stream",
     "text": [
      "Train on 866 samples, validate on 97 samples\n",
      "Epoch 1/80\n",
      "866/866 [==============================] - 2s 3ms/step - loss: 0.0540 - accuracy: 0.9815 - val_loss: 4.0606 - val_accuracy: 0.4536\n",
      "Epoch 2/80\n",
      "866/866 [==============================] - 2s 3ms/step - loss: 0.0546 - accuracy: 0.9861 - val_loss: 4.3161 - val_accuracy: 0.4639\n",
      "Epoch 3/80\n",
      "866/866 [==============================] - 2s 3ms/step - loss: 0.0834 - accuracy: 0.9827 - val_loss: 4.1485 - val_accuracy: 0.4536\n",
      "Epoch 4/80\n",
      "866/866 [==============================] - 2s 3ms/step - loss: 0.0613 - accuracy: 0.9827 - val_loss: 3.9984 - val_accuracy: 0.4433\n",
      "Epoch 5/80\n",
      "866/866 [==============================] - 2s 3ms/step - loss: 0.0451 - accuracy: 0.9885 - val_loss: 4.2243 - val_accuracy: 0.4639\n",
      "Epoch 6/80\n",
      "866/866 [==============================] - 2s 3ms/step - loss: 0.0303 - accuracy: 0.9931 - val_loss: 4.3117 - val_accuracy: 0.4845\n",
      "Epoch 7/80\n",
      "866/866 [==============================] - 2s 3ms/step - loss: 0.1588 - accuracy: 0.9515 - val_loss: 3.7348 - val_accuracy: 0.4330\n",
      "Epoch 8/80\n",
      "866/866 [==============================] - 2s 3ms/step - loss: 0.0775 - accuracy: 0.9746 - val_loss: 3.8353 - val_accuracy: 0.4433\n",
      "Epoch 9/80\n",
      "866/866 [==============================] - 2s 3ms/step - loss: 0.0512 - accuracy: 0.9850 - val_loss: 3.9306 - val_accuracy: 0.4433\n",
      "Epoch 10/80\n",
      "866/866 [==============================] - 2s 3ms/step - loss: 0.0429 - accuracy: 0.9919 - val_loss: 4.2266 - val_accuracy: 0.4433\n",
      "Epoch 11/80\n",
      "866/866 [==============================] - 2s 3ms/step - loss: 0.0268 - accuracy: 0.9919 - val_loss: 4.5068 - val_accuracy: 0.4742\n",
      "Epoch 12/80\n",
      "866/866 [==============================] - 2s 3ms/step - loss: 0.0323 - accuracy: 0.9896 - val_loss: 4.4381 - val_accuracy: 0.4742\n",
      "Epoch 13/80\n",
      "866/866 [==============================] - 2s 3ms/step - loss: 0.0316 - accuracy: 0.9942 - val_loss: 4.4407 - val_accuracy: 0.4536\n",
      "Epoch 14/80\n",
      "866/866 [==============================] - 2s 3ms/step - loss: 0.0270 - accuracy: 0.9919 - val_loss: 4.4137 - val_accuracy: 0.4639\n",
      "Epoch 15/80\n",
      "866/866 [==============================] - 2s 3ms/step - loss: 0.0200 - accuracy: 0.9942 - val_loss: 4.5570 - val_accuracy: 0.4742\n",
      "Epoch 16/80\n",
      "866/866 [==============================] - 2s 3ms/step - loss: 0.0265 - accuracy: 0.9954 - val_loss: 4.4782 - val_accuracy: 0.4742\n",
      "Epoch 17/80\n",
      "866/866 [==============================] - 3s 3ms/step - loss: 0.0230 - accuracy: 0.9942 - val_loss: 4.4474 - val_accuracy: 0.4742\n",
      "Epoch 18/80\n",
      "866/866 [==============================] - 3s 3ms/step - loss: 0.0325 - accuracy: 0.9919 - val_loss: 4.4404 - val_accuracy: 0.4433\n",
      "Epoch 19/80\n",
      "866/866 [==============================] - 2s 3ms/step - loss: 0.0304 - accuracy: 0.9931 - val_loss: 4.5497 - val_accuracy: 0.4536\n",
      "Epoch 20/80\n",
      "866/866 [==============================] - 2s 3ms/step - loss: 0.0217 - accuracy: 0.9942 - val_loss: 4.5567 - val_accuracy: 0.4845\n",
      "Epoch 21/80\n",
      "866/866 [==============================] - 3s 3ms/step - loss: 0.0172 - accuracy: 0.9931 - val_loss: 4.7062 - val_accuracy: 0.4639\n",
      "Epoch 22/80\n",
      "866/866 [==============================] - 2s 3ms/step - loss: 0.0271 - accuracy: 0.9919 - val_loss: 4.6090 - val_accuracy: 0.4948\n",
      "Epoch 23/80\n",
      "866/866 [==============================] - 2s 3ms/step - loss: 0.0198 - accuracy: 0.9942 - val_loss: 4.5224 - val_accuracy: 0.4742\n",
      "Epoch 24/80\n",
      "866/866 [==============================] - 2s 3ms/step - loss: 0.0201 - accuracy: 0.9931 - val_loss: 4.6418 - val_accuracy: 0.4536\n",
      "Epoch 25/80\n",
      "866/866 [==============================] - 2s 3ms/step - loss: 0.0155 - accuracy: 0.9942 - val_loss: 4.6385 - val_accuracy: 0.4536\n",
      "Epoch 26/80\n",
      "866/866 [==============================] - 2s 3ms/step - loss: 0.0251 - accuracy: 0.9942 - val_loss: 4.7201 - val_accuracy: 0.4639\n",
      "Epoch 27/80\n",
      "866/866 [==============================] - 2s 3ms/step - loss: 0.0311 - accuracy: 0.9908 - val_loss: 4.7113 - val_accuracy: 0.4845\n",
      "Epoch 28/80\n",
      "866/866 [==============================] - 2s 3ms/step - loss: 0.0216 - accuracy: 0.9942 - val_loss: 4.6091 - val_accuracy: 0.4742\n",
      "Epoch 29/80\n",
      "866/866 [==============================] - 2s 3ms/step - loss: 0.0199 - accuracy: 0.9954 - val_loss: 4.7997 - val_accuracy: 0.4639\n",
      "Epoch 30/80\n",
      "866/866 [==============================] - 2s 3ms/step - loss: 0.0221 - accuracy: 0.9954 - val_loss: 4.5955 - val_accuracy: 0.4433\n",
      "Epoch 31/80\n",
      "866/866 [==============================] - 2s 3ms/step - loss: 0.0151 - accuracy: 0.9942 - val_loss: 4.8189 - val_accuracy: 0.4639\n",
      "Epoch 32/80\n",
      "866/866 [==============================] - 2s 3ms/step - loss: 0.0133 - accuracy: 0.9965 - val_loss: 4.6858 - val_accuracy: 0.4742\n",
      "Epoch 33/80\n",
      "866/866 [==============================] - 3s 3ms/step - loss: 0.0188 - accuracy: 0.9931 - val_loss: 4.7394 - val_accuracy: 0.4742\n",
      "Epoch 34/80\n",
      "866/866 [==============================] - 3s 4ms/step - loss: 0.0118 - accuracy: 0.9965 - val_loss: 4.8080 - val_accuracy: 0.4639\n",
      "Epoch 35/80\n",
      "866/866 [==============================] - 3s 3ms/step - loss: 0.0140 - accuracy: 0.9942 - val_loss: 4.7200 - val_accuracy: 0.4742\n",
      "Epoch 36/80\n",
      "866/866 [==============================] - 3s 3ms/step - loss: 0.0195 - accuracy: 0.9942 - val_loss: 4.6573 - val_accuracy: 0.4639\n",
      "Epoch 37/80\n",
      "866/866 [==============================] - 3s 3ms/step - loss: 0.0129 - accuracy: 0.9954 - val_loss: 4.6545 - val_accuracy: 0.4845\n",
      "Epoch 38/80\n",
      "866/866 [==============================] - 2s 3ms/step - loss: 0.0114 - accuracy: 0.9942 - val_loss: 4.8210 - val_accuracy: 0.4639\n",
      "Epoch 39/80\n",
      "866/866 [==============================] - 2s 3ms/step - loss: 0.0144 - accuracy: 0.9919 - val_loss: 4.7934 - val_accuracy: 0.4742\n",
      "Epoch 40/80\n",
      "866/866 [==============================] - 2s 3ms/step - loss: 0.0144 - accuracy: 0.9965 - val_loss: 4.8369 - val_accuracy: 0.4845\n",
      "Epoch 41/80\n",
      "866/866 [==============================] - 3s 3ms/step - loss: 0.0161 - accuracy: 0.9931 - val_loss: 4.8736 - val_accuracy: 0.4639\n",
      "Epoch 42/80\n",
      "866/866 [==============================] - 3s 3ms/step - loss: 0.0280 - accuracy: 0.9919 - val_loss: 4.5167 - val_accuracy: 0.4536\n",
      "Epoch 43/80\n",
      "866/866 [==============================] - 3s 3ms/step - loss: 0.0766 - accuracy: 0.9711 - val_loss: 4.8264 - val_accuracy: 0.3711\n",
      "Epoch 44/80\n",
      "866/866 [==============================] - 2s 3ms/step - loss: 0.0671 - accuracy: 0.9769 - val_loss: 4.7847 - val_accuracy: 0.4330\n",
      "Epoch 45/80\n",
      "866/866 [==============================] - 3s 3ms/step - loss: 0.0769 - accuracy: 0.9781 - val_loss: 4.4340 - val_accuracy: 0.4227\n",
      "Epoch 46/80\n",
      "866/866 [==============================] - 2s 3ms/step - loss: 0.0520 - accuracy: 0.9815 - val_loss: 4.3219 - val_accuracy: 0.4433\n",
      "Epoch 47/80\n",
      "866/866 [==============================] - 2s 3ms/step - loss: 0.0423 - accuracy: 0.9850 - val_loss: 4.5775 - val_accuracy: 0.4330\n",
      "Epoch 48/80\n",
      "866/866 [==============================] - 3s 3ms/step - loss: 0.0301 - accuracy: 0.9896 - val_loss: 4.6140 - val_accuracy: 0.4330\n",
      "Epoch 49/80\n",
      "866/866 [==============================] - 3s 3ms/step - loss: 0.0223 - accuracy: 0.9942 - val_loss: 4.5420 - val_accuracy: 0.4227\n",
      "Epoch 50/80\n",
      "866/866 [==============================] - 2s 3ms/step - loss: 0.0189 - accuracy: 0.9919 - val_loss: 4.7571 - val_accuracy: 0.4330\n",
      "Epoch 51/80\n",
      "866/866 [==============================] - 2s 3ms/step - loss: 0.0192 - accuracy: 0.9942 - val_loss: 4.8985 - val_accuracy: 0.4433\n",
      "Epoch 52/80\n",
      "866/866 [==============================] - 2s 3ms/step - loss: 0.0216 - accuracy: 0.9942 - val_loss: 4.8457 - val_accuracy: 0.4330\n",
      "Epoch 53/80\n",
      "866/866 [==============================] - 2s 3ms/step - loss: 0.0273 - accuracy: 0.9931 - val_loss: 4.6224 - val_accuracy: 0.4124\n",
      "Epoch 54/80\n",
      "866/866 [==============================] - 2s 3ms/step - loss: 0.0214 - accuracy: 0.9908 - val_loss: 4.8894 - val_accuracy: 0.4124\n",
      "Epoch 55/80\n",
      "866/866 [==============================] - 3s 3ms/step - loss: 0.0171 - accuracy: 0.9954 - val_loss: 4.7987 - val_accuracy: 0.4330\n",
      "Epoch 56/80\n",
      "866/866 [==============================] - 2s 3ms/step - loss: 0.0215 - accuracy: 0.9954 - val_loss: 4.8297 - val_accuracy: 0.4124\n",
      "Epoch 57/80\n",
      "866/866 [==============================] - 3s 3ms/step - loss: 0.0186 - accuracy: 0.9942 - val_loss: 4.8211 - val_accuracy: 0.4227\n",
      "Epoch 58/80\n"
     ]
    },
    {
     "name": "stdout",
     "output_type": "stream",
     "text": [
      "866/866 [==============================] - 2s 3ms/step - loss: 0.0142 - accuracy: 0.9954 - val_loss: 4.9054 - val_accuracy: 0.4021\n",
      "Epoch 59/80\n",
      "866/866 [==============================] - 2s 3ms/step - loss: 0.0178 - accuracy: 0.9931 - val_loss: 4.7997 - val_accuracy: 0.4433\n",
      "Epoch 60/80\n",
      "866/866 [==============================] - 2s 3ms/step - loss: 0.0155 - accuracy: 0.9965 - val_loss: 4.9629 - val_accuracy: 0.4021\n",
      "Epoch 61/80\n",
      "866/866 [==============================] - 2s 3ms/step - loss: 0.0121 - accuracy: 0.9942 - val_loss: 4.9184 - val_accuracy: 0.4124\n",
      "Epoch 62/80\n",
      "866/866 [==============================] - 2s 3ms/step - loss: 0.0123 - accuracy: 0.9965 - val_loss: 4.9307 - val_accuracy: 0.4227\n",
      "Epoch 63/80\n",
      "866/866 [==============================] - 2s 3ms/step - loss: 0.0143 - accuracy: 0.9931 - val_loss: 4.9947 - val_accuracy: 0.4227\n",
      "Epoch 64/80\n",
      "866/866 [==============================] - 2s 3ms/step - loss: 0.0113 - accuracy: 0.9931 - val_loss: 4.8927 - val_accuracy: 0.4227\n",
      "Epoch 65/80\n",
      "866/866 [==============================] - 2s 3ms/step - loss: 0.0183 - accuracy: 0.9931 - val_loss: 4.9038 - val_accuracy: 0.4124\n",
      "Epoch 66/80\n",
      "866/866 [==============================] - 2s 3ms/step - loss: 0.0126 - accuracy: 0.9965 - val_loss: 4.9242 - val_accuracy: 0.4227\n",
      "Epoch 67/80\n",
      "866/866 [==============================] - 2s 3ms/step - loss: 0.0196 - accuracy: 0.9954 - val_loss: 4.8407 - val_accuracy: 0.4227\n",
      "Epoch 68/80\n",
      "866/866 [==============================] - 2s 3ms/step - loss: 0.0099 - accuracy: 0.9954 - val_loss: 4.9272 - val_accuracy: 0.4227\n",
      "Epoch 69/80\n",
      "866/866 [==============================] - 2s 3ms/step - loss: 0.0111 - accuracy: 0.9931 - val_loss: 4.9400 - val_accuracy: 0.4227\n",
      "Epoch 70/80\n",
      "866/866 [==============================] - 2s 3ms/step - loss: 0.0091 - accuracy: 0.9965 - val_loss: 5.0153 - val_accuracy: 0.4227\n",
      "Epoch 71/80\n",
      "866/866 [==============================] - 2s 3ms/step - loss: 0.0115 - accuracy: 0.9931 - val_loss: 5.0016 - val_accuracy: 0.4124\n",
      "Epoch 72/80\n",
      "866/866 [==============================] - 2s 3ms/step - loss: 0.0167 - accuracy: 0.9954 - val_loss: 4.9557 - val_accuracy: 0.4227\n",
      "Epoch 73/80\n",
      "866/866 [==============================] - 2s 3ms/step - loss: 0.0139 - accuracy: 0.9954 - val_loss: 4.9554 - val_accuracy: 0.4227\n",
      "Epoch 74/80\n",
      "866/866 [==============================] - 2s 3ms/step - loss: 0.0145 - accuracy: 0.9954 - val_loss: 4.8851 - val_accuracy: 0.4124\n",
      "Epoch 75/80\n",
      "866/866 [==============================] - 2s 3ms/step - loss: 0.0071 - accuracy: 0.9965 - val_loss: 4.9755 - val_accuracy: 0.4124\n",
      "Epoch 76/80\n",
      "866/866 [==============================] - 2s 3ms/step - loss: 0.0078 - accuracy: 0.9977 - val_loss: 5.0911 - val_accuracy: 0.4124\n",
      "Epoch 77/80\n",
      "866/866 [==============================] - 2s 3ms/step - loss: 0.0104 - accuracy: 0.9942 - val_loss: 5.0279 - val_accuracy: 0.4227\n",
      "Epoch 78/80\n",
      "866/866 [==============================] - 2s 3ms/step - loss: 0.0121 - accuracy: 0.9942 - val_loss: 5.0357 - val_accuracy: 0.4227\n",
      "Epoch 79/80\n",
      "866/866 [==============================] - 2s 3ms/step - loss: 0.0127 - accuracy: 0.9965 - val_loss: 5.0561 - val_accuracy: 0.4124\n",
      "Epoch 80/80\n",
      "866/866 [==============================] - 2s 3ms/step - loss: 0.0103 - accuracy: 0.9954 - val_loss: 5.0031 - val_accuracy: 0.4124\n"
     ]
    },
    {
     "data": {
      "text/plain": [
       "<keras.callbacks.callbacks.History at 0x13714d630>"
      ]
     },
     "execution_count": 48,
     "metadata": {},
     "output_type": "execute_result"
    }
   ],
   "source": [
    "model.fit(X_train, y_train, epochs=80, batch_size=32, validation_data=[X_test, y_test])"
   ]
  },
  {
   "cell_type": "markdown",
   "metadata": {},
   "source": [
    "Hyperparameter testing (layer size, learning rate) \n",
    "Grid Search: https://github.com/autonomio/talos\n",
    "Google Collab"
   ]
  },
  {
   "cell_type": "code",
   "execution_count": 49,
   "metadata": {},
   "outputs": [
    {
     "ename": "NameError",
     "evalue": "name 'history' is not defined",
     "output_type": "error",
     "traceback": [
      "\u001b[0;31m---------------------------------------------------------------------------\u001b[0m",
      "\u001b[0;31mNameError\u001b[0m                                 Traceback (most recent call last)",
      "\u001b[0;32m<ipython-input-49-499f21904caf>\u001b[0m in \u001b[0;36m<module>\u001b[0;34m\u001b[0m\n\u001b[1;32m      1\u001b[0m \u001b[0;32mfrom\u001b[0m \u001b[0mmatplotlib\u001b[0m \u001b[0;32mimport\u001b[0m \u001b[0mpyplot\u001b[0m\u001b[0;34m\u001b[0m\u001b[0;34m\u001b[0m\u001b[0m\n\u001b[1;32m      2\u001b[0m \u001b[0;34m\u001b[0m\u001b[0m\n\u001b[0;32m----> 3\u001b[0;31m \u001b[0mpyplot\u001b[0m\u001b[0;34m.\u001b[0m\u001b[0mplot\u001b[0m\u001b[0;34m(\u001b[0m\u001b[0mhistory\u001b[0m\u001b[0;34m.\u001b[0m\u001b[0mhistory\u001b[0m\u001b[0;34m[\u001b[0m\u001b[0;34m'loss'\u001b[0m\u001b[0;34m]\u001b[0m\u001b[0;34m,\u001b[0m \u001b[0mlabel\u001b[0m\u001b[0;34m=\u001b[0m\u001b[0;34m'train'\u001b[0m\u001b[0;34m)\u001b[0m\u001b[0;34m\u001b[0m\u001b[0;34m\u001b[0m\u001b[0m\n\u001b[0m\u001b[1;32m      4\u001b[0m \u001b[0mpyplot\u001b[0m\u001b[0;34m.\u001b[0m\u001b[0mplot\u001b[0m\u001b[0;34m(\u001b[0m\u001b[0mhistory\u001b[0m\u001b[0;34m.\u001b[0m\u001b[0mhistory\u001b[0m\u001b[0;34m[\u001b[0m\u001b[0;34m'val_loss'\u001b[0m\u001b[0;34m]\u001b[0m\u001b[0;34m,\u001b[0m \u001b[0mlabel\u001b[0m\u001b[0;34m=\u001b[0m\u001b[0;34m'test'\u001b[0m\u001b[0;34m)\u001b[0m\u001b[0;34m\u001b[0m\u001b[0;34m\u001b[0m\u001b[0m\n\u001b[1;32m      5\u001b[0m \u001b[0mpyplot\u001b[0m\u001b[0;34m.\u001b[0m\u001b[0mlegend\u001b[0m\u001b[0;34m(\u001b[0m\u001b[0;34m)\u001b[0m\u001b[0;34m\u001b[0m\u001b[0;34m\u001b[0m\u001b[0m\n",
      "\u001b[0;31mNameError\u001b[0m: name 'history' is not defined"
     ]
    }
   ],
   "source": [
    "from matplotlib import pyplot\n",
    "\n",
    "pyplot.plot(history.history['loss'], label='train')\n",
    "pyplot.plot(history.history['val_loss'], label='test')\n",
    "pyplot.legend()\n",
    "pyplot.show()"
   ]
  },
  {
   "cell_type": "code",
   "execution_count": 50,
   "metadata": {},
   "outputs": [],
   "source": [
    "from sklearn.metrics import mean_squared_error, r2_score"
   ]
  },
  {
   "cell_type": "code",
   "execution_count": 51,
   "metadata": {},
   "outputs": [],
   "source": [
    "def nn_model_evaluation(model, skip_epochs=0, X_train=X_train, X_test=X_test, y_train=y_train, y_test=y_test):\n",
    "    \"\"\"\n",
    "    For a given neural network model that has already been fit, prints for the train and tests sets the MSE and r squared\n",
    "    values, a line graph of the loss in each epoch, and a scatterplot of predicted vs. actual values with a line\n",
    "    representing where predicted = actual values. Optionally, a value for skip_epoch can be provided, which skips that\n",
    "    number of epochs in the line graph of losses (useful in cases where the loss in the first epoch is orders of magnitude\n",
    "    larger than subsequent epochs). Training and test sets can also optionally be specified.\n",
    "    \"\"\"\n",
    "\n",
    "    # MSE and r squared values\n",
    "    y_test_pred = model.predict(X_test)\n",
    "    y_train_pred = model.predict(X_train)\n",
    "    print(\"Training MSE:\", round(mean_squared_error(y_train, y_train_pred),4))\n",
    "    print(\"Validation MSE:\", round(mean_squared_error(y_test, y_test_pred),4))\n",
    "    print(\"\\nTraining r2:\", round(r2_score(y_train, y_train_pred),4))\n",
    "    print(\"Validation r2:\", round(r2_score(y_test, y_test_pred),4))\n",
    "    \n",
    "    # Line graph of losses\n",
    "    model_results = model.history.history\n",
    "    plt.plot(list(range((skip_epochs+1),len(model_results['loss'])+1)), model_results['loss'][skip_epochs:], label='Train')\n",
    "    plt.plot(list(range((skip_epochs+1),len(model_results['val_loss'])+1)), model_results['val_loss'][skip_epochs:], label='Test', color='green')\n",
    "    plt.legend()\n",
    "    plt.title('Training and test loss at each epoch', fontsize=14)\n",
    "    plt.show()\n",
    "    \n",
    "    # Scatterplot of predicted vs. actual values\n",
    "    fig, (ax1, ax2) = plt.subplots(1, 2, figsize=(12, 4))\n",
    "    fig.suptitle('Predicted vs. actual values', fontsize=14, y=1)\n",
    "    plt.subplots_adjust(top=0.93, wspace=0)\n",
    "    \n",
    "    ax1.scatter(y_test, y_test_pred, s=2, alpha=0.7)\n",
    "    ax1.plot(list(range(2,8)), list(range(2,8)), color='black', linestyle='--')\n",
    "    ax1.set_title('Test set')\n",
    "    ax1.set_xlabel('Actual values')\n",
    "    ax1.set_ylabel('Predicted values')\n",
    "    \n",
    "    ax2.scatter(y_train, y_train_pred, s=2, alpha=0.7)\n",
    "    ax2.plot(list(range(2,8)), list(range(2,8)), color='black', linestyle='--')\n",
    "    ax2.set_title('Train set')\n",
    "    ax2.set_xlabel('Actual values')\n",
    "    ax2.set_ylabel('')\n",
    "    ax2.set_yticklabels(labels='')\n",
    "    \n",
    "    plt.show()"
   ]
  },
  {
   "cell_type": "code",
   "execution_count": 53,
   "metadata": {},
   "outputs": [
    {
     "name": "stdout",
     "output_type": "stream",
     "text": [
      "Training MSE: 0.0006\n",
      "Validation MSE: 0.1275\n",
      "\n",
      "Training r2: 0.9935\n",
      "Validation r2: -0.1496\n"
     ]
    },
    {
     "data": {
      "image/png": "[encoded data removed]",
      "text/plain": [
       "<Figure size 432x288 with 1 Axes>"
      ]
     },
     "metadata": {
      "needs_background": "light"
     },
     "output_type": "display_data"
    },
    {
     "data": {
      "image/png": "[encoded data removed]",
      "text/plain": [
       "<Figure size 864x288 with 2 Axes>"
      ]
     },
     "metadata": {
      "needs_background": "light"
     },
     "output_type": "display_data"
    }
   ],
   "source": [
    "nn_model_evaluation(model, skip_epochs=0, X_train=X_train, X_test=X_test, y_train=y_train, y_test=y_test)"
   ]
  },
  {
   "cell_type": "code",
   "execution_count": null,
   "metadata": {},
   "outputs": [],
   "source": []
  },
  {
   "cell_type": "code",
   "execution_count": null,
   "metadata": {},
   "outputs": [],
   "source": []
  },
  {
   "cell_type": "code",
   "execution_count": null,
   "metadata": {},
   "outputs": [],
   "source": []
  }
 ],
 "metadata": {
  "kernelspec": {
   "display_name": "Python 3",
   "language": "python",
   "name": "python3"
  },
  "language_info": {
   "codemirror_mode": {
    "name": "ipython",
    "version": 3
   },
   "file_extension": ".py",
   "mimetype": "text/x-python",
   "name": "python",
   "nbconvert_exporter": "python",
   "pygments_lexer": "ipython3",
   "version": "3.7.1"
  },
  "toc": {
   "base_numbering": 1,
   "nav_menu": {},
   "number_sections": true,
   "sideBar": true,
   "skip_h1_title": false,
   "title_cell": "Table of Contents",
   "title_sidebar": "Contents",
   "toc_cell": false,
   "toc_position": {
    "height": "calc(100% - 180px)",
    "left": "10px",
    "top": "150px",
    "width": "182px"
   },
   "toc_section_display": true,
   "toc_window_display": true
  },
  "varInspector": {
   "cols": {
    "lenName": "20",
    "lenType": 16,
    "lenVar": 40
   },
   "kernels_config": {
    "python": {
     "delete_cmd_postfix": "",
     "delete_cmd_prefix": "del ",
     "library": "var_list.py",
     "varRefreshCmd": "print(var_dic_list())"
    },
    "r": {
     "delete_cmd_postfix": ") ",
     "delete_cmd_prefix": "rm(",
     "library": "var_list.r",
     "varRefreshCmd": "cat(var_dic_list()) "
    }
   },
   "position": {
    "height": "144px",
    "left": "797px",
    "right": "20px",
    "top": "-57px",
    "width": "350px"
   },
   "types_to_exclude": [
    "module",
    "function",
    "builtin_function_or_method",
    "instance",
    "_Feature"
   ],
   "window_display": true
  }
 },
 "nbformat": 4,
 "nbformat_minor": 2
}
