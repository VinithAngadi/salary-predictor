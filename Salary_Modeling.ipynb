{
 "cells": [
  {
   "cell_type": "markdown",
   "metadata": {},
   "source": [
    "# Modeling"
   ]
  },
  {
   "cell_type": "markdown",
   "metadata": {},
   "source": [
    "## Import Libraries and the final salary data set"
   ]
  },
  {
   "cell_type": "code",
   "execution_count": 1,
   "metadata": {},
   "outputs": [],
   "source": [
    "import time\n",
    "import nltk\n",
    "from nltk.corpus import stopwords\n",
    "\n",
    "from nltk import word_tokenize, FreqDist\n",
    "from nltk.corpus import stopwords\n",
    "from nltk.collocations import *\n",
    "import string, re\n",
    "\n",
    "from gensim.models import Word2Vec\n",
    "\n",
    "from sklearn.manifold import TSNE\n",
    "from sklearn.feature_extraction.text import TfidfVectorizer\n",
    "from sklearn.model_selection import train_test_split\n",
    "\n",
    "import pandas as pd\n",
    "import numpy as np\n",
    "import matplotlib.pyplot as plt\n",
    "%matplotlib inline\n",
    "np.random.seed(0)"
   ]
  },
  {
   "cell_type": "code",
   "execution_count": 2,
   "metadata": {},
   "outputs": [],
   "source": [
    "salary_df = pd.read_csv(\"salary_final.csv\")"
   ]
  },
  {
   "cell_type": "code",
   "execution_count": 3,
   "metadata": {},
   "outputs": [
    {
     "data": {
      "text/html": [
       "<div>\n",
       "<style scoped>\n",
       "    .dataframe tbody tr th:only-of-type {\n",
       "        vertical-align: middle;\n",
       "    }\n",
       "\n",
       "    .dataframe tbody tr th {\n",
       "        vertical-align: top;\n",
       "    }\n",
       "\n",
       "    .dataframe thead th {\n",
       "        text-align: right;\n",
       "    }\n",
       "</style>\n",
       "<table border=\"1\" class=\"dataframe\">\n",
       "  <thead>\n",
       "    <tr style=\"text-align: right;\">\n",
       "      <th></th>\n",
       "      <th>Unnamed: 0</th>\n",
       "      <th>Title</th>\n",
       "      <th>Company</th>\n",
       "      <th>Link</th>\n",
       "      <th>Review</th>\n",
       "      <th>Salary</th>\n",
       "      <th>Description</th>\n",
       "      <th>Location2</th>\n",
       "      <th>Rate_by</th>\n",
       "      <th>low</th>\n",
       "      <th>high</th>\n",
       "      <th>min</th>\n",
       "      <th>max</th>\n",
       "      <th>adjusted_salary</th>\n",
       "      <th>adjusted_yearly_salary</th>\n",
       "    </tr>\n",
       "  </thead>\n",
       "  <tbody>\n",
       "    <tr>\n",
       "      <th>0</th>\n",
       "      <td>2</td>\n",
       "      <td>2021048 Data Scientist $215,000.00</td>\n",
       "      <td>B4CORP</td>\n",
       "      <td>https://www.indeed.com/pagead/clk?mo=r&amp;ad=-6NY...</td>\n",
       "      <td>None</td>\n",
       "      <td>Up to $215,000 a year</td>\n",
       "      <td>Position Requires a Top Secret (TS/SCI) Cleara...</td>\n",
       "      <td>Arlington, VA</td>\n",
       "      <td>Yearly</td>\n",
       "      <td>Up to $215,000 a year</td>\n",
       "      <td>NaN</td>\n",
       "      <td>215000.0</td>\n",
       "      <td>0.0</td>\n",
       "      <td>215000.0</td>\n",
       "      <td>215000.0</td>\n",
       "    </tr>\n",
       "    <tr>\n",
       "      <th>1</th>\n",
       "      <td>6</td>\n",
       "      <td>Data Science/Data Analyst</td>\n",
       "      <td>CRAiC LLC</td>\n",
       "      <td>https://www.indeed.com/company/CRAiC-LLC/jobs/...</td>\n",
       "      <td>None</td>\n",
       "      <td>$60,000 a year</td>\n",
       "      <td>Cost Readiness Analytics (CRAiC LLC) is lookin...</td>\n",
       "      <td>Arlington, VA</td>\n",
       "      <td>Yearly</td>\n",
       "      <td>$60,000 a year</td>\n",
       "      <td>NaN</td>\n",
       "      <td>60000.0</td>\n",
       "      <td>0.0</td>\n",
       "      <td>60000.0</td>\n",
       "      <td>60000.0</td>\n",
       "    </tr>\n",
       "    <tr>\n",
       "      <th>2</th>\n",
       "      <td>8</td>\n",
       "      <td>Data Science Intern</td>\n",
       "      <td>MilliporeSigma</td>\n",
       "      <td>https://www.indeed.com/company/Serono/jobs/Dat...</td>\n",
       "      <td>3.9</td>\n",
       "      <td>$20 - $25 an hour</td>\n",
       "      <td>Job Title: Data Science Intern\\rA career with ...</td>\n",
       "      <td>Arlington, VA</td>\n",
       "      <td>Hourly</td>\n",
       "      <td>$20</td>\n",
       "      <td>$25 an hour</td>\n",
       "      <td>20.0</td>\n",
       "      <td>25.0</td>\n",
       "      <td>22.5</td>\n",
       "      <td>46800.0</td>\n",
       "    </tr>\n",
       "    <tr>\n",
       "      <th>3</th>\n",
       "      <td>11</td>\n",
       "      <td>Jr. Data Scientist</td>\n",
       "      <td>Numero Data LLC</td>\n",
       "      <td>https://www.indeed.com/company/Numero-Data-LLC...</td>\n",
       "      <td>None</td>\n",
       "      <td>$70,000 - $85,000 a year</td>\n",
       "      <td>Ideal candidate should have a degree in a quan...</td>\n",
       "      <td>Arlington, VA</td>\n",
       "      <td>Yearly</td>\n",
       "      <td>$70,000</td>\n",
       "      <td>$85,000 a year</td>\n",
       "      <td>70000.0</td>\n",
       "      <td>85000.0</td>\n",
       "      <td>77500.0</td>\n",
       "      <td>77500.0</td>\n",
       "    </tr>\n",
       "    <tr>\n",
       "      <th>4</th>\n",
       "      <td>16</td>\n",
       "      <td>Business Data Quality Engineer</td>\n",
       "      <td>HRU Technical Resources</td>\n",
       "      <td>https://www.indeed.com/pagead/clk?mo=r&amp;ad=-6NY...</td>\n",
       "      <td>None</td>\n",
       "      <td>$45 - $55 an hour</td>\n",
       "      <td>Please note that this is not a corp to corp or...</td>\n",
       "      <td>Arlington, VA</td>\n",
       "      <td>Hourly</td>\n",
       "      <td>$45</td>\n",
       "      <td>$55 an hour</td>\n",
       "      <td>45.0</td>\n",
       "      <td>55.0</td>\n",
       "      <td>50.0</td>\n",
       "      <td>104000.0</td>\n",
       "    </tr>\n",
       "  </tbody>\n",
       "</table>\n",
       "</div>"
      ],
      "text/plain": [
       "   Unnamed: 0                               Title                  Company  \\\n",
       "0           2  2021048 Data Scientist $215,000.00                   B4CORP   \n",
       "1           6           Data Science/Data Analyst                CRAiC LLC   \n",
       "2           8                 Data Science Intern           MilliporeSigma   \n",
       "3          11                  Jr. Data Scientist          Numero Data LLC   \n",
       "4          16      Business Data Quality Engineer  HRU Technical Resources   \n",
       "\n",
       "                                                Link Review  \\\n",
       "0  https://www.indeed.com/pagead/clk?mo=r&ad=-6NY...   None   \n",
       "1  https://www.indeed.com/company/CRAiC-LLC/jobs/...   None   \n",
       "2  https://www.indeed.com/company/Serono/jobs/Dat...    3.9   \n",
       "3  https://www.indeed.com/company/Numero-Data-LLC...   None   \n",
       "4  https://www.indeed.com/pagead/clk?mo=r&ad=-6NY...   None   \n",
       "\n",
       "                     Salary  \\\n",
       "0     Up to $215,000 a year   \n",
       "1            $60,000 a year   \n",
       "2         $20 - $25 an hour   \n",
       "3  $70,000 - $85,000 a year   \n",
       "4         $45 - $55 an hour   \n",
       "\n",
       "                                         Description      Location2 Rate_by  \\\n",
       "0  Position Requires a Top Secret (TS/SCI) Cleara...  Arlington, VA  Yearly   \n",
       "1  Cost Readiness Analytics (CRAiC LLC) is lookin...  Arlington, VA  Yearly   \n",
       "2  Job Title: Data Science Intern\\rA career with ...  Arlington, VA  Hourly   \n",
       "3  Ideal candidate should have a degree in a quan...  Arlington, VA  Yearly   \n",
       "4  Please note that this is not a corp to corp or...  Arlington, VA  Hourly   \n",
       "\n",
       "                     low             high       min      max  adjusted_salary  \\\n",
       "0  Up to $215,000 a year              NaN  215000.0      0.0         215000.0   \n",
       "1         $60,000 a year              NaN   60000.0      0.0          60000.0   \n",
       "2                   $20       $25 an hour      20.0     25.0             22.5   \n",
       "3               $70,000    $85,000 a year   70000.0  85000.0          77500.0   \n",
       "4                   $45       $55 an hour      45.0     55.0             50.0   \n",
       "\n",
       "   adjusted_yearly_salary  \n",
       "0                215000.0  \n",
       "1                 60000.0  \n",
       "2                 46800.0  \n",
       "3                 77500.0  \n",
       "4                104000.0  "
      ]
     },
     "execution_count": 3,
     "metadata": {},
     "output_type": "execute_result"
    }
   ],
   "source": [
    "salary_df.head()"
   ]
  },
  {
   "cell_type": "code",
   "execution_count": 4,
   "metadata": {},
   "outputs": [
    {
     "data": {
      "text/plain": [
       "Location2\n",
       "Arlington, VA          45\n",
       "Atlanta, GA            49\n",
       "Austin, TX             39\n",
       "Boston, MA             60\n",
       "Cambridge, MA          12\n",
       "Charlotte, NC          56\n",
       "Chicago, IL            40\n",
       "Dallas, TX             21\n",
       "Denver, CO             39\n",
       "Hartford, CT           46\n",
       "Houston, TX             8\n",
       "Irving, TX              1\n",
       "Los Angeles, CA        96\n",
       "Miami, FL              19\n",
       "New York, NY           77\n",
       "Palo Alto, CA          12\n",
       "Philadelphia, PA       39\n",
       "Pittsburg, PA           4\n",
       "Portland, OR           45\n",
       "Raleigh-Durham, NC      3\n",
       "San Antonio, TX         1\n",
       "San Francisco, CA     128\n",
       "San Jose, CA           41\n",
       "Seattle, WA            67\n",
       "Washington, DC         10\n",
       "Name: adjusted_yearly_salary, dtype: int64"
      ]
     },
     "execution_count": 4,
     "metadata": {},
     "output_type": "execute_result"
    }
   ],
   "source": [
    "salary_df.groupby('Location2')['adjusted_yearly_salary'].count()"
   ]
  },
  {
   "cell_type": "code",
   "execution_count": 5,
   "metadata": {},
   "outputs": [],
   "source": [
    "def clean_word(job_descriptions):\n",
    "    jd_data=[]\n",
    "    pattern = \"([a-zA-Z]+(?:'[a-z]+)?)\"\n",
    "    stopwords_list = stopwords.words('english')\n",
    "    stopwords_list += list(string.punctuation)\n",
    "    stopwords_list += ['0', '1', '2', '3', '4', '5', '6', '7', '8', '9']\n",
    "    \n",
    "    for jd in job_descriptions:\n",
    "        jd_tokens_raw = nltk.regexp_tokenize(jd, pattern)\n",
    "        jd_tokens=[word.lower() for word in jd_tokens_raw]\n",
    "        jd_words_stopped = [word for word in jd_tokens if word not in stopwords_list]\n",
    "        jd_data.append(jd_words_stopped)\n",
    "    return pd.Series(jd_data) # Turn list of lists to series of lists to use in Word2Vec"
   ]
  },
  {
   "cell_type": "code",
   "execution_count": 6,
   "metadata": {},
   "outputs": [],
   "source": [
    "#Combine Title with the Description\n",
    "salary_df['combined_text'] = salary_df['Title'].str.cat(salary_df['Description'], sep = ' ')"
   ]
  },
  {
   "cell_type": "code",
   "execution_count": null,
   "metadata": {},
   "outputs": [],
   "source": []
  },
  {
   "cell_type": "markdown",
   "metadata": {},
   "source": [
    "## Model 1:  Use Word2Vec Model "
   ]
  },
  {
   "cell_type": "markdown",
   "metadata": {},
   "source": [
    "We are going to use Word2Vec model in this section. Word2vec is a group of related models that are used to produce word embeddings. These models are shallow, two-layer neural networks that are trained to reconstruct linguistic contexts of words. Word2vec takes as its input a large corpus of text and produces a vector space, typically of several hundred dimensions, with each unique word in the corpus being assigned a corresponding vector in the space. Word vectors are positioned in the vector space such that words that share common contexts in the corpus are located close to one another in the space.\n",
    "\n",
    "We need to specify following parameter to the model:\n",
    "* the `size` of the word vectors we want to learn \n",
    "* the `window` size to use when training the model\n",
    "* `min_count`, which corresponds to the minimum number of times a word must be used in the corpus in order to be included in the training (for instance, `min_count=5` would only learn word embeddings for words that appear 5 or more times throughout the entire training set)\n",
    "* `workers`, the number of threads to use for training, which can speed up processing (`4` is typically used, since most processors nowadays have at least 4 cores)"
   ]
  },
  {
   "cell_type": "code",
   "execution_count": 7,
   "metadata": {},
   "outputs": [],
   "source": [
    "data = clean_word(salary_df['combined_text'])\n",
    "target = salary_df['adjusted_yearly_salary']"
   ]
  },
  {
   "cell_type": "code",
   "execution_count": 8,
   "metadata": {},
   "outputs": [
    {
     "data": {
      "text/plain": [
       "['data',\n",
       " 'scientist',\n",
       " 'position',\n",
       " 'requires',\n",
       " 'top',\n",
       " 'secret',\n",
       " 'ts',\n",
       " 'sci',\n",
       " 'clearance',\n",
       " 'polygraph',\n",
       " 'estimated',\n",
       " 'salary',\n",
       " 'position',\n",
       " 'level',\n",
       " 'level',\n",
       " 'subject',\n",
       " 'matter',\n",
       " 'expert',\n",
       " 'salary',\n",
       " 'range',\n",
       " 'per',\n",
       " 'year',\n",
       " 'b',\n",
       " 'corp',\n",
       " 'estimated',\n",
       " 'salary',\n",
       " 'ranges',\n",
       " 'position',\n",
       " 'level',\n",
       " 'min',\n",
       " 'salary',\n",
       " 'max',\n",
       " 'salary',\n",
       " 'level',\n",
       " 'subject',\n",
       " 'matter',\n",
       " 'expert',\n",
       " 'level',\n",
       " 'expert',\n",
       " 'level',\n",
       " 'senior',\n",
       " 'level',\n",
       " 'full',\n",
       " 'performance',\n",
       " 'mandatory',\n",
       " 'requirements',\n",
       " 'java',\n",
       " 'development',\n",
       " 'experience',\n",
       " 'production',\n",
       " 'environment',\n",
       " 'required',\n",
       " 'software',\n",
       " 'developer',\n",
       " 'list',\n",
       " 'years',\n",
       " 'experience',\n",
       " 'demonstrated',\n",
       " 'job',\n",
       " 'experience',\n",
       " 'troubleshooting',\n",
       " 'user',\n",
       " 'issues',\n",
       " 'list',\n",
       " 'years',\n",
       " 'experience',\n",
       " 'demonstrated',\n",
       " 'job',\n",
       " 'experience',\n",
       " 'writing',\n",
       " 'system',\n",
       " 'automation',\n",
       " 'scripts',\n",
       " 'linux',\n",
       " 'environment',\n",
       " 'using',\n",
       " 'tools',\n",
       " 'bash',\n",
       " 'sh',\n",
       " 'python',\n",
       " 'ruby',\n",
       " 'perl',\n",
       " 'list',\n",
       " 'years',\n",
       " 'experience',\n",
       " 'demonstrated',\n",
       " 'job',\n",
       " 'experience',\n",
       " 'installing',\n",
       " 'configuring',\n",
       " 'patching',\n",
       " 'troubleshooting',\n",
       " 'rhel',\n",
       " 'based',\n",
       " 'e',\n",
       " 'g',\n",
       " 'sl',\n",
       " 'redhat',\n",
       " 'centos',\n",
       " 'linux',\n",
       " 'os',\n",
       " 'list',\n",
       " 'years',\n",
       " 'experience',\n",
       " 'demonstrated',\n",
       " 'job',\n",
       " 'experience',\n",
       " 'installing',\n",
       " 'configuring',\n",
       " 'patching',\n",
       " 'troubleshooting',\n",
       " 'middleware',\n",
       " 'components',\n",
       " 'linux',\n",
       " 'environment',\n",
       " 'e',\n",
       " 'g',\n",
       " 'mysql',\n",
       " 'tomcat',\n",
       " 'apache',\n",
       " 'etc',\n",
       " 'list',\n",
       " 'years',\n",
       " 'experience',\n",
       " 'strong',\n",
       " 'writing',\n",
       " 'speaking',\n",
       " 'editing',\n",
       " 'skills',\n",
       " 'along',\n",
       " 'ability',\n",
       " 'utilize',\n",
       " 'internal',\n",
       " 'social',\n",
       " 'media',\n",
       " 'tools',\n",
       " 'help',\n",
       " 'messaging',\n",
       " 'promotion',\n",
       " 'marketing',\n",
       " 'list',\n",
       " 'years',\n",
       " 'experience',\n",
       " 'ability',\n",
       " 'organize',\n",
       " 'prioritize',\n",
       " 'tight',\n",
       " 'deadlines',\n",
       " 'list',\n",
       " 'years',\n",
       " 'experience',\n",
       " 'system',\n",
       " 'engineering',\n",
       " 'experience',\n",
       " 'production',\n",
       " 'environment',\n",
       " 'required',\n",
       " 'system',\n",
       " 'engineer',\n",
       " 'list',\n",
       " 'years',\n",
       " 'experience',\n",
       " 'system',\n",
       " 'administration',\n",
       " 'experience',\n",
       " 'production',\n",
       " 'environment',\n",
       " 'required',\n",
       " 'system',\n",
       " 'engineer',\n",
       " 'list',\n",
       " 'years',\n",
       " 'experience',\n",
       " 'development',\n",
       " 'skills',\n",
       " 'experience',\n",
       " 'production',\n",
       " 'environment',\n",
       " 'required',\n",
       " 'system',\n",
       " 'engineer',\n",
       " 'list',\n",
       " 'years',\n",
       " 'experience',\n",
       " 'amazon',\n",
       " 'cloud',\n",
       " 'services',\n",
       " 'list',\n",
       " 'years',\n",
       " 'experience',\n",
       " 'devops',\n",
       " 'practices',\n",
       " 'list',\n",
       " 'years',\n",
       " 'experience',\n",
       " 'server',\n",
       " 'automation',\n",
       " 'tools',\n",
       " 'docker',\n",
       " 'jenkins',\n",
       " 'puppet',\n",
       " 'list',\n",
       " 'years',\n",
       " 'experience',\n",
       " 'docker',\n",
       " 'list',\n",
       " 'years',\n",
       " 'experience',\n",
       " 'kubernettes',\n",
       " 'list',\n",
       " 'years',\n",
       " 'experience',\n",
       " 'optional',\n",
       " 'requirements',\n",
       " 'b',\n",
       " 'corp',\n",
       " 'company',\n",
       " 'information',\n",
       " 'b',\n",
       " 'corp',\n",
       " 'small',\n",
       " 'defense',\n",
       " 'contracting',\n",
       " 'company',\n",
       " 'focuses',\n",
       " 'providing',\n",
       " 'optimum',\n",
       " 'environment',\n",
       " 'mission',\n",
       " 'focused',\n",
       " 'highly',\n",
       " 'skilled',\n",
       " 'consultants',\n",
       " 'support',\n",
       " 'united',\n",
       " 'states',\n",
       " 'america',\n",
       " 'intelligence',\n",
       " 'community',\n",
       " 'defense',\n",
       " 'organizations',\n",
       " 'b',\n",
       " 'corp',\n",
       " 'provides',\n",
       " 'low',\n",
       " 'overhead',\n",
       " 'highly',\n",
       " 'efficient',\n",
       " 'high',\n",
       " 'salary',\n",
       " 'environment',\n",
       " 'allows',\n",
       " 'employees',\n",
       " 'excel',\n",
       " 'meeting',\n",
       " 'client',\n",
       " 'needs',\n",
       " 'b',\n",
       " 'corp',\n",
       " 'looking',\n",
       " 'information',\n",
       " 'technology',\n",
       " 'professionals',\n",
       " 'high',\n",
       " 'sense',\n",
       " 'personal',\n",
       " 'responsibility',\n",
       " 'self',\n",
       " 'motivation',\n",
       " 'mission',\n",
       " 'drive',\n",
       " 'b',\n",
       " 'corp',\n",
       " 'dedication',\n",
       " 'care',\n",
       " 'employees',\n",
       " 'reflected',\n",
       " 'outstanding',\n",
       " 'compensation',\n",
       " 'benefits',\n",
       " 'b',\n",
       " 'corp',\n",
       " 'provides',\n",
       " 'salaries',\n",
       " 'second',\n",
       " 'none',\n",
       " 'b',\n",
       " 'corp',\n",
       " 'benefits',\n",
       " 'reflect',\n",
       " 'company',\n",
       " 'policy',\n",
       " 'putting',\n",
       " 'employees',\n",
       " 'first',\n",
       " 'health',\n",
       " 'insurance',\n",
       " 'demonstrates',\n",
       " 'employer',\n",
       " 'coverage',\n",
       " 'providing',\n",
       " 'employees',\n",
       " 'plan',\n",
       " 'copay',\n",
       " 'coinsurance',\n",
       " 'hsa',\n",
       " 'allow',\n",
       " 'employees',\n",
       " 'accrue',\n",
       " 'health',\n",
       " 'savings',\n",
       " 'future',\n",
       " 'b',\n",
       " 'corp',\n",
       " 'maximum',\n",
       " 'flexibility',\n",
       " 'comp',\n",
       " 'makeup',\n",
       " 'time',\n",
       " 'policy',\n",
       " 'along',\n",
       " 'company',\n",
       " 'cafeteria',\n",
       " 'style',\n",
       " 'benefit',\n",
       " 'plan',\n",
       " 'allows',\n",
       " 'employees',\n",
       " 'maximize',\n",
       " 'benefit',\n",
       " 'dollars',\n",
       " 'reflects',\n",
       " 'b',\n",
       " 'corp',\n",
       " 'commitment',\n",
       " 'employees',\n",
       " 'compensation',\n",
       " 'outstanding',\n",
       " 'salaries',\n",
       " 'retirement',\n",
       " 'full',\n",
       " 'vanguard',\n",
       " 'k',\n",
       " 'plan',\n",
       " 'featuring',\n",
       " 'full',\n",
       " 'scope',\n",
       " 'investment',\n",
       " 'options',\n",
       " 'employer',\n",
       " 'matched',\n",
       " 'contribution',\n",
       " 'employee',\n",
       " 'salary',\n",
       " 'ability',\n",
       " 'max',\n",
       " 'k',\n",
       " 'savings',\n",
       " 'k',\n",
       " 'k',\n",
       " 'employees',\n",
       " 'receive',\n",
       " 'b',\n",
       " 'corp',\n",
       " 'phantom',\n",
       " 'stock',\n",
       " 'year',\n",
       " 'year',\n",
       " 'vesting',\n",
       " 'period',\n",
       " 'insurance',\n",
       " 'employer',\n",
       " 'paid',\n",
       " 'premiums',\n",
       " 'united',\n",
       " 'health',\n",
       " 'care',\n",
       " 'choice',\n",
       " 'plus',\n",
       " 'hsa',\n",
       " 'pos',\n",
       " 'gold',\n",
       " 'w',\n",
       " 'hsa',\n",
       " 'employer',\n",
       " 'funded',\n",
       " 'hsa',\n",
       " 'cover',\n",
       " 'health',\n",
       " 'care',\n",
       " 'deductible',\n",
       " 'health',\n",
       " 'insurance',\n",
       " 'copay',\n",
       " 'co',\n",
       " 'insurance',\n",
       " 'full',\n",
       " 'scope',\n",
       " 'protection',\n",
       " 'family',\n",
       " 'employer',\n",
       " 'premium',\n",
       " 'coverage',\n",
       " 'single',\n",
       " 'family',\n",
       " 'health',\n",
       " 'equity',\n",
       " 'hsa',\n",
       " 'b',\n",
       " 'corp',\n",
       " 'contributes',\n",
       " 'single',\n",
       " 'family',\n",
       " 'health',\n",
       " 'equity',\n",
       " 'hsa',\n",
       " 'cover',\n",
       " 'health',\n",
       " 'care',\n",
       " 'deductible',\n",
       " 'mutual',\n",
       " 'omaha',\n",
       " 'dental',\n",
       " 'vsp',\n",
       " 'vision',\n",
       " 'insurance',\n",
       " 'mutual',\n",
       " 'omaha',\n",
       " 'short',\n",
       " 'term',\n",
       " 'disability',\n",
       " 'salary',\n",
       " 'week',\n",
       " 'mutual',\n",
       " 'omaha',\n",
       " 'long',\n",
       " 'term',\n",
       " 'disability',\n",
       " 'salary',\n",
       " 'month',\n",
       " 'mutual',\n",
       " 'omaha',\n",
       " 'life',\n",
       " 'insurance',\n",
       " 'employee',\n",
       " 'referral',\n",
       " 'bonus',\n",
       " 'refer',\n",
       " 'friend',\n",
       " 'coworker',\n",
       " 'receive',\n",
       " 'per',\n",
       " 'year',\n",
       " 'every',\n",
       " 'year',\n",
       " 'person',\n",
       " 'works',\n",
       " 'b',\n",
       " 'corp',\n",
       " 'paid',\n",
       " 'time',\n",
       " 'pto',\n",
       " 'seven',\n",
       " 'weeks',\n",
       " 'leave',\n",
       " 'per',\n",
       " 'year',\n",
       " 'including',\n",
       " 'ten',\n",
       " 'federal',\n",
       " 'holidays',\n",
       " 'ability',\n",
       " 'purchase',\n",
       " 'additional',\n",
       " 'weeks',\n",
       " 'vacation',\n",
       " 'flexible',\n",
       " 'work',\n",
       " 'schedule',\n",
       " 'comp',\n",
       " 'time',\n",
       " 'customer',\n",
       " 'approval',\n",
       " 'tuition',\n",
       " 'training',\n",
       " 'free',\n",
       " 'cbtnuggets',\n",
       " 'online',\n",
       " 'training',\n",
       " 'account',\n",
       " 'online',\n",
       " 'courses',\n",
       " 'large',\n",
       " 'variety',\n",
       " 'topics',\n",
       " 'including',\n",
       " 'networking',\n",
       " 'security',\n",
       " 'virtualization',\n",
       " 'cloud',\n",
       " 'trusted',\n",
       " 'vendors',\n",
       " 'cisco',\n",
       " 'microsoft',\n",
       " 'google',\n",
       " 'train',\n",
       " 'anytime',\n",
       " 'anywhere',\n",
       " 'variety',\n",
       " 'devices',\n",
       " 'even',\n",
       " 'offline',\n",
       " 'transcender',\n",
       " 'practice',\n",
       " 'exams',\n",
       " 'virtual',\n",
       " 'labs',\n",
       " 'free',\n",
       " 'l',\n",
       " 'inux',\n",
       " 'academy',\n",
       " 'online',\n",
       " 'training',\n",
       " 'account',\n",
       " 'internal',\n",
       " 'tracking',\n",
       " 'j']"
      ]
     },
     "execution_count": 8,
     "metadata": {},
     "output_type": "execute_result"
    }
   ],
   "source": [
    "data[0]"
   ]
  },
  {
   "cell_type": "markdown",
   "metadata": {},
   "source": [
    "### Random Forest Regressor,  Linear SVC and Linear Regression in the pipeline"
   ]
  },
  {
   "cell_type": "markdown",
   "metadata": {},
   "source": [
    "http://nadbordrozd.github.io/blog/2016/05/20/text-classification-with-word2vec/\n",
    "TF-IDF embedding, focus on important words."
   ]
  },
  {
   "cell_type": "markdown",
   "metadata": {},
   "source": [
    "\n",
    "https://scikit-learn.org/stable/modules/classes.html\n",
    "#module-sklearn.feature_extraction.text\n",
    "https://scikit-learn.org/stable/auto_examples/model_selection/grid_search_text_feature_extraction.html"
   ]
  },
  {
   "cell_type": "markdown",
   "metadata": {},
   "source": [
    "#### Word2Vec Model from scratch"
   ]
  },
  {
   "cell_type": "code",
   "execution_count": 28,
   "metadata": {},
   "outputs": [],
   "source": [
    "model = Word2Vec(data,\n",
    "                size=500,\n",
    "                window=5,\n",
    "                min_count=2,\n",
    "                workers=4)"
   ]
  },
  {
   "cell_type": "code",
   "execution_count": 29,
   "metadata": {},
   "outputs": [
    {
     "data": {
      "text/plain": [
       "(3251037, 3482870)"
      ]
     },
     "execution_count": 29,
     "metadata": {},
     "output_type": "execute_result"
    }
   ],
   "source": [
    "model.train(data,total_examples=model.corpus_count, epochs=10)"
   ]
  },
  {
   "cell_type": "code",
   "execution_count": 30,
   "metadata": {},
   "outputs": [],
   "source": [
    "wv = model.wv"
   ]
  },
  {
   "cell_type": "code",
   "execution_count": null,
   "metadata": {},
   "outputs": [],
   "source": [
    "wv.vector_size"
   ]
  },
  {
   "cell_type": "code",
   "execution_count": 31,
   "metadata": {
    "scrolled": true
   },
   "outputs": [
    {
     "data": {
      "text/plain": [
       "[('architect', 0.7793104648590088),\n",
       " ('sr', 0.7628631591796875),\n",
       " ('scientist', 0.7366271018981934),\n",
       " ('developer', 0.7239082455635071),\n",
       " ('administrator', 0.7036694884300232),\n",
       " ('dba', 0.6981167793273926),\n",
       " ('principal', 0.6844441890716553),\n",
       " ('competitively', 0.66315096616745),\n",
       " ('iot', 0.6516892910003662),\n",
       " ('ii', 0.639428973197937)]"
      ]
     },
     "execution_count": 31,
     "metadata": {},
     "output_type": "execute_result"
    }
   ],
   "source": [
    "wv.most_similar('engineer')"
   ]
  },
  {
   "cell_type": "markdown",
   "metadata": {},
   "source": [
    "To be able to use in a pipeline, need fit and transform"
   ]
  },
  {
   "cell_type": "code",
   "execution_count": 32,
   "metadata": {},
   "outputs": [
    {
     "name": "stderr",
     "output_type": "stream",
     "text": [
      "/Applications/anaconda3/lib/python3.7/site-packages/ipykernel_launcher.py:1: DeprecationWarning: Call to deprecated `syn0` (Attribute will be removed in 4.0.0, use self.vectors instead).\n",
      "  \"\"\"Entry point for launching an IPython kernel.\n"
     ]
    }
   ],
   "source": [
    "w2v = dict(zip(model.wv.index2word, model.wv.syn0))"
   ]
  },
  {
   "cell_type": "code",
   "execution_count": 33,
   "metadata": {},
   "outputs": [
    {
     "data": {
      "text/plain": [
       "9077"
      ]
     },
     "execution_count": 33,
     "metadata": {},
     "output_type": "execute_result"
    }
   ],
   "source": [
    "len(w2v.values())"
   ]
  },
  {
   "cell_type": "markdown",
   "metadata": {},
   "source": [
    "Averaging word vectors for all words in a text."
   ]
  },
  {
   "cell_type": "code",
   "execution_count": 34,
   "metadata": {},
   "outputs": [],
   "source": [
    "class MeanEmbeddingVectorizer(object):\n",
    "    def __init__(self, word2vec):\n",
    "        self.word2vec = word2vec\n",
    "        # if a text is empty we should return a vector of zeros\n",
    "        # with the same dimensionality as all the other vectors\n",
    "        self.dim = len(word2vec.values())\n",
    "\n",
    "    def fit(self, X, y):\n",
    "        return self\n",
    "\n",
    "    def transform(self, X):\n",
    "        return np.array([\n",
    "            np.mean([self.word2vec[w] for w in words if w in self.word2vec]\n",
    "                    or [np.zeros(self.dim)], axis=0)\n",
    "            for words in X\n",
    "        ])"
   ]
  },
  {
   "cell_type": "code",
   "execution_count": 35,
   "metadata": {},
   "outputs": [],
   "source": [
    "#Use pipeline\n",
    "from sklearn.ensemble import RandomForestRegressor\n",
    "from sklearn.svm import SVC\n",
    "from sklearn.svm import SVR\n",
    "from sklearn.linear_model import LinearRegression\n",
    "from sklearn.pipeline import Pipeline\n",
    "from sklearn.model_selection import cross_val_score\n",
    "\n",
    "rf =  Pipeline([('Word2Vec Vectorizer', MeanEmbeddingVectorizer(w2v)),\n",
    "              ('Random Forest', RandomForestRegressor(n_estimators=100, verbose=True, n_jobs=3))])\n",
    "svr = Pipeline([('Word2Vec Vectorizer', MeanEmbeddingVectorizer(w2v)),\n",
    "              ('SVR-lin', SVR(kernel='rbf', C=0.5))])\n",
    "                \n",
    "#lr = Pipeline([('Word2Vec Vectorizer', MeanEmbeddingVectorizer(w2v)),\n",
    "              #('Linear Regression', LinearRegression(n_jobs=3))])"
   ]
  },
  {
   "cell_type": "code",
   "execution_count": 42,
   "metadata": {},
   "outputs": [],
   "source": [
    "models = [('Random Forest', rf),\n",
    "          ('SVR-lin', svr)]\n",
    "          #('Linear Regression', lr)]"
   ]
  },
  {
   "cell_type": "code",
   "execution_count": 43,
   "metadata": {},
   "outputs": [
    {
     "name": "stderr",
     "output_type": "stream",
     "text": [
      "[Parallel(n_jobs=3)]: Using backend LokyBackend with 3 concurrent workers.\n",
      "[Parallel(n_jobs=3)]: Done  44 tasks      | elapsed:    3.3s\n",
      "[Parallel(n_jobs=3)]: Done 100 out of 100 | elapsed:    5.6s finished\n",
      "[Parallel(n_jobs=3)]: Using backend ThreadingBackend with 3 concurrent workers.\n",
      "[Parallel(n_jobs=3)]: Done  44 tasks      | elapsed:    0.0s\n",
      "[Parallel(n_jobs=3)]: Done 100 out of 100 | elapsed:    0.0s finished\n",
      "[Parallel(n_jobs=3)]: Using backend LokyBackend with 3 concurrent workers.\n",
      "[Parallel(n_jobs=3)]: Done  82 tasks      | elapsed:    3.8s\n",
      "[Parallel(n_jobs=3)]: Done  95 out of 100 | elapsed:    4.3s remaining:    0.2s\n",
      "[Parallel(n_jobs=3)]: Done 100 out of 100 | elapsed:    4.5s finished\n",
      "[Parallel(n_jobs=3)]: Using backend ThreadingBackend with 3 concurrent workers.\n",
      "[Parallel(n_jobs=3)]: Done  44 tasks      | elapsed:    0.0s\n",
      "[Parallel(n_jobs=3)]: Done 100 out of 100 | elapsed:    0.0s finished\n"
     ]
    }
   ],
   "source": [
    "scores = [(name, cross_val_score(model, data, target, cv=2).mean()) for name, model, in models]"
   ]
  },
  {
   "cell_type": "markdown",
   "metadata": {},
   "source": [
    "TD-IDF Embedding"
   ]
  },
  {
   "cell_type": "code",
   "execution_count": null,
   "metadata": {},
   "outputs": [],
   "source": [
    "class TfidfEmbeddingVectorizer(object):\n",
    "    def __init__(self, word2vec):\n",
    "        self.word2vec = word2vec\n",
    "        self.word2weight = None\n",
    "        self.dim = len(word2vec.values())\n",
    "\n",
    "    def fit(self, X, y):\n",
    "        tfidf = TfidfVectorizer(analyzer=lambda x: x)\n",
    "        tfidf.fit(X)\n",
    "        # if a word was never seen - it must be at least as infrequent\n",
    "        # as any of the known words - so the default idf is the max of \n",
    "        # known idf's\n",
    "        max_idf = max(tfidf.idf_)\n",
    "        self.word2weight = defaultdict(\n",
    "            lambda: max_idf,\n",
    "            [(w, tfidf.idf_[i]) for w, i in tfidf.vocabulary_.items()])\n",
    "\n",
    "        return self\n",
    "\n",
    "    def transform(self, X):\n",
    "        return np.array([\n",
    "                np.mean([self.word2vec[w] * self.word2weight[w]\n",
    "                         for w in words if w in self.word2vec] or\n",
    "                        [np.zeros(self.dim)], axis=0)\n",
    "                for words in X\n",
    "            ])"
   ]
  },
  {
   "cell_type": "code",
   "execution_count": null,
   "metadata": {},
   "outputs": [],
   "source": [
    "#Use pipeline\n",
    "from sklearn.ensemble import RandomForestRegressor\n",
    "from sklearn.svm import SVC\n",
    "from sklearn.svm import SVR\n",
    "from sklearn.linear_model import LinearRegression\n",
    "from sklearn.pipeline import Pipeline\n",
    "from sklearn.model_selection import cross_val_score\n",
    "\n",
    "rf =  Pipeline([('Word2Vec Vectorizer', TfidfEmbeddingVectorizer(w2v)),\n",
    "              ('Random Forest', RandomForestRegressor(n_estimators=100, verbose=True, n_jobs=3))])\n",
    "svr = Pipeline([('Word2Vec Vectorizer', TfidfEmbeddingVectorizer(w2v)),\n",
    "              ('SVR-lin', SVR(kernel='rbf'))])\n",
    "                \n",
    "#lr = Pipeline([('Word2Vec Vectorizer', MeanEmbeddingVectorizer(w2v)),\n",
    "              #('Linear Regression', LinearRegression(n_jobs=3))])"
   ]
  },
  {
   "cell_type": "code",
   "execution_count": null,
   "metadata": {},
   "outputs": [],
   "source": [
    "models = [('Random Forest', rf),\n",
    "          ('SVR-lin', svc)]\n",
    "          #('Linear Regression', lr)]"
   ]
  },
  {
   "cell_type": "code",
   "execution_count": null,
   "metadata": {},
   "outputs": [],
   "source": [
    "scores = [(name, cross_val_score(model, data, target, cv=2).mean()) for name, model, in models]"
   ]
  },
  {
   "cell_type": "code",
   "execution_count": null,
   "metadata": {
    "scrolled": true
   },
   "outputs": [],
   "source": [
    "scores"
   ]
  },
  {
   "cell_type": "code",
   "execution_count": null,
   "metadata": {},
   "outputs": [],
   "source": []
  },
  {
   "cell_type": "code",
   "execution_count": null,
   "metadata": {},
   "outputs": [],
   "source": []
  },
  {
   "cell_type": "markdown",
   "metadata": {},
   "source": [
    "### Use Pretrained GloVe Model"
   ]
  },
  {
   "cell_type": "markdown",
   "metadata": {},
   "source": [
    "#### Getting the Total Vocabulary"
   ]
  },
  {
   "cell_type": "code",
   "execution_count": 24,
   "metadata": {},
   "outputs": [],
   "source": [
    "total_vocabulary = set(word for jd in data for word in jd)"
   ]
  },
  {
   "cell_type": "code",
   "execution_count": 25,
   "metadata": {},
   "outputs": [
    {
     "name": "stdout",
     "output_type": "stream",
     "text": [
      "There are 13283 unique tokens in the dataset.\n"
     ]
    }
   ],
   "source": [
    "len(total_vocabulary)\n",
    "print('There are {} unique tokens in the dataset.'.format(len(total_vocabulary)))"
   ]
  },
  {
   "cell_type": "code",
   "execution_count": 26,
   "metadata": {},
   "outputs": [],
   "source": [
    "#Get the appropriate vectors out of the GloVe file\n",
    "glove = {}\n",
    "with open('glove_6B_50d.txt', 'rb') as f:\n",
    "    for line in f:\n",
    "        parts = line.split()\n",
    "        word = parts[0].decode('utf-8')\n",
    "        if word in total_vocabulary:\n",
    "            vector = np.array(parts[1:], dtype=np.float32)\n",
    "            glove[word] = vector"
   ]
  },
  {
   "cell_type": "code",
   "execution_count": 18,
   "metadata": {},
   "outputs": [
    {
     "data": {
      "text/plain": [
       "array([ 5.3101e-01, -5.5869e-01,  1.7674e+00,  4.4824e-01,  2.2341e-01,\n",
       "       -3.4559e-01, -7.7679e-01, -9.6117e-01,  1.1669e+00,  7.4279e-02,\n",
       "        8.1470e-01, -5.9428e-02,  6.4599e-02,  1.5176e-03,  9.9179e-02,\n",
       "        3.6602e-01, -9.8724e-01, -8.3913e-01,  1.5917e-01, -7.7603e-01,\n",
       "        7.3474e-01, -6.4861e-01,  4.6174e-01,  8.8162e-03,  5.1738e-01,\n",
       "       -6.5976e-01, -7.4010e-01, -1.3928e-01,  8.1094e-02,  2.0657e-01,\n",
       "        3.5652e+00, -8.2264e-01,  5.7360e-01, -1.7268e+00,  6.2356e-03,\n",
       "        6.7672e-02, -2.3411e-01,  3.5163e-02,  2.6507e-01, -2.9966e-01,\n",
       "        7.4323e-01, -4.5027e-01,  1.9406e-01,  4.8611e-01, -4.3075e-01,\n",
       "       -2.5210e-01,  1.2774e+00,  1.5815e+00,  6.5838e-01, -2.0978e-01],\n",
       "      dtype=float32)"
      ]
     },
     "execution_count": 18,
     "metadata": {},
     "output_type": "execute_result"
    }
   ],
   "source": [
    "glove['data']"
   ]
  },
  {
   "cell_type": "code",
   "execution_count": null,
   "metadata": {},
   "outputs": [],
   "source": [
    "len(next(iter(glove)))"
   ]
  },
  {
   "cell_type": "code",
   "execution_count": 27,
   "metadata": {},
   "outputs": [],
   "source": [
    "class W2vVectorizer(object):\n",
    "    \n",
    "    def __init__(self, w2v):\n",
    "        # Takes in a dictionary of words and vectors as input\n",
    "        self.w2v = w2v\n",
    "        if len(w2v) == 0:\n",
    "            self.dimensions = 0\n",
    "        else:\n",
    "            self.dimensions = len(w2v[next(iter(glove))])\n",
    "    \n",
    "    # Note: Even though it doesn't do anything, it's required that this object implement a fit method or else\n",
    "    # it can't be used in a scikit-learn pipeline  \n",
    "    def fit(self, X, y):\n",
    "        return self\n",
    "            \n",
    "    def transform(self, X):\n",
    "        return np.array([\n",
    "            np.mean([self.w2v[w] for w in words if w in self.w2v]\n",
    "                   or [np.zeros(self.dimensions)], axis=0) for words in X])"
   ]
  },
  {
   "cell_type": "markdown",
   "metadata": {},
   "source": [
    "To be able to use in a pipeline, need fit and transform"
   ]
  },
  {
   "cell_type": "markdown",
   "metadata": {},
   "source": [
    "### Use Random Forest Regressor and Linear Regression in the pipeline"
   ]
  },
  {
   "cell_type": "markdown",
   "metadata": {},
   "source": [
    "http://nadbordrozd.github.io/blog/2016/05/20/text-classification-with-word2vec/\n",
    "TF-IDF embedding, focus on important words."
   ]
  },
  {
   "cell_type": "code",
   "execution_count": 28,
   "metadata": {},
   "outputs": [],
   "source": [
    "#Use pipeline\n",
    "from sklearn.ensemble import RandomForestRegressor\n",
    "from sklearn.svm import SVC\n",
    "from sklearn.svm import SVR\n",
    "from sklearn.linear_model import LinearRegression\n",
    "from sklearn.pipeline import Pipeline\n",
    "from sklearn.model_selection import cross_val_score\n",
    "\n",
    "rf =  Pipeline([('Word2Vec Vectorizer', W2vVectorizer(glove)),\n",
    "              ('Random Forest', RandomForestRegressor(n_estimators=100, verbose=True, n_jobs=3))])\n",
    "svr = Pipeline([('Word2Vec Vectorizer', W2vVectorizer(glove)),\n",
    "                ('Support Vector Machine', SVR(kernel='linear'))])\n",
    "lr = Pipeline([('Word2Vec Vectorizer', W2vVectorizer(glove)),\n",
    "              ('Linear Regression', LinearRegression())])"
   ]
  },
  {
   "cell_type": "code",
   "execution_count": 30,
   "metadata": {},
   "outputs": [],
   "source": [
    "models = [('Random Forest', rf),\n",
    "          ('Support Vector Machine', svr),\n",
    "          ('Linear Regression', lr)]"
   ]
  },
  {
   "cell_type": "code",
   "execution_count": 31,
   "metadata": {},
   "outputs": [
    {
     "name": "stderr",
     "output_type": "stream",
     "text": [
      "[Parallel(n_jobs=3)]: Using backend LokyBackend with 3 concurrent workers.\n",
      "[Parallel(n_jobs=3)]: Done  89 tasks      | elapsed:    1.5s\n",
      "[Parallel(n_jobs=3)]: Done 100 out of 100 | elapsed:    1.6s finished\n",
      "[Parallel(n_jobs=3)]: Using backend ThreadingBackend with 3 concurrent workers.\n",
      "[Parallel(n_jobs=3)]: Done  44 tasks      | elapsed:    0.0s\n",
      "[Parallel(n_jobs=3)]: Done 100 out of 100 | elapsed:    0.0s finished\n",
      "[Parallel(n_jobs=3)]: Using backend LokyBackend with 3 concurrent workers.\n",
      "[Parallel(n_jobs=3)]: Done 100 out of 100 | elapsed:    0.5s finished\n",
      "[Parallel(n_jobs=3)]: Using backend ThreadingBackend with 3 concurrent workers.\n",
      "[Parallel(n_jobs=3)]: Done  44 tasks      | elapsed:    0.0s\n",
      "[Parallel(n_jobs=3)]: Done 100 out of 100 | elapsed:    0.0s finished\n"
     ]
    }
   ],
   "source": [
    "scores = [(name, cross_val_score(model, data, target, cv=2).mean()) for name, model, in models]"
   ]
  },
  {
   "cell_type": "code",
   "execution_count": 32,
   "metadata": {},
   "outputs": [
    {
     "data": {
      "text/plain": [
       "[('Random Forest', 0.23296344891439746),\n",
       " ('Support Vector Machine', -0.12380575212964273),\n",
       " ('Linear Regression', 0.21515161505580238)]"
      ]
     },
     "execution_count": 32,
     "metadata": {},
     "output_type": "execute_result"
    }
   ],
   "source": [
    "scores"
   ]
  },
  {
   "cell_type": "markdown",
   "metadata": {},
   "source": [
    "The score is pretty low. There is plenty of room to improve the model performance: standardize the scale of salary, add more parameters to the regression model."
   ]
  },
  {
   "cell_type": "code",
   "execution_count": null,
   "metadata": {},
   "outputs": [],
   "source": []
  },
  {
   "cell_type": "code",
   "execution_count": null,
   "metadata": {},
   "outputs": [],
   "source": []
  },
  {
   "cell_type": "code",
   "execution_count": null,
   "metadata": {},
   "outputs": [],
   "source": []
  },
  {
   "cell_type": "markdown",
   "metadata": {},
   "source": [
    "## Model 2: Deep Learning Models with Word Embeddings"
   ]
  },
  {
   "cell_type": "code",
   "execution_count": 45,
   "metadata": {},
   "outputs": [],
   "source": [
    "from keras.preprocessing.sequence import pad_sequences\n",
    "from keras.layers import Input, Dense, LSTM, Embedding\n",
    "from keras.layers import Dropout, Activation, Bidirectional, GlobalMaxPool1D\n",
    "from keras.models import Sequential\n",
    "from keras import initializers, regularizers, constraints, optimizers, layers\n",
    "from keras.preprocessing import text, sequence\n",
    "from keras.layers import Flatten"
   ]
  },
  {
   "cell_type": "code",
   "execution_count": 10,
   "metadata": {},
   "outputs": [],
   "source": [
    "y = np.array(target)"
   ]
  },
  {
   "cell_type": "code",
   "execution_count": 12,
   "metadata": {},
   "outputs": [
    {
     "data": {
      "text/plain": [
       "array([215000. ,  60000. ,  46800. ,  77500. , 104000. , 130186. ,\n",
       "       104000. ,  50294.4,  50000. ,  93832.5,  93600. ,  32400. ,\n",
       "       125000. , 157500. ,  97015. , 182000. , 139512.5, 104521. ,\n",
       "       125000. ,  12000. , 130000. ,  66320.8, 145000. , 125000. ,\n",
       "       100000. , 135000. ,  45000. , 190000. , 215000. ,  48880. ,\n",
       "       109200. ,  32400. , 122500. , 167500. ,  75000. , 125000. ,\n",
       "       155000. , 140000. , 150000. , 105000. , 111009.5, 132500. ,\n",
       "        32400. ,  94701.5,  88400. ,  39988. ,  26000. , 124800. ,\n",
       "       115000. ,  67000. , 150800. , 125755.5,  65520. , 138743.5,\n",
       "        50000. ,  60320. ,  72800. ,  62400. ,  72500. ,  44040. ,\n",
       "        65000. ,  85000. ,  59800. ,  70000. , 175000. , 100000. ,\n",
       "        90000. , 114400. ,  57500. ,  70000. ,  56671. ,  66000. ,\n",
       "       112500. ,  78000. ,  65520. ,  62500. ,  70000. ,  90000. ,\n",
       "        63440. ,  45000. ,  45000. ,  63000. ,  56475. ,  70000. ,\n",
       "       105000. ,  65000. ,  61000. ,  93964. , 114400. , 150800. ,\n",
       "        85000. ,  35360. ,  75000. ,  70000. ,  76001.5, 112500. ,\n",
       "        87395.5,  60000. ,  87395.5, 350000. , 325000. , 103000. ,\n",
       "        75000. ,  57200. ,  70200. ,  56988. , 150000. ,  32500. ,\n",
       "        82000. ,  73000. , 187200. ,  55000. ,  43680. ,  73902. ,\n",
       "       100000. ,  73200. ,  75000. ,  70000. ,  80000. ,  47840. ,\n",
       "        85000. ,  68436. ,  24960. ,  74880. ,  93600. ,  70000. ,\n",
       "        77862. ,  50000. ,  55000. ,  57200. , 145600. ,  87496. ,\n",
       "        65520. , 150000. ,  42500. , 109200. ,  29120. ,  69000. ,\n",
       "       119250. , 106100. ,  75000. ,  54000. ,  86434. , 137500. ,\n",
       "       100000. , 155000. ,  67746. ,  46800. , 130000. ,  83200. ,\n",
       "        70991.5, 188650. , 111500. ,  88036. ,  74084.5,  62500. ,\n",
       "        50960. , 130000. , 102500. ,  75000. ,  80000. , 213200. ,\n",
       "        46750. ,  47500. , 108160. ,  90531. ,  31200. , 181650. ,\n",
       "        40000. , 217360. ,  80000. , 108600. ,  90000. , 119250. ,\n",
       "       115050. , 120000. , 110000. , 148300. , 177450. , 190000. ,\n",
       "       150000. , 140000. , 140000. , 300000. , 147500. , 157500. ,\n",
       "       180000. , 105000. , 192450. , 117520. , 145000. , 145000. ,\n",
       "       185000. , 135000. , 120000. , 119250. , 192450. , 119250. ,\n",
       "        80000. , 177450. ,  70991.5,  90000. , 148300. , 300000. ,\n",
       "       120000. , 115050. ,  72500. ,  61360. ,  45000. ,  45726.5,\n",
       "        67500. ,  67500. ,  40000. , 100000. ,  71760. , 114400. ,\n",
       "        63878.5,  22880. ,  40560. ,  15080. ,  78000. ,  50000. ,\n",
       "        31200. ,  40560. ,  91520. ,  33280. ,  38480. ,  42000. ,\n",
       "        45760. ,  77500. ,  70000. ,  72500. , 102294.4,  70000. ,\n",
       "       124800. ,  47026.5,  74500. ,  80000. , 111500. ,  42935. ,\n",
       "        39665.6,  60000. ,  14170. ,  68640. ,  63878.5, 109200. ,\n",
       "        60000. ,  72474. ,  83200. ,  77500. , 105000. ,  60000. ,\n",
       "        63878.5,  99840. ,  37440. ,  34320. , 100000. ,  82500. ,\n",
       "        85000. ,  72474. ,  93600. ,  58302.4,  67600. , 100000. ,\n",
       "        20800. , 114400. ,  45000. ,  95000. ,  57500. ,  22607. ,\n",
       "        95000. ,  54080. ,  70000. ,  80000. ,  76960. ,  72800. ,\n",
       "        85000. , 140000. , 105000. , 105000. ,  70000. ,  82160. ,\n",
       "       142500. , 125000. ,  62500. ,  72800. ,  85000. ,  87500. ,\n",
       "        64480. , 100000. ,  33280. ,  92500. ,  49500. ,  47500. ,\n",
       "        31200. ,  90000. , 177450. , 106740. , 130000. , 119600. ,\n",
       "        49192. , 150800. ,  72500. ,  93000. ,  62500. , 140400. ,\n",
       "        75200. ,  60000. , 109200. , 117500. ,  95336.8, 135200. ,\n",
       "       114400. ,  82500. ,  72200. , 125000. ,  75100. , 104000. ,\n",
       "        95000. ,  69415. ,  80000. ,  67500. ,  23920. ,  65000. ,\n",
       "        32240. , 208000. , 145600. , 119600. , 162732.5, 130000. ,\n",
       "       180000. ,  62496. , 135000. ,  65520. ,  95082. ,  65000. ,\n",
       "        93600. ,  97500. , 104000. , 175000. ,  55000. , 110000. ,\n",
       "        41400. ,  40560. , 180000. ,  85000. , 130000. ,  37500. ,\n",
       "        36400. ,  87500. , 100880. ,  93756. , 160000. ,  87500. ,\n",
       "        98800. ,  93600. , 110000. , 135200. , 109200. , 205920. ,\n",
       "       145600. ,  80000. ,  41600. ,  90354.5,  54080. ,  56992. ,\n",
       "        40000. , 119600. ,  57200. ,  71846. ,  75049.5,  60029.5,\n",
       "       165000. ,  75920. ,  41600. , 114400. ,  53810. ,  38480. ,\n",
       "        56241.5,  79162.5, 135000. ,  87500. , 175000. ,  31500. ,\n",
       "       110427.5,  62400. ,  41600. ,  67714.4, 105000. , 166400. ,\n",
       "        65520. , 100000. ,  56992. , 140400. ,  56160. , 119440. ,\n",
       "       124218.5,  41340. ,  41600. , 119440. , 114845.5,  38480. ,\n",
       "       175000. , 145000. ,  48880. , 145000. , 145000. ,  50886. ,\n",
       "        52000. ,  62400. ,  24960. ,  36500. ,  33280. ,  40000. ,\n",
       "        41600. ,  87500. ,  55000. ,  42000. ,  70000. , 175000. ,\n",
       "       120000. , 175000. , 175000. ,  27040. ,  27040. , 100000. ,\n",
       "        87000. ,  89250. ,  60000. , 107500. ,  62500. ,  52500. ,\n",
       "        27000. , 100000. ,  65000. ,  41600. ,  60000. ,  75000. ,\n",
       "       362500. ,  60000. ,  69000. ,  70000. ,  58240. ,  35360. ,\n",
       "        55000. ,  52000. ,  41600. ,  66000. ,  82500. ,  36000. ,\n",
       "        60000. ,  48000. , 117500. ,  41600. , 175000. ,  75000. ,\n",
       "       115000. , 100000. ,  78000. , 130000. , 130000. , 130000. ,\n",
       "        81645. , 175000. ,  81645. , 175000. , 115000. , 175000. ,\n",
       "        63440. ,  45000. ,  72500. , 175000. , 142500. ,  84500. ,\n",
       "        75000. , 175000. , 175000. , 115000. , 107500. ,  62500. ,\n",
       "        62400. ,  44720. ,  65000. ,  54080. ,  53892.8, 115000. ,\n",
       "       175000. ,  60000. ,  47500. ,  53892.8,  35000. ,  60000. ,\n",
       "       145600. ,  82500. , 115000. , 150000. , 175000. ,  45000. ,\n",
       "        52500. ,  42500. ,  91000. , 115000. , 105000. ,  90000. ,\n",
       "       160000. , 115000. ,  60500. ,  36400. ,  27000. , 137500. ,\n",
       "        80000. , 131425. , 131425. ,  30160. , 105000. ,  65000. ,\n",
       "        90000. ,  50000. ,  42500. ,  60320. , 106600. ,  80637.5,\n",
       "        50000. ,  80000. ,  35360. ,  89440. ,  33280. ,  91461. ,\n",
       "        49000. ,  65520. ,  45000. ,  70000. , 110000. ,  65000. ,\n",
       "        75000. , 156000. , 124800. , 120640. ,  87500. , 109200. ,\n",
       "        70000. , 110000. , 157500. , 119600. ,  60000. ,  72254.5,\n",
       "        84121.5,  64480. ,  42640. ,  41600. ,  65520. , 120000. ,\n",
       "        80000. ,  41600. ,  64500. ,  67500. , 114400. ,  62185.5,\n",
       "       119600. ,  55000. , 100000. ,  85132.5,  75000. ,  90253.5,\n",
       "        94057.5,  70000. ,  65000. ,  59259.5,  95000. ,  72576. ,\n",
       "        70000. , 109518. , 126086. ,  52500. , 109647. , 114400. ,\n",
       "        37440. ,  55000. , 128960. , 120000. , 145000. ,  62410.4,\n",
       "        70000. ,  60000. ,  57500. ,  67500. , 127920. ,  41600. ,\n",
       "       180000. ,  50000. , 150000. ,  95000. , 150000. , 150000. ,\n",
       "        75000. , 150000. ,  95000. , 100000. ,  95680. , 101920. ,\n",
       "       195000. ,  80000. ,  10000. ,  60172. ,  67500. , 105000. ,\n",
       "       125000. ,  82500. , 140000. , 127500. , 150000. , 100000. ,\n",
       "       226720. , 120000. ,  62400. ,  77500. , 214240. ,  25480. ,\n",
       "        41600. , 192500. , 145600. , 114756.5,  71240. , 200000. ,\n",
       "       105000. , 103500. ,  67600. ,  83200. ,  72800. ,  57500. ,\n",
       "        65000. , 110000. ,  92500. ,  80000. ,  85000. ,  55000. ,\n",
       "        61360. ,  90000. ,  90000. ,  34320. , 142500. ,  60000. ,\n",
       "       100000. ,  60000. , 124800. ,  62500. ,  60000. ,  62400. ,\n",
       "       119600. ,  87500. ,  83200. , 124800. ,  87500. ,  60000. ,\n",
       "       166400. , 100000. , 150800. ,  54080. ,  60000. ,  85000. ,\n",
       "        49036. ,  90000. ,  70000. ,  77500. , 110000. , 111965.5,\n",
       "       125000. , 130000. , 140000. ,  63636. , 140400. ,  23400. ,\n",
       "        35360. ,  66877.5,  39520. ,  82500. ,  77500. ,  50000. ,\n",
       "        65520. , 119600. ,  47500. ,  85000. , 125975. ,  77500. ,\n",
       "        48000. ,  66000. , 147500. , 142500. ,  50000. , 160000. ,\n",
       "        29640. , 132306. ,  46800. , 100000. , 105000. ,  59377.5,\n",
       "        50000. ,  65000. ,  38480. ,  91407. , 135000. , 105000. ,\n",
       "       135000. ,  65000. , 149227. ,  62384. ,  62384. ,  76960. ,\n",
       "        98800. ,  53077.5, 120000. , 115000. , 104000. ,  65520. ,\n",
       "       114400. , 150000. , 150000. , 187200. , 130000. , 102500. ,\n",
       "        33280. , 213200. , 200000. , 187500. , 200000. ,  52000. ,\n",
       "       155000. , 152500. , 104000. , 213200. , 195000. , 200000. ,\n",
       "       180000. ,  67500. , 140400. ,  67500. ,  94848. , 166400. ,\n",
       "       300000. , 275000. , 195000. , 200000. , 190000. , 220000. ,\n",
       "        10000. , 187500. , 220000. , 115000. , 195000. , 220000. ,\n",
       "       190000. , 152500. , 220000. , 220000. , 190000. ,  55000. ,\n",
       "       200000. , 175000. ,  72800. , 192500. , 250000. ,  85000. ,\n",
       "       112078.5,  92500. ,  75000. , 182000. , 101920. , 182500. ,\n",
       "        82500. ,  23000. ,  77500. , 182000. ,  70500. ,  80000. ,\n",
       "        78084. , 127500. ,  85280. ,  62500. , 110644.5, 218400. ,\n",
       "        80000. ,  91950. , 110000. , 119600. ,  98800. , 156000. ,\n",
       "       170560. , 117953.5, 117741. , 130000. , 101701.6,  91950. ,\n",
       "        87000. , 135200. ,  83200. , 117748.8, 116274. , 140000. ,\n",
       "        82500. , 169644.8, 101699. ,  95832. , 113172.8, 136318. ,\n",
       "       128460. , 218400. , 145600. , 120640. , 114400. ,  68640. ,\n",
       "        85400. , 124800. ,  50604. ,  52800. , 117748.8,  52000. ,\n",
       "       117748.8, 117748.8, 140000. ,  79092. ,  80000. , 100000. ,\n",
       "        85280. , 130000. , 156000. , 156000. ,  57500. , 114400. ,\n",
       "       112500. , 160000. , 132080. , 140000. ,  62400. ,  98124. ,\n",
       "       155000. ,  93600. ,  36000. ,  34008. , 225000. , 100000. ,\n",
       "       135200. , 160000. , 195000. ,  28080. , 160000. ,  43680. ,\n",
       "        70000. ,  69992. , 135000. ,  82500. ,  60000. ,  75000. ,\n",
       "        46800. , 155000. , 155000. ,  83200. , 175000. , 155000. ,\n",
       "       175000. , 143050. , 143050. , 210000. , 155000. , 165000. ,\n",
       "        70000. ,  46800. ,  92000. ,  98800. , 142500. , 102500. ,\n",
       "        74216. ,  67193.5, 129000. , 160000. , 212500. , 160000. ,\n",
       "       175000. ,  95000. ,  54080. , 165000. , 160000. , 175000. ,\n",
       "       155000. , 115000. , 166400. ,  43680. ,  60000. ,  45000. ,\n",
       "        50500. , 120000. ,  45000. ,  32760. , 132500. , 109200. ,\n",
       "       127500. , 362500. ,  60000. ,  50000. ,  36400. , 117520. ,\n",
       "       125960.5, 140000. ,  37960. ,  56000. , 102500. ,  66000. ,\n",
       "        41600. ,  85000. ,  53750. , 140400. ,  95000. , 170000. ,\n",
       "       142500. ,  57200. , 155000. , 130000. , 137500. , 130000. ,\n",
       "        62500. ,  62400. ,  65000. ,  46000. ,  80000. ,  98800. ,\n",
       "       104000. ,  97042.4, 181650. ,  70000. ,  50000. ,  98800. ,\n",
       "       107031. , 124800. , 110240. ,  90000. ,  80386.5, 213200. ,\n",
       "       115000. , 177450. , 156000. , 115050. ,  93600. , 192450. ,\n",
       "        72800. , 114400. , 192450. , 124800. , 109200. , 104000. ,\n",
       "       160000. ,  98800. , 117520. , 150000. , 109200. , 109200. ,\n",
       "        77500. ,  57500. , 114000. ,  94000. , 113000. ,  94000. ,\n",
       "        94000. ,  85000. ,  80000. ])"
      ]
     },
     "execution_count": 12,
     "metadata": {},
     "output_type": "execute_result"
    }
   ],
   "source": [
    "y"
   ]
  },
  {
   "cell_type": "code",
   "execution_count": 68,
   "metadata": {},
   "outputs": [],
   "source": [
    "tokenizer = text.Tokenizer() #limit the number of words\n",
    "tokenizer.num_words = 500\n",
    "tokenizer.fit_on_texts(list(salary_df['combined_text']))\n",
    "list_tokenized_jd = tokenizer.texts_to_sequences(salary_df['combined_text'])\n",
    "X_t = sequence.pad_sequences(list_tokenized_jd, maxlen=100)"
   ]
  },
  {
   "cell_type": "code",
   "execution_count": 69,
   "metadata": {},
   "outputs": [
    {
     "data": {
      "text/plain": [
       "963"
      ]
     },
     "execution_count": 69,
     "metadata": {},
     "output_type": "execute_result"
    }
   ],
   "source": [
    "len(list_tokenized_jd)"
   ]
  },
  {
   "cell_type": "code",
   "execution_count": 70,
   "metadata": {},
   "outputs": [
    {
     "data": {
      "text/plain": [
       "(963, 100)"
      ]
     },
     "execution_count": 70,
     "metadata": {},
     "output_type": "execute_result"
    }
   ],
   "source": [
    "X_t.shape"
   ]
  },
  {
   "cell_type": "markdown",
   "metadata": {},
   "source": [
    "#### Train-Test Split"
   ]
  },
  {
   "cell_type": "code",
   "execution_count": 73,
   "metadata": {},
   "outputs": [],
   "source": [
    "X_train, X_test, y_train, y_test = train_test_split(X_t, y, test_size=0.1, random_state=4)"
   ]
  },
  {
   "cell_type": "code",
   "execution_count": 74,
   "metadata": {},
   "outputs": [
    {
     "data": {
      "text/plain": [
       "(866,)"
      ]
     },
     "execution_count": 74,
     "metadata": {},
     "output_type": "execute_result"
    }
   ],
   "source": [
    "y_train.shape"
   ]
  },
  {
   "cell_type": "code",
   "execution_count": 17,
   "metadata": {},
   "outputs": [
    {
     "data": {
      "text/plain": [
       "(866,)"
      ]
     },
     "execution_count": 17,
     "metadata": {},
     "output_type": "execute_result"
    }
   ],
   "source": [
    "y_train.shape"
   ]
  },
  {
   "cell_type": "code",
   "execution_count": 75,
   "metadata": {},
   "outputs": [],
   "source": [
    "#Transform features by scaling each feature to a given range\n",
    "from sklearn.preprocessing import MinMaxScaler\n",
    "\n",
    "scalarX_train, scalarX_test, scalarY_train, scalarY_test = MinMaxScaler(), MinMaxScaler(), MinMaxScaler(), MinMaxScaler()\n",
    "scalarX_train.fit(X_train)\n",
    "scalarY_train.fit(y_train.reshape(866,1))\n",
    "scalarX_test.fit(X_test)\n",
    "scalarY_test.fit(y_test.reshape(97,1))\n",
    "X_train_new = scalarX_train.transform(X_train)\n",
    "y_train_new = scalarY_train.transform(y_train.reshape(866,1))\n",
    "X_test_new = scalarX_test.transform(X_test)\n",
    "y_test_new = scalarY_test.transform(y_test.reshape(97,1))"
   ]
  },
  {
   "cell_type": "code",
   "execution_count": 76,
   "metadata": {},
   "outputs": [
    {
     "data": {
      "text/plain": [
       "(866, 100)"
      ]
     },
     "execution_count": 76,
     "metadata": {},
     "output_type": "execute_result"
    }
   ],
   "source": [
    "X_train_new.shape"
   ]
  },
  {
   "cell_type": "code",
   "execution_count": 77,
   "metadata": {},
   "outputs": [
    {
     "data": {
      "text/plain": [
       "(866, 1)"
      ]
     },
     "execution_count": 77,
     "metadata": {},
     "output_type": "execute_result"
    }
   ],
   "source": [
    "y_train_new.shape"
   ]
  },
  {
   "cell_type": "code",
   "execution_count": 78,
   "metadata": {
    "scrolled": true
   },
   "outputs": [],
   "source": [
    "model = Sequential()\n",
    "\n",
    "embedding_size = 64\n",
    "model.add(Embedding(100, embedding_size, input_length = 100 )) #try 100, 200, single LSTM and single dense 100\n",
    "model.add(LSTM(128, return_sequences=True))\n",
    "#model.add(LSTM(64))\n",
    "#model.add(GlobalMaxPool1D())\n",
    "#model.add(Dropout(0.5))\n",
    "model.add(Dense(100, activation='relu'))\n",
    "model.add(Dropout(0.5))\n",
    "#model.add(Dense(32, activation='relu'))\n",
    "model.add(Flatten())   #add Flatten layer \n",
    "model.add(Dense(1, activation='linear'))"
   ]
  },
  {
   "cell_type": "code",
   "execution_count": 79,
   "metadata": {},
   "outputs": [
    {
     "name": "stdout",
     "output_type": "stream",
     "text": [
      "Model: \"sequential_10\"\n",
      "_________________________________________________________________\n",
      "Layer (type)                 Output Shape              Param #   \n",
      "=================================================================\n",
      "embedding_10 (Embedding)     (None, 100, 64)           6400      \n",
      "_________________________________________________________________\n",
      "lstm_10 (LSTM)               (None, 100, 128)          98816     \n",
      "_________________________________________________________________\n",
      "dense_24 (Dense)             (None, 100, 100)          12900     \n",
      "_________________________________________________________________\n",
      "dropout_10 (Dropout)         (None, 100, 100)          0         \n",
      "_________________________________________________________________\n",
      "flatten_5 (Flatten)          (None, 10000)             0         \n",
      "_________________________________________________________________\n",
      "dense_25 (Dense)             (None, 1)                 10001     \n",
      "=================================================================\n",
      "Total params: 128,117\n",
      "Trainable params: 128,117\n",
      "Non-trainable params: 0\n",
      "_________________________________________________________________\n"
     ]
    }
   ],
   "source": [
    "model.summary()"
   ]
  },
  {
   "cell_type": "code",
   "execution_count": 80,
   "metadata": {},
   "outputs": [],
   "source": [
    "model.compile(loss='mse', optimizer='adam', metrics=['mse', 'mae'])"
   ]
  },
  {
   "cell_type": "code",
   "execution_count": 81,
   "metadata": {
    "scrolled": false
   },
   "outputs": [
    {
     "name": "stdout",
     "output_type": "stream",
     "text": [
      "Train on 692 samples, validate on 174 samples\n",
      "Epoch 1/50\n",
      "692/692 [==============================] - 3s 4ms/step - loss: 0.0272 - mse: 0.0272 - mae: 0.1285 - val_loss: 0.0181 - val_mse: 0.0181 - val_mae: 0.1068\n",
      "Epoch 2/50\n",
      "692/692 [==============================] - 2s 3ms/step - loss: 0.0213 - mse: 0.0213 - mae: 0.1140 - val_loss: 0.0185 - val_mse: 0.0185 - val_mae: 0.1013\n",
      "Epoch 3/50\n",
      "692/692 [==============================] - 2s 3ms/step - loss: 0.0226 - mse: 0.0226 - mae: 0.1161 - val_loss: 0.0172 - val_mse: 0.0172 - val_mae: 0.1009\n",
      "Epoch 4/50\n",
      "692/692 [==============================] - 2s 3ms/step - loss: 0.0214 - mse: 0.0214 - mae: 0.1143 - val_loss: 0.0179 - val_mse: 0.0179 - val_mae: 0.1061\n",
      "Epoch 5/50\n",
      "692/692 [==============================] - 2s 3ms/step - loss: 0.0223 - mse: 0.0223 - mae: 0.1150 - val_loss: 0.0193 - val_mse: 0.0193 - val_mae: 0.1125\n",
      "Epoch 6/50\n",
      "692/692 [==============================] - 2s 3ms/step - loss: 0.0225 - mse: 0.0225 - mae: 0.1168 - val_loss: 0.0172 - val_mse: 0.0172 - val_mae: 0.1010\n",
      "Epoch 7/50\n",
      "692/692 [==============================] - 2s 3ms/step - loss: 0.0213 - mse: 0.0213 - mae: 0.1136 - val_loss: 0.0176 - val_mse: 0.0176 - val_mae: 0.1045\n",
      "Epoch 8/50\n",
      "692/692 [==============================] - 2s 3ms/step - loss: 0.0212 - mse: 0.0212 - mae: 0.1137 - val_loss: 0.0174 - val_mse: 0.0174 - val_mae: 0.1002\n",
      "Epoch 9/50\n",
      "692/692 [==============================] - 2s 3ms/step - loss: 0.0210 - mse: 0.0210 - mae: 0.1131 - val_loss: 0.0176 - val_mse: 0.0176 - val_mae: 0.1042\n",
      "Epoch 10/50\n",
      "692/692 [==============================] - 2s 3ms/step - loss: 0.0218 - mse: 0.0218 - mae: 0.1144 - val_loss: 0.0211 - val_mse: 0.0211 - val_mae: 0.1058\n",
      "Epoch 11/50\n",
      "692/692 [==============================] - 2s 3ms/step - loss: 0.0216 - mse: 0.0216 - mae: 0.1136 - val_loss: 0.0176 - val_mse: 0.0176 - val_mae: 0.1041\n",
      "Epoch 12/50\n",
      "692/692 [==============================] - 2s 3ms/step - loss: 0.0216 - mse: 0.0216 - mae: 0.1136 - val_loss: 0.0172 - val_mse: 0.0172 - val_mae: 0.1013\n",
      "Epoch 13/50\n",
      "692/692 [==============================] - 2s 3ms/step - loss: 0.0211 - mse: 0.0211 - mae: 0.1130 - val_loss: 0.0180 - val_mse: 0.0180 - val_mae: 0.1001\n",
      "Epoch 14/50\n",
      "692/692 [==============================] - 2s 3ms/step - loss: 0.0194 - mse: 0.0194 - mae: 0.1090 - val_loss: 0.0175 - val_mse: 0.0175 - val_mae: 0.1004\n",
      "Epoch 15/50\n",
      "692/692 [==============================] - 2s 3ms/step - loss: 0.0204 - mse: 0.0204 - mae: 0.1107 - val_loss: 0.0179 - val_mse: 0.0179 - val_mae: 0.1009\n",
      "Epoch 16/50\n",
      "692/692 [==============================] - 2s 3ms/step - loss: 0.0201 - mse: 0.0201 - mae: 0.1089 - val_loss: 0.0179 - val_mse: 0.0179 - val_mae: 0.1031\n",
      "Epoch 17/50\n",
      "692/692 [==============================] - 2s 3ms/step - loss: 0.0187 - mse: 0.0187 - mae: 0.1062 - val_loss: 0.0188 - val_mse: 0.0188 - val_mae: 0.1095\n",
      "Epoch 18/50\n",
      "692/692 [==============================] - 2s 3ms/step - loss: 0.0190 - mse: 0.0190 - mae: 0.1065 - val_loss: 0.0177 - val_mse: 0.0177 - val_mae: 0.1042\n",
      "Epoch 19/50\n",
      "692/692 [==============================] - 2s 3ms/step - loss: 0.0199 - mse: 0.0199 - mae: 0.1077 - val_loss: 0.0176 - val_mse: 0.0176 - val_mae: 0.1009\n",
      "Epoch 20/50\n",
      "692/692 [==============================] - 2s 3ms/step - loss: 0.0188 - mse: 0.0188 - mae: 0.1063 - val_loss: 0.0179 - val_mse: 0.0179 - val_mae: 0.1009\n",
      "Epoch 21/50\n",
      "692/692 [==============================] - 2s 3ms/step - loss: 0.0191 - mse: 0.0191 - mae: 0.1053 - val_loss: 0.0173 - val_mse: 0.0173 - val_mae: 0.1007\n",
      "Epoch 22/50\n",
      "692/692 [==============================] - 2s 3ms/step - loss: 0.0185 - mse: 0.0185 - mae: 0.1034 - val_loss: 0.0180 - val_mse: 0.0180 - val_mae: 0.1003\n",
      "Epoch 23/50\n",
      "692/692 [==============================] - 2s 3ms/step - loss: 0.0182 - mse: 0.0182 - mae: 0.1029 - val_loss: 0.0178 - val_mse: 0.0178 - val_mae: 0.1012\n",
      "Epoch 24/50\n",
      "692/692 [==============================] - 2s 3ms/step - loss: 0.0187 - mse: 0.0187 - mae: 0.1049 - val_loss: 0.0176 - val_mse: 0.0176 - val_mae: 0.1006\n",
      "Epoch 25/50\n",
      "692/692 [==============================] - 2s 3ms/step - loss: 0.0181 - mse: 0.0181 - mae: 0.1029 - val_loss: 0.0176 - val_mse: 0.0176 - val_mae: 0.1007\n",
      "Epoch 26/50\n",
      "692/692 [==============================] - 2s 3ms/step - loss: 0.0177 - mse: 0.0177 - mae: 0.1012 - val_loss: 0.0177 - val_mse: 0.0177 - val_mae: 0.1033\n",
      "Epoch 27/50\n",
      "692/692 [==============================] - 2s 3ms/step - loss: 0.0179 - mse: 0.0179 - mae: 0.1010 - val_loss: 0.0182 - val_mse: 0.0182 - val_mae: 0.1063\n",
      "Epoch 28/50\n",
      "692/692 [==============================] - 3s 4ms/step - loss: 0.0188 - mse: 0.0188 - mae: 0.1043 - val_loss: 0.0178 - val_mse: 0.0178 - val_mae: 0.1036\n",
      "Epoch 29/50\n",
      "692/692 [==============================] - 2s 3ms/step - loss: 0.0179 - mse: 0.0179 - mae: 0.1036 - val_loss: 0.0182 - val_mse: 0.0182 - val_mae: 0.1060\n",
      "Epoch 30/50\n",
      "692/692 [==============================] - 2s 4ms/step - loss: 0.0187 - mse: 0.0187 - mae: 0.1046 - val_loss: 0.0183 - val_mse: 0.0183 - val_mae: 0.1004\n",
      "Epoch 31/50\n",
      "692/692 [==============================] - 2s 4ms/step - loss: 0.0181 - mse: 0.0181 - mae: 0.1033 - val_loss: 0.0184 - val_mse: 0.0184 - val_mae: 0.1018\n",
      "Epoch 32/50\n",
      "692/692 [==============================] - 2s 3ms/step - loss: 0.0186 - mse: 0.0186 - mae: 0.1039 - val_loss: 0.0181 - val_mse: 0.0181 - val_mae: 0.1005\n",
      "Epoch 33/50\n",
      "692/692 [==============================] - 2s 3ms/step - loss: 0.0181 - mse: 0.0181 - mae: 0.1021 - val_loss: 0.0177 - val_mse: 0.0177 - val_mae: 0.1025\n",
      "Epoch 34/50\n",
      "692/692 [==============================] - 2s 3ms/step - loss: 0.0180 - mse: 0.0180 - mae: 0.1015 - val_loss: 0.0179 - val_mse: 0.0179 - val_mae: 0.1002\n",
      "Epoch 35/50\n",
      "692/692 [==============================] - 2s 3ms/step - loss: 0.0191 - mse: 0.0191 - mae: 0.1048 - val_loss: 0.0176 - val_mse: 0.0176 - val_mae: 0.1015\n",
      "Epoch 36/50\n",
      "692/692 [==============================] - 3s 4ms/step - loss: 0.0184 - mse: 0.0184 - mae: 0.1030 - val_loss: 0.0178 - val_mse: 0.0178 - val_mae: 0.1011\n",
      "Epoch 37/50\n",
      "692/692 [==============================] - 2s 3ms/step - loss: 0.0189 - mse: 0.0189 - mae: 0.1038 - val_loss: 0.0178 - val_mse: 0.0178 - val_mae: 0.1012\n",
      "Epoch 38/50\n",
      "692/692 [==============================] - 3s 4ms/step - loss: 0.0183 - mse: 0.0183 - mae: 0.1029 - val_loss: 0.0181 - val_mse: 0.0181 - val_mae: 0.1055\n",
      "Epoch 39/50\n",
      "692/692 [==============================] - 2s 4ms/step - loss: 0.0183 - mse: 0.0183 - mae: 0.1023 - val_loss: 0.0180 - val_mse: 0.0180 - val_mae: 0.1026\n",
      "Epoch 40/50\n",
      "692/692 [==============================] - 2s 3ms/step - loss: 0.0184 - mse: 0.0184 - mae: 0.1029 - val_loss: 0.0183 - val_mse: 0.0183 - val_mae: 0.1005\n",
      "Epoch 41/50\n",
      "692/692 [==============================] - 2s 3ms/step - loss: 0.0184 - mse: 0.0184 - mae: 0.1018 - val_loss: 0.0181 - val_mse: 0.0181 - val_mae: 0.1002\n",
      "Epoch 42/50\n",
      "692/692 [==============================] - 2s 3ms/step - loss: 0.0182 - mse: 0.0182 - mae: 0.1027 - val_loss: 0.0185 - val_mse: 0.0185 - val_mae: 0.1079\n",
      "Epoch 43/50\n",
      "692/692 [==============================] - 2s 3ms/step - loss: 0.0183 - mse: 0.0183 - mae: 0.1013 - val_loss: 0.0185 - val_mse: 0.0185 - val_mae: 0.1077\n",
      "Epoch 44/50\n",
      "692/692 [==============================] - 2s 3ms/step - loss: 0.0179 - mse: 0.0179 - mae: 0.1014 - val_loss: 0.0177 - val_mse: 0.0177 - val_mae: 0.1027\n",
      "Epoch 45/50\n",
      "692/692 [==============================] - 3s 4ms/step - loss: 0.0179 - mse: 0.0179 - mae: 0.1023 - val_loss: 0.0187 - val_mse: 0.0187 - val_mae: 0.1016\n",
      "Epoch 46/50\n",
      "692/692 [==============================] - 3s 4ms/step - loss: 0.0181 - mse: 0.0181 - mae: 0.1019 - val_loss: 0.0181 - val_mse: 0.0181 - val_mae: 0.1050\n",
      "Epoch 47/50\n",
      "692/692 [==============================] - 2s 3ms/step - loss: 0.0181 - mse: 0.0181 - mae: 0.1016 - val_loss: 0.0178 - val_mse: 0.0178 - val_mae: 0.1008\n",
      "Epoch 48/50\n",
      "692/692 [==============================] - 2s 3ms/step - loss: 0.0185 - mse: 0.0185 - mae: 0.1038 - val_loss: 0.0181 - val_mse: 0.0181 - val_mae: 0.1021\n",
      "Epoch 49/50\n",
      "692/692 [==============================] - 3s 4ms/step - loss: 0.0185 - mse: 0.0185 - mae: 0.1019 - val_loss: 0.0178 - val_mse: 0.0178 - val_mae: 0.1013\n",
      "Epoch 50/50\n"
     ]
    },
    {
     "name": "stdout",
     "output_type": "stream",
     "text": [
      "692/692 [==============================] - 2s 3ms/step - loss: 0.0185 - mse: 0.0185 - mae: 0.1033 - val_loss: 0.0180 - val_mse: 0.0180 - val_mae: 0.1034\n"
     ]
    },
    {
     "data": {
      "text/plain": [
       "<keras.callbacks.callbacks.History at 0x13c903a58>"
      ]
     },
     "execution_count": 81,
     "metadata": {},
     "output_type": "execute_result"
    }
   ],
   "source": [
    "model.fit(X_train_new, y_train_new, epochs=50, batch_size=32, validation_split=0.2)"
   ]
  },
  {
   "cell_type": "code",
   "execution_count": 82,
   "metadata": {},
   "outputs": [],
   "source": [
    "from sklearn.metrics import mean_squared_error, r2_score"
   ]
  },
  {
   "cell_type": "code",
   "execution_count": 83,
   "metadata": {},
   "outputs": [],
   "source": [
    "def nn_model_evaluation(model, skip_epochs=0, X_train=X_train, X_test=X_test, y_train=y_train, y_test=y_test):\n",
    "    \"\"\"\n",
    "    For a given neural network model that has already been fit, prints for the train and tests sets the MSE and r squared\n",
    "    values, a line graph of the loss in each epoch, and a scatterplot of predicted vs. actual values with a line\n",
    "    representing where predicted = actual values. Optionally, a value for skip_epoch can be provided, which skips that\n",
    "    number of epochs in the line graph of losses (useful in cases where the loss in the first epoch is orders of magnitude\n",
    "    larger than subsequent epochs). Training and test sets can also optionally be specified.\n",
    "    \"\"\"\n",
    "\n",
    "    # MSE and r squared values\n",
    "    y_test_pred = model.predict(X_test)\n",
    "    y_train_pred = model.predict(X_train)\n",
    "    print(\"Training MSE:\", round(mean_squared_error(y_train, y_train_pred),4))\n",
    "    print(\"Validation MSE:\", round(mean_squared_error(y_test, y_test_pred),4))\n",
    "    print(\"\\nTraining r2:\", round(r2_score(y_train, y_train_pred),4))\n",
    "    print(\"Validation r2:\", round(r2_score(y_test, y_test_pred),4))\n",
    "    \n",
    "    # Line graph of losses\n",
    "    model_results = model.history.history\n",
    "    plt.plot(list(range((skip_epochs+1),len(model_results['loss'])+1)), model_results['loss'][skip_epochs:], label='Train')\n",
    "    plt.plot(list(range((skip_epochs+1),len(model_results['val_loss'])+1)), model_results['val_loss'][skip_epochs:], label='Test', color='green')\n",
    "    plt.legend()\n",
    "    plt.title('Training and test loss at each epoch', fontsize=14)\n",
    "    plt.show()\n",
    "    \n",
    "    # Scatterplot of predicted vs. actual values\n",
    "    fig, (ax1, ax2) = plt.subplots(1, 2, figsize=(12, 4))\n",
    "    fig.suptitle('Predicted vs. actual values', fontsize=14, y=1)\n",
    "    plt.subplots_adjust(top=0.93, wspace=0)\n",
    "    \n",
    "    ax1.scatter(y_test, y_test_pred, s=2, alpha=0.7)\n",
    "    ax1.plot(list(range(2,8)), list(range(2,8)), color='black', linestyle='--')\n",
    "    ax1.set_title('Test set')\n",
    "    ax1.set_xlabel('Actual values')\n",
    "    ax1.set_ylabel('Predicted values')\n",
    "    \n",
    "    ax2.scatter(y_train, y_train_pred, s=2, alpha=0.7)\n",
    "    ax2.plot(list(range(2,8)), list(range(2,8)), color='black', linestyle='--')\n",
    "    ax2.set_title('Train set')\n",
    "    ax2.set_xlabel('Actual values')\n",
    "    ax2.set_ylabel('')\n",
    "    ax2.set_yticklabels(labels='')\n",
    "    \n",
    "    plt.show()"
   ]
  },
  {
   "cell_type": "code",
   "execution_count": 84,
   "metadata": {},
   "outputs": [
    {
     "name": "stdout",
     "output_type": "stream",
     "text": [
      "Training MSE: 0.0176\n",
      "Validation MSE: 0.0548\n",
      "\n",
      "Training r2: 0.1154\n",
      "Validation r2: -0.5203\n"
     ]
    },
    {
     "data": {
      "image/png": "[encoded data removed]",
      "text/plain": [
       "<Figure size 432x288 with 1 Axes>"
      ]
     },
     "metadata": {
      "needs_background": "light"
     },
     "output_type": "display_data"
    },
    {
     "data": {
      "image/png": "[encoded data removed]",
      "text/plain": [
       "<Figure size 864x288 with 2 Axes>"
      ]
     },
     "metadata": {
      "needs_background": "light"
     },
     "output_type": "display_data"
    }
   ],
   "source": [
    "nn_model_evaluation(model, skip_epochs=0, X_train=X_train_new, X_test=X_test_new, y_train=y_train_new, y_test=y_test_new)"
   ]
  },
  {
   "cell_type": "code",
   "execution_count": null,
   "metadata": {},
   "outputs": [],
   "source": []
  },
  {
   "cell_type": "code",
   "execution_count": null,
   "metadata": {},
   "outputs": [],
   "source": []
  },
  {
   "cell_type": "code",
   "execution_count": null,
   "metadata": {},
   "outputs": [],
   "source": []
  }
 ],
 "metadata": {
  "kernelspec": {
   "display_name": "Python 3",
   "language": "python",
   "name": "python3"
  },
  "language_info": {
   "codemirror_mode": {
    "name": "ipython",
    "version": 3
   },
   "file_extension": ".py",
   "mimetype": "text/x-python",
   "name": "python",
   "nbconvert_exporter": "python",
   "pygments_lexer": "ipython3",
   "version": "3.7.1"
  },
  "toc": {
   "base_numbering": 1,
   "nav_menu": {},
   "number_sections": true,
   "sideBar": true,
   "skip_h1_title": false,
   "title_cell": "Table of Contents",
   "title_sidebar": "Contents",
   "toc_cell": false,
   "toc_position": {},
   "toc_section_display": true,
   "toc_window_display": true
  },
  "varInspector": {
   "cols": {
    "lenName": "20",
    "lenType": 16,
    "lenVar": 40
   },
   "kernels_config": {
    "python": {
     "delete_cmd_postfix": "",
     "delete_cmd_prefix": "del ",
     "library": "var_list.py",
     "varRefreshCmd": "print(var_dic_list())"
    },
    "r": {
     "delete_cmd_postfix": ") ",
     "delete_cmd_prefix": "rm(",
     "library": "var_list.r",
     "varRefreshCmd": "cat(var_dic_list()) "
    }
   },
   "position": {
    "height": "144px",
    "left": "1068px",
    "right": "20px",
    "top": "-62px",
    "width": "350px"
   },
   "types_to_exclude": [
    "module",
    "function",
    "builtin_function_or_method",
    "instance",
    "_Feature"
   ],
   "window_display": true
  }
 },
 "nbformat": 4,
 "nbformat_minor": 2
}
