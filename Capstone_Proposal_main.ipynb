{
 "cells": [
  {
   "cell_type": "markdown",
   "metadata": {},
   "source": [
    "# Smart Job Search Tool for Analytics Professionals"
   ]
  },
  {
   "cell_type": "markdown",
   "metadata": {},
   "source": [
    "### Overview"
   ]
  },
  {
   "cell_type": "markdown",
   "metadata": {},
   "source": [
    "One of the most important things in Job Search is knowing where you are right now and where you want to go next. The mindset of a job seeker or a career switcher is very much like a product manager, trying to find the best product and market fit. Smart product managers know what their customers (HR/Hiring Managers) want. So they carefully find out their needs which are expressed through top qualifications, \"what you must have\", in the job descriptions. After identifying what is commonly needed in the market they try to customize their products aka resumes, cover letters, online profiles, portfolios to demonstrate these characteristics and traits as much as possible. This project is to help you to be that smart product manager and tell you what qualities and top skills the market desires and a step further, help you navigate the salary negotiation and make the best choice! \n",
    "\n",
    "How? This project will scrap 1000+ jobs in data/analytics fields in major U.S. cities and information such as job title, company, company review, city, job description, salary range will be used to generate insights about certain job category. And then combining with other factors such as employment/unemployment rate, Cost of living index, median salary by occupation, a predictive model will be built to predict the salary, and give job seeker more information on location choices.  "
   ]
  },
  {
   "cell_type": "markdown",
   "metadata": {},
   "source": [
    "### Data Sources"
   ]
  },
  {
   "cell_type": "markdown",
   "metadata": {},
   "source": [
    "- Indeed.com\n",
    "- OES Research Salary Estimates from the U.S. Bureau of Labor Statistics: https://www.bls.gov/oes/2019/may/oes_research_estimates.htm\n",
    "- Tax rate/Income level/living expense by city?"
   ]
  },
  {
   "cell_type": "markdown",
   "metadata": {},
   "source": [
    "### Presentation of Results"
   ]
  },
  {
   "cell_type": "markdown",
   "metadata": {},
   "source": [
    "- Plan A: an interactive web interface where user can search for job title and city, and get the output of top skills required, salary range, and charts of salary/cost of living index in major cities\n",
    "- Plan B: an excel output of the same content mentioned above"
   ]
  },
  {
   "cell_type": "markdown",
   "metadata": {},
   "source": [
    "### Question answered"
   ]
  },
  {
   "cell_type": "markdown",
   "metadata": {},
   "source": [
    "- Top skills and keywords required by the job (Data Analyst, Data Scientist, Data Engineers, Business Intelligence, Machine Learning, Business Analyst)\n",
    "- Salary prediction using job description text, city, employment rate, median salary of the occupation in the city, cost of living index (feature extraction,  combined neutral network model with word embeddings)\n",
    "- Salary/Cost of Living Index by city by job title "
   ]
  },
  {
   "cell_type": "markdown",
   "metadata": {},
   "source": [
    "### Anticipated Challenges\n",
    "- text data processing\n",
    "- web components"
   ]
  },
  {
   "cell_type": "markdown",
   "metadata": {},
   "source": [
    "### Resources"
   ]
  },
  {
   "cell_type": "markdown",
   "metadata": {},
   "source": [
    "- Cost of Living Calculation: https://www.investopedia.com/ask/answers/100214/how-cost-living-index-calculated.asp\n",
    "\n",
    "- Highest Paying Cities for Data Scientist Jobs: https://www.ziprecruiter.com/Salaries/Highest-Paying-Data-Scientist-Salary-by-City\n",
    "\n",
    "- Top 10 cities hiring data scientist: https://medium.com/@ODSC/top-10-cities-hiring-data-scientists-in-the-u-s-64078f747826\n",
    "- Mixed inputs in NN: https://www.pyimagesearch.com/2019/02/04/keras-multiple-inputs-and-mixed-data/\n",
    "- https://arxiv.org/pdf/1912.12214.pdf\n",
    "- Similar projects(predict whether salary is above or under median) https://medium.com/@msalmon00/analysis-of-web-scraped-job-data-to-predict-relative-salaries-c7237954184a\n",
    "- Similar projects: http://fastml.com/predicting-advertised-salaries/\n",
    "- https://medium.com/digitalfineprint/how-to-predict-a-salary-using-a-job-ad-description-4d029f780a5c\n",
    "- Kaggle Competition: https://www.kaggle.com/c/job-salary-prediction/data\n",
    "- Kaggle Salary prediction: https://github.com/Newmu/Salary-Prediction\n",
    "- Make Predictions with Keras: https://machinelearningmastery.com/how-to-make-classification-and-regression-predictions-for-deep-learning-models-in-keras/\n",
    "        "
   ]
  },
  {
   "cell_type": "markdown",
   "metadata": {},
   "source": [
    "### Roadmap"
   ]
  },
  {
   "cell_type": "markdown",
   "metadata": {},
   "source": [
    "- Web Scraping and get 1000+ jobs with salary from 10+ major cities in U.S.\n",
    "- Data Processing, cleaning, train and test split, and then do the tokenization\n",
    "- Start with a simple count based model, top 100 words being the features, and each job being one row. may need to limit the words\n",
    "- Word Vectorization with Word2Vec and build neural network model using a pre-trained model such as GloVe\n",
    "- Do a mixed input NN model with input 1 (city, Cost of Living), and input 2 (description)\n",
    "- Improve the model performance\n",
    "- Add more jobs if needed, scrap data with salary only"
   ]
  },
  {
   "cell_type": "markdown",
   "metadata": {},
   "source": [
    "#### Add a chart to explain the roadmap"
   ]
  },
  {
   "cell_type": "markdown",
   "metadata": {},
   "source": [
    "#### Top 10 Cities hiring data scientist in US\n",
    "New York City; 314 jobs\n",
    "San Francisco; 269 jobs\n",
    "Seattle; 128 jobs\n",
    "Chicago; 98 jobs\n",
    "Boston; 91 jobs\n",
    "Redmond; 89 jobs\n",
    "Washington DC; 72 jobs\n",
    "San Jose; 50 jobs\n",
    "Austin; 48 jobs\n",
    "Cambridge; 46 jobs"
   ]
  },
  {
   "cell_type": "code",
   "execution_count": null,
   "metadata": {},
   "outputs": [],
   "source": []
  }
 ],
 "metadata": {
  "kernelspec": {
   "display_name": "Python 3",
   "language": "python",
   "name": "python3"
  },
  "language_info": {
   "codemirror_mode": {
    "name": "ipython",
    "version": 3
   },
   "file_extension": ".py",
   "mimetype": "text/x-python",
   "name": "python",
   "nbconvert_exporter": "python",
   "pygments_lexer": "ipython3",
   "version": "3.7.1"
  },
  "toc": {
   "base_numbering": "",
   "nav_menu": {},
   "number_sections": false,
   "sideBar": true,
   "skip_h1_title": false,
   "title_cell": "Table of Contents",
   "title_sidebar": "Contents",
   "toc_cell": false,
   "toc_position": {},
   "toc_section_display": true,
   "toc_window_display": true
  },
  "varInspector": {
   "cols": {
    "lenName": "20",
    "lenType": 16,
    "lenVar": 40
   },
   "kernels_config": {
    "python": {
     "delete_cmd_postfix": "",
     "delete_cmd_prefix": "del ",
     "library": "var_list.py",
     "varRefreshCmd": "print(var_dic_list())"
    },
    "r": {
     "delete_cmd_postfix": ") ",
     "delete_cmd_prefix": "rm(",
     "library": "var_list.r",
     "varRefreshCmd": "cat(var_dic_list()) "
    }
   },
   "types_to_exclude": [
    "module",
    "function",
    "builtin_function_or_method",
    "instance",
    "_Feature"
   ],
   "window_display": true
  }
 },
 "nbformat": 4,
 "nbformat_minor": 2
}
