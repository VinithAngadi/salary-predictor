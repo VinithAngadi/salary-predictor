{
 "cells": [
  {
   "cell_type": "markdown",
   "metadata": {},
   "source": [
    "# Initial Data Cleaning\n",
    "\n",
    "Objective:\n",
    "\n",
    "- Clean location, salary, titles \n",
    "- Make sure data size is large enough\n",
    "- Clean JD \n",
    "    - Remove stop words\n",
    "    - basic tokenization\n",
    "    - get most frequently used words\n",
    "    - create bigrams, or ngrams, or bag or words\n",
    "    - count vectorization"
   ]
  },
  {
   "cell_type": "code",
   "execution_count": 1,
   "metadata": {},
   "outputs": [],
   "source": [
    "import time\n",
    "import nltk\n",
    "from nltk.corpus import stopwords\n",
    "\n",
    "from nltk import word_tokenize, FreqDist\n",
    "from nltk.corpus import stopwords\n",
    "from nltk.collocations import *\n",
    "import string, re\n",
    "\n",
    "from gensim.models import Word2Vec\n",
    "\n",
    "from sklearn.manifold import TSNE\n",
    "from sklearn.feature_extraction.text import TfidfVectorizer\n",
    "from sklearn.model_selection import train_test_split\n",
    "\n",
    "import pandas as pd\n",
    "import numpy as np\n",
    "import matplotlib.pyplot as plt\n",
    "%matplotlib inline\n",
    "np.random.seed(0)"
   ]
  },
  {
   "cell_type": "markdown",
   "metadata": {},
   "source": [
    "### Concat all jobs together"
   ]
  },
  {
   "cell_type": "code",
   "execution_count": 96,
   "metadata": {},
   "outputs": [],
   "source": [
    "import time, glob\n",
    "\n",
    "#Iterate through list of filenames and read each in\n",
    "outfilename = 'all_' + str((int(time.time()))) + \".csv\"\n",
    "\n",
    "filenames = glob.glob('*.csv')\n",
    "\n",
    "import shutil\n",
    "\n",
    "with open(outfilename, 'wb') as outfile:\n",
    "    for filename in glob.glob('*.csv'):\n",
    "        if filename == outfilename:\n",
    "            # don't want to copy the output into the output\n",
    "            continue\n",
    "        with open(filename, 'rb') as readfile:\n",
    "            shutil.copyfileobj(readfile, outfile)\n"
   ]
  },
  {
   "cell_type": "code",
   "execution_count": 55,
   "metadata": {},
   "outputs": [
    {
     "data": {
      "text/plain": [
       "<_io.BufferedWriter name='all_1589642043.csv'>"
      ]
     },
     "execution_count": 55,
     "metadata": {},
     "output_type": "execute_result"
    }
   ],
   "source": [
    "outfile"
   ]
  },
  {
   "cell_type": "code",
   "execution_count": 2,
   "metadata": {},
   "outputs": [],
   "source": [
    "df = pd.read_csv('all_1589665998.csv', encoding='latin-1')"
   ]
  },
  {
   "cell_type": "code",
   "execution_count": 3,
   "metadata": {},
   "outputs": [
    {
     "data": {
      "text/html": [
       "<div>\n",
       "<style scoped>\n",
       "    .dataframe tbody tr th:only-of-type {\n",
       "        vertical-align: middle;\n",
       "    }\n",
       "\n",
       "    .dataframe tbody tr th {\n",
       "        vertical-align: top;\n",
       "    }\n",
       "\n",
       "    .dataframe thead th {\n",
       "        text-align: right;\n",
       "    }\n",
       "</style>\n",
       "<table border=\"1\" class=\"dataframe\">\n",
       "  <thead>\n",
       "    <tr style=\"text-align: right;\">\n",
       "      <th></th>\n",
       "      <th>Unnamed: 0</th>\n",
       "      <th>Title</th>\n",
       "      <th>Company</th>\n",
       "      <th>Location</th>\n",
       "      <th>Link</th>\n",
       "      <th>Review</th>\n",
       "      <th>Salary</th>\n",
       "      <th>Description</th>\n",
       "    </tr>\n",
       "  </thead>\n",
       "  <tbody>\n",
       "    <tr>\n",
       "      <th>0</th>\n",
       "      <td>0.0</td>\n",
       "      <td>Data Scientist</td>\n",
       "      <td>Lockheed Martin</td>\n",
       "      <td>Arlington, VA</td>\n",
       "      <td>https://www.indeed.com/pagead/clk?mo=r&amp;ad=-6NY...</td>\n",
       "      <td>4</td>\n",
       "      <td>None</td>\n",
       "      <td>Description:Are you ready to take your career ...</td>\n",
       "    </tr>\n",
       "    <tr>\n",
       "      <th>1</th>\n",
       "      <td>1.0</td>\n",
       "      <td>Support Scientist Ocean Data Assimilation (HAFS)</td>\n",
       "      <td>IMSG/NOAA</td>\n",
       "      <td>Arlington, VA</td>\n",
       "      <td>https://www.indeed.com/pagead/clk?mo=r&amp;ad=-6NY...</td>\n",
       "      <td>None</td>\n",
       "      <td>None</td>\n",
       "      <td>Overview I.M. Systems Group, Inc. (IMSG) is se...</td>\n",
       "    </tr>\n",
       "    <tr>\n",
       "      <th>2</th>\n",
       "      <td>2.0</td>\n",
       "      <td>2021048 Data Scientist $215,000.00</td>\n",
       "      <td>B4CORP</td>\n",
       "      <td>Arlington, VA</td>\n",
       "      <td>https://www.indeed.com/pagead/clk?mo=r&amp;ad=-6NY...</td>\n",
       "      <td>None</td>\n",
       "      <td>Up to $215,000 a year</td>\n",
       "      <td>Position Requires a Top Secret (TS/SCI) Cleara...</td>\n",
       "    </tr>\n",
       "    <tr>\n",
       "      <th>3</th>\n",
       "      <td>3.0</td>\n",
       "      <td>Senior Data Engineer - Data Quality and Monito...</td>\n",
       "      <td>Freddie Mac</td>\n",
       "      <td>Arlington, VA</td>\n",
       "      <td>https://www.indeed.com/pagead/clk?mo=r&amp;ad=-6NY...</td>\n",
       "      <td>3.8</td>\n",
       "      <td>None</td>\n",
       "      <td>Are you passionate to work with the most valua...</td>\n",
       "    </tr>\n",
       "    <tr>\n",
       "      <th>4</th>\n",
       "      <td>4.0</td>\n",
       "      <td>Chief Scientist Machine Learning</td>\n",
       "      <td>Leidos</td>\n",
       "      <td>Arlington, VA</td>\n",
       "      <td>https://www.indeed.com/pagead/clk?mo=r&amp;ad=-6NY...</td>\n",
       "      <td>3.7</td>\n",
       "      <td>None</td>\n",
       "      <td>Description\\rJob Description:\\rThe Leidos Arti...</td>\n",
       "    </tr>\n",
       "  </tbody>\n",
       "</table>\n",
       "</div>"
      ],
      "text/plain": [
       "   Unnamed: 0                                              Title  \\\n",
       "0         0.0                                     Data Scientist   \n",
       "1         1.0   Support Scientist Ocean Data Assimilation (HAFS)   \n",
       "2         2.0                 2021048 Data Scientist $215,000.00   \n",
       "3         3.0  Senior Data Engineer - Data Quality and Monito...   \n",
       "4         4.0                   Chief Scientist Machine Learning   \n",
       "\n",
       "           Company       Location  \\\n",
       "0  Lockheed Martin  Arlington, VA   \n",
       "1        IMSG/NOAA  Arlington, VA   \n",
       "2           B4CORP  Arlington, VA   \n",
       "3      Freddie Mac  Arlington, VA   \n",
       "4           Leidos  Arlington, VA   \n",
       "\n",
       "                                                Link Review  \\\n",
       "0  https://www.indeed.com/pagead/clk?mo=r&ad=-6NY...      4   \n",
       "1  https://www.indeed.com/pagead/clk?mo=r&ad=-6NY...   None   \n",
       "2  https://www.indeed.com/pagead/clk?mo=r&ad=-6NY...   None   \n",
       "3  https://www.indeed.com/pagead/clk?mo=r&ad=-6NY...    3.8   \n",
       "4  https://www.indeed.com/pagead/clk?mo=r&ad=-6NY...    3.7   \n",
       "\n",
       "                  Salary                                        Description  \n",
       "0                   None  Description:Are you ready to take your career ...  \n",
       "1                   None  Overview I.M. Systems Group, Inc. (IMSG) is se...  \n",
       "2  Up to $215,000 a year  Position Requires a Top Secret (TS/SCI) Cleara...  \n",
       "3                   None  Are you passionate to work with the most valua...  \n",
       "4                   None  Description\\rJob Description:\\rThe Leidos Arti...  "
      ]
     },
     "execution_count": 3,
     "metadata": {},
     "output_type": "execute_result"
    }
   ],
   "source": [
    "df.head()"
   ]
  },
  {
   "cell_type": "code",
   "execution_count": 4,
   "metadata": {},
   "outputs": [],
   "source": [
    "df = df.drop('Unnamed: 0', axis=1)"
   ]
  },
  {
   "cell_type": "code",
   "execution_count": 5,
   "metadata": {},
   "outputs": [
    {
     "name": "stdout",
     "output_type": "stream",
     "text": [
      "<class 'pandas.core.frame.DataFrame'>\n",
      "RangeIndex: 12155 entries, 0 to 12154\n",
      "Data columns (total 7 columns):\n",
      "Title          12155 non-null object\n",
      "Company        12151 non-null object\n",
      "Location       12155 non-null object\n",
      "Link           12155 non-null object\n",
      "Review         12155 non-null object\n",
      "Salary         12155 non-null object\n",
      "Description    12155 non-null object\n",
      "dtypes: object(7)\n",
      "memory usage: 664.9+ KB\n"
     ]
    }
   ],
   "source": [
    "df.info()"
   ]
  },
  {
   "cell_type": "markdown",
   "metadata": {},
   "source": [
    "#### Remove Duplicates"
   ]
  },
  {
   "cell_type": "code",
   "execution_count": 6,
   "metadata": {},
   "outputs": [],
   "source": [
    "df2 = df.drop_duplicates(subset='Link', keep = 'first', inplace = False)"
   ]
  },
  {
   "cell_type": "code",
   "execution_count": 7,
   "metadata": {},
   "outputs": [
    {
     "name": "stdout",
     "output_type": "stream",
     "text": [
      "<class 'pandas.core.frame.DataFrame'>\n",
      "Int64Index: 7066 entries, 0 to 12034\n",
      "Data columns (total 7 columns):\n",
      "Title          7066 non-null object\n",
      "Company        7064 non-null object\n",
      "Location       7066 non-null object\n",
      "Link           7066 non-null object\n",
      "Review         7066 non-null object\n",
      "Salary         7066 non-null object\n",
      "Description    7066 non-null object\n",
      "dtypes: object(7)\n",
      "memory usage: 441.6+ KB\n"
     ]
    }
   ],
   "source": [
    "df2.info()"
   ]
  },
  {
   "cell_type": "code",
   "execution_count": 8,
   "metadata": {},
   "outputs": [],
   "source": [
    "df2.groupby('Location').count().sort_values(by='Salary', ascending=True);"
   ]
  },
  {
   "cell_type": "code",
   "execution_count": 9,
   "metadata": {},
   "outputs": [],
   "source": [
    "def rename_location(x):\n",
    "    if \"New York\" in x:\n",
    "        y = \"New York, NY\"\n",
    "    else: \n",
    "        y = x\n",
    "    return y"
   ]
  },
  {
   "cell_type": "code",
   "execution_count": 10,
   "metadata": {},
   "outputs": [
    {
     "name": "stderr",
     "output_type": "stream",
     "text": [
      "/Applications/anaconda3/lib/python3.7/site-packages/ipykernel_launcher.py:1: SettingWithCopyWarning: \n",
      "A value is trying to be set on a copy of a slice from a DataFrame.\n",
      "Try using .loc[row_indexer,col_indexer] = value instead\n",
      "\n",
      "See the caveats in the documentation: http://pandas.pydata.org/pandas-docs/stable/user_guide/indexing.html#returning-a-view-versus-a-copy\n",
      "  \"\"\"Entry point for launching an IPython kernel.\n"
     ]
    }
   ],
   "source": [
    "df2['Location2'] = df2['Location'].apply(rename_location)"
   ]
  },
  {
   "cell_type": "code",
   "execution_count": 11,
   "metadata": {},
   "outputs": [],
   "source": [
    "df2.to_csv(\"job_data_1.csv\")"
   ]
  },
  {
   "cell_type": "code",
   "execution_count": 12,
   "metadata": {},
   "outputs": [],
   "source": [
    "df2 = pd.read_csv(\"job_data_1.csv\")"
   ]
  },
  {
   "cell_type": "code",
   "execution_count": 13,
   "metadata": {
    "scrolled": true
   },
   "outputs": [
    {
     "data": {
      "text/plain": [
       "array(['None', 'Up to $215,000 a year', '$60,000 a year',\n",
       "       '$20 - $25 an hour', '$70,000 - $85,000 a year',\n",
       "       '$45 - $55 an hour', '$102,663 - $157,709 a year',\n",
       "       '$40 - $60 an hour', '$21.93 - $26.43 an hour',\n",
       "       '$40,000 - $60,000 a year', '$82,326 - $105,339 a year',\n",
       "       '$45 an hour', '$1,200 - $4,200 a month',\n",
       "       '$100,000 - $150,000 a year', '$140,000 - $175,000 a year',\n",
       "       '$67,968 - $126,062 a year', '$75 - $100 an hour',\n",
       "       '$121,316 - $157,709 a year', '$72,030 - $137,012 a year',\n",
       "       'Up to $125,000 a year', '$1,000 a month', '$130,000 a year',\n",
       "       '$27.17 - $36.60 an hour', '$120,000 - $170,000 a year',\n",
       "       'Up to $100,000 a year', '$120,000 - $150,000 a year',\n",
       "       '$40,000 - $50,000 a year', '$190,000 a year', '$20 - $27 an hour',\n",
       "       '$50 - $55 an hour', '$100,000 - $145,000 a year',\n",
       "       '$160,000 - $175,000 a year', '$70,000 - $80,000 a year',\n",
       "       '$85,000 - $165,000 a year', '$145,000 - $165,000 a year',\n",
       "       '$125,000 - $155,000 a year', '$100,000 - $200,000 a year',\n",
       "       '$80,000 - $130,000 a year', '$73,052 - $148,967 a year',\n",
       "       '$100,000 - $165,000 a year', '$67,093 - $122,310 a year',\n",
       "       '$40 - $45 an hour', '$16.83 - $21.62 an hour',\n",
       "       '$10 - $15 an hour', '$60 an hour', '$30,000 - $200,000 a year',\n",
       "       '$62,000 - $72,000 a year', '$70 - $75 an hour', nan,\n",
       "       '$88,744 - $162,767 a year', '$28 - $35 an hour',\n",
       "       '$71,548 - $205,939 a year', '$50,000 a year', '$27 - $31 an hour',\n",
       "       '$30 - $40 an hour', '$25 - $35 an hour',\n",
       "       '$60,000 - $85,000 a year', '$36,268 - $51,812 a year',\n",
       "       '$60,000 - $70,000 a year', '$85,000 a year',\n",
       "       '$25.00 - $32.50 an hour', '$65,000 - $75,000 a year',\n",
       "       '$175,000 a year', '$85,000 - $95,000 a year', '$50 - $60 an hour',\n",
       "       '$50,000 - $65,000 a year', '$70,000 a year',\n",
       "       '$51,004 - $62,338 a year', '$4,000 - $7,000 a month',\n",
       "       '$90,000 - $135,000 a year', '$35 - $40 an hour',\n",
       "       '$50,000 - $75,000 a year', '$22 - $39 an hour', '$45,000 a year',\n",
       "       '$63,000 a year', '$48,950 - $64,000 a year',\n",
       "       '$100,000 - $110,000 a year', '$57,000 - $65,000 a year',\n",
       "       '$93,964 a year', '$80,000 - $90,000 a year', '$17 an hour',\n",
       "       '$66,088 - $85,915 a year', '$100,000 - $125,000 a year',\n",
       "       '$53,917 - $120,874 a year', '$50,000 - $70,000 a year',\n",
       "       '$250,000 - $450,000 a year', '$250,000 - $400,000 a year',\n",
       "       '$88,000 - $118,000 a year', '$5,500 - $7,000 a month',\n",
       "       '$25 - $30 an hour', '$32.50 - $35.00 an hour', '$4,749 a month',\n",
       "       '$30,000 - $35,000 a year', '$80,000 - $84,000 a year',\n",
       "       '$70,000 - $76,000 a year', '$90 an hour',\n",
       "       '$50,000 - $60,000 a year', '$20 - $22 an hour',\n",
       "       '$4,917 - $7,400 a month', '$80,000 - $120,000 a year',\n",
       "       '$5,259 - $6,941 a month', '$65,000 - $85,000 a year',\n",
       "       '$75,000 - $85,000 a year', '$21 - $25 an hour',\n",
       "       '$4,917 - $6,489 a month', 'From $12 an hour', '$35 - $37 an hour',\n",
       "       '$40 - $50 an hour', '$4,917 - $8,060 a month',\n",
       "       '$45,000 - $65,000 a year', '$65 - $75 an hour',\n",
       "       '$73,675 - $101,317 a year', '$29 - $34 an hour',\n",
       "       '$120,000 - $180,000 a year', '$40,000 - $45,000 a year',\n",
       "       '$14 an hour', '$69,000 a year', '$89,700 - $148,800 a year',\n",
       "       '$80,700 - $131,500 a year', '$53,000 - $55,000 a year',\n",
       "       '$69,929 - $102,939 a year', '$115,000 - $160,000 a year',\n",
       "       '$90,000 - $110,000 a year', '$140,000 - $170,000 a year',\n",
       "       '$58,909 - $76,583 a year', '$60 - $65 an hour',\n",
       "       '$35 - $45 an hour', '$58,391 - $83,592 a year',\n",
       "       '$137,200 - $240,100 a year', '$110,000 - $113,000 a year',\n",
       "       '$71,102 - $104,970 a year', '$63,916 - $84,253 a year',\n",
       "       '$23 - $26 an hour', '$85,000 - $120,000 a year',\n",
       "       '$90 - $115 an hour', '$41,600 - $51,900 a year',\n",
       "       '$45,000 - $50,000 a year', '$52 an hour',\n",
       "       '$75,000 - $106,062 a year', '$15 an hour',\n",
       "       '$144,600 - $218,700 a year', '$35,000 - $45,000 a year',\n",
       "       '$104 - $105 an hour', '$70,000 - $90,000 a year',\n",
       "       '$95,400 - $121,800 a year', '$90,000 a year',\n",
       "       '$95,100 - $135,000 a year', '$80,000 - $160,000 a year',\n",
       "       '$90,000 - $130,000 a year', '$119,900 - $176,700 a year',\n",
       "       '$153,300 - $201,600 a year', '$150,000 a year', '$140,000 a year',\n",
       "       '$300,000 a year', '$120,000 - $175,000 a year', '$180,000 a year',\n",
       "       '$90,000 - $120,000 a year', '$166,200 - $218,700 a year',\n",
       "       '$53 - $60 an hour', '$145,000 a year', '$185,000 a year',\n",
       "       '$110,000 - $130,000 a year', '$70,000 - $75,000 a year',\n",
       "       '$29 - $30 an hour', '$33,960 - $57,493 a year',\n",
       "       '$65,000 - $70,000 a year', '$38,000 - $42,000 a year',\n",
       "       '$100,000 a year', '$34 - $35 an hour', '$40,300 - $87,457 a year',\n",
       "       '$9 - $13 an hour', '$16 - $23 an hour', '$7.25 an hour',\n",
       "       '$40 - $48 an hour', '$14 - $18 an hour', '$18 - $19 an hour',\n",
       "       '$38,000 - $46,000 a year', '$19 - $25 an hour',\n",
       "       '$65,000 - $80,000 a year', '$49.18 an hour',\n",
       "       '$60,000 - $80,000 a year', '$36,683 - $57,370 a year',\n",
       "       '$60,000 - $89,000 a year', '$98,000 - $125,000 a year',\n",
       "       '$42,935 a year', '$19.07 an hour', '$51 - $58 a day',\n",
       "       '$30 - $36 an hour', '$46,107 - $98,841 a year',\n",
       "       '$30 - $50 an hour', '$65,000 - $90,000 a year', '$105,000 a year',\n",
       "       '$46 - $50 an hour', '$16 - $20 an hour', '$15 - $18 an hour',\n",
       "       '$80,000 - $85,000 a year', '$60,000 - $110,000 a year',\n",
       "       '$35 - $55 an hour', '$25.04 - $31.02 an hour',\n",
       "       '$30 - $35 an hour', '$10 an hour', '$80,000 - $110,000 a year',\n",
       "       '$55,000 - $60,000 a year', '$22,607 a year',\n",
       "       '$90,000 - $100,000 a year', '$22 - $30 an hour',\n",
       "       '$36 - $38 an hour', '$120,000 - $160,000 a year',\n",
       "       '$70,000 - $140,000 a year', '$36 - $43 an hour',\n",
       "       '$85,000 - $200,000 a year', '$25 - $45 an hour',\n",
       "       '$40,000 - $130,000 a year', '$75,000 - $100,000 a year',\n",
       "       '$30 - $32 an hour', 'From $16 an hour',\n",
       "       '$80,000 - $105,000 a year', '$44,000 - $55,000 a year',\n",
       "       '$74,321 - $139,159 a year', '$100,000 - $160,000 a year',\n",
       "       '$50 - $65 an hour', '$18.92 - $28.38 an hour',\n",
       "       '$50,000 - $95,000 a year', '$76,000 - $110,000 a year',\n",
       "       '$60 - $75 an hour', '$75,200 a year', '$55,000 - $65,000 a year',\n",
       "       '$45 - $60 an hour', '$100,000 - $135,000 a year',\n",
       "       '$36.30 - $55.37 an hour', '$55 - $75 an hour', '$55 an hour',\n",
       "       '$70,000 - $95,000 a year', '$72,200 a year',\n",
       "       '$120,000 - $130,000 a year', '$75,100 a year', '$95,000 a year',\n",
       "       'From $69,415 a year', '$80,000 a year',\n",
       "       '$60,000 - $75,000 a year', '$11 - $12 an hour',\n",
       "       '$13 - $18 an hour', '$75 - $125 an hour', '$70 an hour',\n",
       "       '$55 - $60 an hour', '$99,357 - $226,108 a year',\n",
       "       '$110,000 - $150,000 a year', '$120,000 - $240,000 a year',\n",
       "       '$4,583 - $5,833 a month', '$7,224 - $8,623 a month',\n",
       "       '$65,000 a year', '$85,000 - $110,000 a year', '$50 an hour',\n",
       "       '$150,000 - $200,000 a year', '$110,000 a year', '$3,450 a month',\n",
       "       '$19 - $20 an hour', '$120,000 - $140,000 a year',\n",
       "       '$35,000 - $40,000 a year', '$15 - $20 an hour',\n",
       "       '$65,000 - $110,000 a year', '$25 - $72 an hour',\n",
       "       '$6,765 - $8,861 a month', '$140,000 - $180,000 a year',\n",
       "       '$80,000 - $95,000 a year', '$45 - $50 an hour',\n",
       "       '$100,000 - $120,000 a year', '$65 an hour', '$98 - $100 an hour',\n",
       "       '$60 - $80 an hour', '$20 an hour', '$79,047 - $101,662 a year',\n",
       "       '$25 - $27 an hour', '$27.40 an hour', '$62,865 - $80,827 a year',\n",
       "       '$65,428 - $84,671 a year', '$43,251 - $76,808 a year',\n",
       "       '$165,000 a year', '$35 - $38 an hour', '$47,305 - $60,315 a year',\n",
       "       '$17 - $20 an hour', '$51,038 - $61,445 a year',\n",
       "       '$69,267 - $89,058 a year', '$135,000 a year',\n",
       "       '$28,000 - $35,000 a year', '$93,442 - $127,413 a year',\n",
       "       '$30 an hour', '$28.31 - $36.80 an hour', '$80 an hour',\n",
       "       '$30 - $33 an hour', 'From $100,000 a year', '$50 - $85 an hour',\n",
       "       '$25 - $29 an hour', '$101,066 - $137,814 a year',\n",
       "       '$105,113 - $143,324 a year', '$14.75 - $25.00 an hour',\n",
       "       '$18 - $22 an hour', '$97,183 - $132,508 a year',\n",
       "       '$36,772 - $65,000 a year', '$20 - $30 an hour',\n",
       "       '$24 - $36 an hour', '$12 an hour', '$33,000 - $40,000 a year',\n",
       "       '$16 an hour', '$40,000 a year', 'Salary', '$42,000 a year',\n",
       "       'Up to $120,000 a year', 'From $13 an hour',\n",
       "       '$89,000 - $111,000 a year', '$77,000 - $97,000 a year',\n",
       "       '$83,500 - $95,000 a year', '$85,000 - $130,000 a year',\n",
       "       '$60,000 - $65,000 a year', '$40,000 - $65,000 a year',\n",
       "       '$24,000 - $30,000 a year', '$15 - $25 an hour',\n",
       "       '$225,000 - $500,000 a year', '$68,000 - $70,000 a year',\n",
       "       '$20 - $36 an hour', '$14 - $20 an hour', 'Up to $55,000 a year',\n",
       "       '$25 an hour', 'Up to $20 an hour', '$75,000 - $90,000 a year',\n",
       "       '$2,000 - $4,000 a month', '$48,000 a year', '$75,000 a year',\n",
       "       '$90,000 - $140,000 a year', '$125,000 - $135,000 a year',\n",
       "       '$49,390 - $113,900 a year', '$29 - $32 an hour',\n",
       "       '$69,000 - $100,000 a year', '$60,000 - $90,000 a year',\n",
       "       '$19 - $24 an hour', '$54,080 a year', '$25.91 an hour',\n",
       "       'Up to $5,000 a month', '$35,000 - $60,000 a year',\n",
       "       '$35,000 a year', '$2,500 - $5,000 a month',\n",
       "       '$45,000 - $60,000 a year', '$35,000 - $50,000 a year',\n",
       "       '$81,000 - $101,000 a year', '$95,000 - $115,000 a year',\n",
       "       '$60,000 - $120,000 a year', '$150,000 - $170,000 a year',\n",
       "       '$55,000 - $66,000 a year', '$16 - $19 an hour',\n",
       "       '$1,500 - $3,000 a month', '$125,000 - $150,000 a year',\n",
       "       '$112,950 - $149,900 a year', '$14 - $15 an hour',\n",
       "       '$45,000 - $55,000 a year', '$28 - $30 an hour', '$51.25 an hour',\n",
       "       '$55,287 - $105,988 a year', '$40 - $46 an hour',\n",
       "       '$15 - $17 an hour', '$81,299 - $101,623 a year',\n",
       "       '$48,000 - $50,000 a year', '$70 - $80 an hour',\n",
       "       '$55 - $65 an hour', '$58 an hour', '$155,000 - $160,000 a year',\n",
       "       '$59,509 - $85,000 a year', '$73,243 - $95,000 a year',\n",
       "       '$27 - $35 an hour', '$20 - $21 an hour',\n",
       "       '$59,000 - $70,000 a year', '$45 - $65 an hour',\n",
       "       '$55,473 - $68,898 a year', '$75,504 - $94,761 a year',\n",
       "       '$50,507 - $130,000 a year', '$59,816 - $128,299 a year',\n",
       "       '$54,100 - $64,419 a year', '$72,576 a year',\n",
       "       '$98,099 - $120,937 a year', 'Up to $126,086 a year',\n",
       "       '$50,000 - $55,000 a year', 'Up to $109,647 a year',\n",
       "       '$17 - $19 an hour', '$55 - $69 an hour',\n",
       "       '$110,000 - $180,000 a year', '$30.00 - $30.01 an hour',\n",
       "       '$60 - $63 an hour', '$140,000 - $160,000 a year',\n",
       "       '$125,000 - $175,000 a year', 'From $150,000 a year',\n",
       "       'Up to $150,000 a year', '$85,000 - $115,000 a year',\n",
       "       '$41 - $51 an hour', '$48 - $50 an hour',\n",
       "       '$180,000 - $210,000 a year', '$60,000 - $100,000 a year',\n",
       "       'Up to $10,000 a year', '$53,956 - $66,388 a year',\n",
       "       '$125,000 - $130,000 a year', '$109 an hour', '$120,000 a year',\n",
       "       'From $30 an hour', '$103 an hour', '$12.25 an hour',\n",
       "       '$165,000 - $220,000 a year', '$103,281 - $126,232 a year',\n",
       "       '$34.25 an hour', 'From $200,000 a year',\n",
       "       '$91,000 - $116,000 a year', '$40 an hour', '$110,000 a year ++',\n",
       "       '$90,000 - $95,000 a year', 'Up to $80,000 a year',\n",
       "       '$25 - $34 an hour', '$80,000 - $100,000 a year',\n",
       "       '$20,000 - $100,000 a year', '$40 - $80 an hour',\n",
       "       '$75 - $85 an hour', '$95,000 - $105,000 a year', '$26 an hour',\n",
       "       '$70,000 - $100,000 a year', '$21.85 - $25.30 an hour',\n",
       "       '$40,000 - $100,000 a year', '$97,360 - $126,571 a year',\n",
       "       '$130,000 - $150,000 a year', '$4,312 - $6,294 a month',\n",
       "       '$65 - $70 an hour', '$11.25 an hour', '$16 - $18 an hour',\n",
       "       '$64,866 - $68,889 a year', '$18 - $20 an hour',\n",
       "       '$40,000 - $55,000 a year', '$105,650 - $146,300 a year',\n",
       "       '$160,000 a year', '$14.25 an hour', '$115,050 - $149,562 a year',\n",
       "       '$53,738 - $65,017 a year', '$71,870 - $110,944 a year',\n",
       "       '$125,000 - $145,000 a year', '$129,761 - $168,693 a year',\n",
       "       '$56,459 - $68,309 a year', '$34 - $40 an hour',\n",
       "       '$40 - $55 an hour', '$46,156 - $59,999 a year', '$115,000 a year',\n",
       "       '$60 - $120 an hour', '$90,000 - $115,000 a year',\n",
       "       '$150,000 - $250,000 a year', '$150,000 - $225,000 a year',\n",
       "       '$200,000 a year', '$130,000 - $175,000 a year', '$195,000 a year',\n",
       "       '$160,000 - $200,000 a year', '$45.60 an hour',\n",
       "       '$70 - $90 an hour', '$200,000 - $350,000 a year',\n",
       "       '$220,000 a year', '$175,000 - $200,000 a year',\n",
       "       '$80,000 - $150,000 a year', '$40,000 - $70,000 a year',\n",
       "       '$160,000 - $225,000 a year', '$250,000 a year',\n",
       "       '$50,000 - $120,000 a year', '$61,930 - $162,227 a year',\n",
       "       '$85 - $90 an hour', '$125,000 - $240,000 a year',\n",
       "       '$23,000 a year', '$68,000 - $73,000 a year',\n",
       "       '$50,932 - $105,236 a year', '$37 - $45 an hour',\n",
       "       '$91,589 - $129,700 a year', '$100 - $110 an hour',\n",
       "       '$85,000 - $98,900 a year', '$75 an hour', '$77 - $87 an hour',\n",
       "       '$91,231 - $144,676 a year', '$104,286 - $131,196 a year',\n",
       "       '$50 - $75 an hour', '$43.31 - $54.48 an hour',\n",
       "       '$84,000 - $90,000 a year', '$60 - $70 an hour',\n",
       "       '$50.14 - $63.08 an hour', '$8,613 - $10,766 a month',\n",
       "       '$81.56 an hour', '$90,090 - $113,308 a year',\n",
       "       '$6,389 - $9,583 a month', '$48.19 - $60.63 an hour',\n",
       "       '$120,744 - $151,892 a year', '$102,770 - $154,150 a year',\n",
       "       '$50 - $66 an hour', '$28 - $38 an hour',\n",
       "       '$81,800 - $89,000 a year', '$50 - $70 an hour', '$4,217 a month',\n",
       "       '$50,400 - $55,200 a year', '$112,000 - $168,000 a year',\n",
       "       '$6,591 a month', '$11,000 - $15,000 a month',\n",
       "       '$45,000 - $70,000 a year', '$60 - $67 an hour',\n",
       "       '$42.59 - $51.76 an hour', '$16.35 an hour',\n",
       "       '$200,000 - $250,000 a year', '$50 - $80 an hour',\n",
       "       '$150,000 - $240,000 a year', 'From $13.50 an hour',\n",
       "       '$17 - $25 an hour', '$33.65 an hour',\n",
       "       '$130,000 - $140,000 a year', '$126,100 - $160,000 a year',\n",
       "       '$170,000 - $250,000 a year', '$130,000 - $180,000 a year',\n",
       "       '$150,000 - $180,000 a year', '$82,000 - $102,000 a year',\n",
       "       '$100,000 - $105,000 a year', '$64,535 - $83,897 a year',\n",
       "       '$58,429 - $75,958 a year', '$120,000 - $138,000 a year',\n",
       "       '$200,000 - $225,000 a year', '$19 - $23 an hour',\n",
       "       '$36,000 - $65,000 a year', '$15.75 an hour',\n",
       "       '$120,000 - $145,000 a year', '$115,000 - $140,000 a year',\n",
       "       '$55 - $58 an hour', '$111,098 - $140,823 a year',\n",
       "       '$17.00 - $19.50 an hour', '$50,000 - $62,000 a year',\n",
       "       '$48,500 - $59,000 a year', '$140,000 - $200,000 a year',\n",
       "       '$130,000 - $145,000 a year', '$44,000 - $48,000 a year',\n",
       "       '$41.15 - $52.16 an hour', '$44,000 - $56,000 a year',\n",
       "       '$85,629 - $128,433 a year', 'Up to $60 an hour',\n",
       "       '$99,736 - $120,744 a year', '$78,426 - $82,347 a year',\n",
       "       '$100 - $105 an hour', '$100,000 - $130,000 a year',\n",
       "       '$30 - $60 an hour', '$35 an hour', '$40 - $70 an hour',\n",
       "       '$120,000 - $200,000 a year', '$109,000 - $119,000 a year',\n",
       "       '$89,000 - $99,000 a year', '$108,000 - $118,000 a year'],\n",
       "      dtype=object)"
      ]
     },
     "execution_count": 13,
     "metadata": {},
     "output_type": "execute_result"
    }
   ],
   "source": [
    "df2.Salary.unique()"
   ]
  },
  {
   "cell_type": "markdown",
   "metadata": {},
   "source": [
    "#### Subset dataframe with Salary info"
   ]
  },
  {
   "cell_type": "code",
   "execution_count": 14,
   "metadata": {},
   "outputs": [],
   "source": [
    "salary_df = df2[df2['Salary']!= 'None'].drop(['Location','Unnamed: 0'], axis = 1)"
   ]
  },
  {
   "cell_type": "code",
   "execution_count": 15,
   "metadata": {},
   "outputs": [
    {
     "name": "stdout",
     "output_type": "stream",
     "text": [
      "<class 'pandas.core.frame.DataFrame'>\n",
      "Int64Index: 1162 entries, 2 to 7261\n",
      "Data columns (total 7 columns):\n",
      "Title          981 non-null object\n",
      "Company        964 non-null object\n",
      "Link           964 non-null object\n",
      "Review         964 non-null object\n",
      "Salary         964 non-null object\n",
      "Description    964 non-null object\n",
      "Location2      959 non-null object\n",
      "dtypes: object(7)\n",
      "memory usage: 72.6+ KB\n"
     ]
    }
   ],
   "source": [
    "salary_df.info()"
   ]
  },
  {
   "cell_type": "markdown",
   "metadata": {},
   "source": [
    "We have 964 jobs with salary info. Let's look at their titles."
   ]
  },
  {
   "cell_type": "code",
   "execution_count": 16,
   "metadata": {},
   "outputs": [],
   "source": [
    "salary_list = salary_df['Salary'].unique().tolist()"
   ]
  },
  {
   "cell_type": "markdown",
   "metadata": {},
   "source": [
    "##### Adjust Hourly and Daily Salary to Yearly"
   ]
  },
  {
   "cell_type": "code",
   "execution_count": 17,
   "metadata": {},
   "outputs": [],
   "source": [
    "def salary_base(x):\n",
    "    y=\"\"\n",
    "    if \"year\" in str(x):\n",
    "        y = \"Yearly\"\n",
    "    if \"hour\" in str(x):\n",
    "        y = \"Hourly\"\n",
    "    if \"day\" in str(x):\n",
    "        y = \"Daily\"\n",
    "    elif \"month\" in str(x):\n",
    "        y = \"Monthly\"\n",
    "    \n",
    "    return y\n",
    "        "
   ]
  },
  {
   "cell_type": "code",
   "execution_count": 18,
   "metadata": {},
   "outputs": [],
   "source": [
    "salary_df['Rate_by'] = salary_df['Salary'].apply(salary_base)"
   ]
  },
  {
   "cell_type": "code",
   "execution_count": 19,
   "metadata": {},
   "outputs": [],
   "source": [
    "salary_df = salary_df[salary_df['Rate_by']!=\"\"]"
   ]
  },
  {
   "cell_type": "code",
   "execution_count": 20,
   "metadata": {},
   "outputs": [],
   "source": [
    "indexNames = salary_df[salary_df['Rate_by']==\"\"].index\n",
    " \n",
    "# Delete these row indexes from dataFrame\n",
    "salary_df.drop(indexNames , inplace=True)"
   ]
  },
  {
   "cell_type": "code",
   "execution_count": 21,
   "metadata": {},
   "outputs": [],
   "source": [
    "salary_df.reset_index(drop=True);"
   ]
  },
  {
   "cell_type": "code",
   "execution_count": 22,
   "metadata": {},
   "outputs": [
    {
     "data": {
      "text/plain": [
       "Rate_by\n",
       "Daily        1\n",
       "Hourly     294\n",
       "Monthly     31\n",
       "Yearly     637\n",
       "Name: Salary, dtype: int64"
      ]
     },
     "execution_count": 22,
     "metadata": {},
     "output_type": "execute_result"
    }
   ],
   "source": [
    "salary_df.groupby('Rate_by').Salary.count()"
   ]
  },
  {
   "cell_type": "markdown",
   "metadata": {},
   "source": [
    "#### Split the cell and use regular expression to identify only numbers."
   ]
  },
  {
   "cell_type": "code",
   "execution_count": 23,
   "metadata": {},
   "outputs": [
    {
     "data": {
      "text/plain": [
       "['$69,415']"
      ]
     },
     "execution_count": 23,
     "metadata": {},
     "output_type": "execute_result"
    }
   ],
   "source": [
    "a = \"From $69,415 a year\" \n",
    "\n",
    "\n",
    "pattern = '\\$[0-9]*[.,]?[0-9]*'\n",
    "p = re.compile(pattern)\n",
    "digits = p.findall(a)\n",
    "digits"
   ]
  },
  {
   "cell_type": "code",
   "execution_count": 24,
   "metadata": {},
   "outputs": [],
   "source": [
    "salary_list;"
   ]
  },
  {
   "cell_type": "code",
   "execution_count": 25,
   "metadata": {},
   "outputs": [],
   "source": [
    "salary_df[['low','high']] = salary_df.Salary.str.split('-', expand=True)"
   ]
  },
  {
   "cell_type": "code",
   "execution_count": 26,
   "metadata": {},
   "outputs": [
    {
     "data": {
      "text/html": [
       "<div>\n",
       "<style scoped>\n",
       "    .dataframe tbody tr th:only-of-type {\n",
       "        vertical-align: middle;\n",
       "    }\n",
       "\n",
       "    .dataframe tbody tr th {\n",
       "        vertical-align: top;\n",
       "    }\n",
       "\n",
       "    .dataframe thead th {\n",
       "        text-align: right;\n",
       "    }\n",
       "</style>\n",
       "<table border=\"1\" class=\"dataframe\">\n",
       "  <thead>\n",
       "    <tr style=\"text-align: right;\">\n",
       "      <th></th>\n",
       "      <th>Rate_by</th>\n",
       "      <th>low</th>\n",
       "      <th>high</th>\n",
       "    </tr>\n",
       "  </thead>\n",
       "  <tbody>\n",
       "    <tr>\n",
       "      <th>2</th>\n",
       "      <td>Yearly</td>\n",
       "      <td>Up to $215,000 a year</td>\n",
       "      <td>None</td>\n",
       "    </tr>\n",
       "    <tr>\n",
       "      <th>6</th>\n",
       "      <td>Yearly</td>\n",
       "      <td>$60,000 a year</td>\n",
       "      <td>None</td>\n",
       "    </tr>\n",
       "    <tr>\n",
       "      <th>8</th>\n",
       "      <td>Hourly</td>\n",
       "      <td>$20</td>\n",
       "      <td>$25 an hour</td>\n",
       "    </tr>\n",
       "    <tr>\n",
       "      <th>11</th>\n",
       "      <td>Yearly</td>\n",
       "      <td>$70,000</td>\n",
       "      <td>$85,000 a year</td>\n",
       "    </tr>\n",
       "    <tr>\n",
       "      <th>16</th>\n",
       "      <td>Hourly</td>\n",
       "      <td>$45</td>\n",
       "      <td>$55 an hour</td>\n",
       "    </tr>\n",
       "    <tr>\n",
       "      <th>...</th>\n",
       "      <td>...</td>\n",
       "      <td>...</td>\n",
       "      <td>...</td>\n",
       "    </tr>\n",
       "    <tr>\n",
       "      <th>7192</th>\n",
       "      <td>Yearly</td>\n",
       "      <td>$108,000</td>\n",
       "      <td>$118,000 a year</td>\n",
       "    </tr>\n",
       "    <tr>\n",
       "      <th>7199</th>\n",
       "      <td>Yearly</td>\n",
       "      <td>$89,000</td>\n",
       "      <td>$99,000 a year</td>\n",
       "    </tr>\n",
       "    <tr>\n",
       "      <th>7208</th>\n",
       "      <td>Yearly</td>\n",
       "      <td>$89,000</td>\n",
       "      <td>$99,000 a year</td>\n",
       "    </tr>\n",
       "    <tr>\n",
       "      <th>7212</th>\n",
       "      <td>Yearly</td>\n",
       "      <td>$80,000</td>\n",
       "      <td>$90,000 a year</td>\n",
       "    </tr>\n",
       "    <tr>\n",
       "      <th>7261</th>\n",
       "      <td>Yearly</td>\n",
       "      <td>$70,000</td>\n",
       "      <td>$90,000 a year</td>\n",
       "    </tr>\n",
       "  </tbody>\n",
       "</table>\n",
       "<p>963 rows × 3 columns</p>\n",
       "</div>"
      ],
      "text/plain": [
       "     Rate_by                    low              high\n",
       "2     Yearly  Up to $215,000 a year              None\n",
       "6     Yearly         $60,000 a year              None\n",
       "8     Hourly                   $20        $25 an hour\n",
       "11    Yearly               $70,000     $85,000 a year\n",
       "16    Hourly                   $45        $55 an hour\n",
       "...      ...                    ...               ...\n",
       "7192  Yearly              $108,000    $118,000 a year\n",
       "7199  Yearly               $89,000     $99,000 a year\n",
       "7208  Yearly               $89,000     $99,000 a year\n",
       "7212  Yearly               $80,000     $90,000 a year\n",
       "7261  Yearly               $70,000     $90,000 a year\n",
       "\n",
       "[963 rows x 3 columns]"
      ]
     },
     "execution_count": 26,
     "metadata": {},
     "output_type": "execute_result"
    }
   ],
   "source": [
    "salary_df[['Rate_by','low','high']]"
   ]
  },
  {
   "cell_type": "code",
   "execution_count": 27,
   "metadata": {},
   "outputs": [],
   "source": [
    "def find_salary(a):\n",
    "    if a:\n",
    "        pattern = '\\$[0-9]*[.,]?[0-9]*'\n",
    "        p = re.compile(pattern)\n",
    "        digits = p.findall(a)\n",
    "        new1 = digits[0].replace(\"$\",\"\")\n",
    "        new2 = new1.replace(\",\",\"\")\n",
    "        \n",
    "        return float(new2)\n",
    "    else:\n",
    "        return 0"
   ]
  },
  {
   "cell_type": "code",
   "execution_count": 28,
   "metadata": {},
   "outputs": [],
   "source": [
    "salary_df['min'] = salary_df['low'].apply(find_salary)"
   ]
  },
  {
   "cell_type": "code",
   "execution_count": 29,
   "metadata": {},
   "outputs": [],
   "source": [
    "salary_df['max'] = salary_df['high'].apply(find_salary)"
   ]
  },
  {
   "cell_type": "code",
   "execution_count": 30,
   "metadata": {},
   "outputs": [],
   "source": [
    "salary_df.head();"
   ]
  },
  {
   "cell_type": "code",
   "execution_count": 31,
   "metadata": {},
   "outputs": [],
   "source": [
    "salary_df.to_csv(\"salary_df_5.20.csv\")"
   ]
  },
  {
   "cell_type": "markdown",
   "metadata": {},
   "source": [
    "#### Calculate the adjusted salary (turn all daily/hourly wage to yearly), use average"
   ]
  },
  {
   "cell_type": "code",
   "execution_count": 32,
   "metadata": {},
   "outputs": [],
   "source": [
    "#Calculate average salary\n",
    "def adjust_salary(a, b):\n",
    "    adjusted_salary=[]\n",
    "    for x, y in zip(a,b):\n",
    "        if y > 0:\n",
    "            avg_salary = (x+y)/2\n",
    "        \n",
    "        else:\n",
    "            avg_salary = x\n",
    "            \n",
    "        adjusted_salary.append(avg_salary)\n",
    "        \n",
    "    return adjusted_salary               "
   ]
  },
  {
   "cell_type": "code",
   "execution_count": 33,
   "metadata": {},
   "outputs": [],
   "source": [
    "salary_df['adjusted_salary'] = adjust_salary(salary_df['min'], salary_df['max'])"
   ]
  },
  {
   "cell_type": "code",
   "execution_count": 34,
   "metadata": {},
   "outputs": [],
   "source": [
    "#turn hourly, daily and monthly wage to yearly \n",
    "def adjust_salary2(m,n):\n",
    "    adjusted_yearly_salary = []\n",
    "    for x, y in zip(m,n):\n",
    "        if x == \"Yearly\":\n",
    "            yearly_salary = y\n",
    "        if x == \"Monthly\":\n",
    "            yearly_salary = y*12\n",
    "        if x == \"Hourly\":\n",
    "            yearly_salary = y*40*52\n",
    "        if x == \"Daily\":\n",
    "            yearly_salary = y*5*52\n",
    "            \n",
    "        adjusted_yearly_salary.append(yearly_salary)\n",
    "        \n",
    "    return adjusted_yearly_salary\n",
    "        "
   ]
  },
  {
   "cell_type": "code",
   "execution_count": 35,
   "metadata": {},
   "outputs": [],
   "source": [
    "salary_df['adjusted_yearly_salary'] = adjust_salary2(salary_df['Rate_by'], salary_df['adjusted_salary'])"
   ]
  },
  {
   "cell_type": "code",
   "execution_count": 50,
   "metadata": {},
   "outputs": [
    {
     "data": {
      "text/plain": [
       "array(['Arlington, VA', 'Atlanta, GA', nan, 'Austin, TX', 'Boston, MA',\n",
       "       'Cambridge, MA', 'Charlotte, NC', 'Chicago, IL', 'Dallas, TX',\n",
       "       'Denver, CO', 'Hartford, CT', 'Houston, TX', 'Irving, TX',\n",
       "       'Los Angeles, CA', 'Miami, FL ', 'New York, NY', 'Palo Alto, CA',\n",
       "       'Philadelphia, PA', 'Pittsburg, PA', 'Portland, OR',\n",
       "       'Raleigh-Durham, NC', 'San Antonio, TX', 'San Francisco, CA',\n",
       "       'San Jose, CA', 'Seattle, WA', 'Washington, DC'], dtype=object)"
      ]
     },
     "execution_count": 50,
     "metadata": {},
     "output_type": "execute_result"
    }
   ],
   "source": [
    "salary_df.Location2.unique()"
   ]
  },
  {
   "cell_type": "markdown",
   "metadata": {},
   "source": [
    "#### Join with Cost of Living Index"
   ]
  },
  {
   "cell_type": "code",
   "execution_count": 2,
   "metadata": {},
   "outputs": [],
   "source": [
    "COI = pd.read_excel(\"CostofLiving2020.xlsx\")"
   ]
  },
  {
   "cell_type": "code",
   "execution_count": 3,
   "metadata": {},
   "outputs": [
    {
     "data": {
      "text/html": [
       "<div>\n",
       "<style scoped>\n",
       "    .dataframe tbody tr th:only-of-type {\n",
       "        vertical-align: middle;\n",
       "    }\n",
       "\n",
       "    .dataframe tbody tr th {\n",
       "        vertical-align: top;\n",
       "    }\n",
       "\n",
       "    .dataframe thead th {\n",
       "        text-align: right;\n",
       "    }\n",
       "</style>\n",
       "<table border=\"1\" class=\"dataframe\">\n",
       "  <thead>\n",
       "    <tr style=\"text-align: right;\">\n",
       "      <th></th>\n",
       "      <th>Rank</th>\n",
       "      <th>City</th>\n",
       "      <th>Cost of Living Index</th>\n",
       "      <th>Rent Index</th>\n",
       "      <th>Cost of Living Plus Rent Index</th>\n",
       "      <th>Groceries Index</th>\n",
       "      <th>Restaurant Price Index</th>\n",
       "      <th>Local Purchasing Power Index</th>\n",
       "    </tr>\n",
       "  </thead>\n",
       "  <tbody>\n",
       "    <tr>\n",
       "      <th>0</th>\n",
       "      <td>1</td>\n",
       "      <td>New York, NY</td>\n",
       "      <td>100.00</td>\n",
       "      <td>100.00</td>\n",
       "      <td>100.00</td>\n",
       "      <td>100.00</td>\n",
       "      <td>100.00</td>\n",
       "      <td>100.00</td>\n",
       "    </tr>\n",
       "    <tr>\n",
       "      <th>1</th>\n",
       "      <td>2</td>\n",
       "      <td>San Francisco, CA</td>\n",
       "      <td>91.51</td>\n",
       "      <td>115.58</td>\n",
       "      <td>103.02</td>\n",
       "      <td>86.91</td>\n",
       "      <td>94.45</td>\n",
       "      <td>135.90</td>\n",
       "    </tr>\n",
       "    <tr>\n",
       "      <th>2</th>\n",
       "      <td>3</td>\n",
       "      <td>Palo Alto, CA</td>\n",
       "      <td>91.51</td>\n",
       "      <td>115.58</td>\n",
       "      <td>103.02</td>\n",
       "      <td>86.91</td>\n",
       "      <td>94.45</td>\n",
       "      <td>135.90</td>\n",
       "    </tr>\n",
       "    <tr>\n",
       "      <th>3</th>\n",
       "      <td>4</td>\n",
       "      <td>Anchorage, AK</td>\n",
       "      <td>91.36</td>\n",
       "      <td>38.94</td>\n",
       "      <td>66.29</td>\n",
       "      <td>88.42</td>\n",
       "      <td>78.89</td>\n",
       "      <td>118.44</td>\n",
       "    </tr>\n",
       "    <tr>\n",
       "      <th>4</th>\n",
       "      <td>5</td>\n",
       "      <td>Honolulu, HI</td>\n",
       "      <td>89.70</td>\n",
       "      <td>63.03</td>\n",
       "      <td>76.94</td>\n",
       "      <td>89.83</td>\n",
       "      <td>83.60</td>\n",
       "      <td>88.29</td>\n",
       "    </tr>\n",
       "  </tbody>\n",
       "</table>\n",
       "</div>"
      ],
      "text/plain": [
       "   Rank               City  Cost of Living Index  Rent Index  \\\n",
       "0     1       New York, NY                100.00      100.00   \n",
       "1     2  San Francisco, CA                 91.51      115.58   \n",
       "2     3      Palo Alto, CA                 91.51      115.58   \n",
       "3     4      Anchorage, AK                 91.36       38.94   \n",
       "4     5       Honolulu, HI                 89.70       63.03   \n",
       "\n",
       "   Cost of Living Plus Rent Index  Groceries Index  Restaurant Price Index  \\\n",
       "0                          100.00           100.00                  100.00   \n",
       "1                          103.02            86.91                   94.45   \n",
       "2                          103.02            86.91                   94.45   \n",
       "3                           66.29            88.42                   78.89   \n",
       "4                           76.94            89.83                   83.60   \n",
       "\n",
       "   Local Purchasing Power Index  \n",
       "0                        100.00  \n",
       "1                        135.90  \n",
       "2                        135.90  \n",
       "3                        118.44  \n",
       "4                         88.29  "
      ]
     },
     "execution_count": 3,
     "metadata": {},
     "output_type": "execute_result"
    }
   ],
   "source": [
    "COI.head()"
   ]
  },
  {
   "cell_type": "code",
   "execution_count": 4,
   "metadata": {},
   "outputs": [
    {
     "data": {
      "text/plain": [
       "array(['New York, NY', 'San Francisco, CA', 'Palo Alto, CA',\n",
       "       'Anchorage, AK', 'Honolulu, HI', 'Brooklyn, NY', 'Washington, DC',\n",
       "       'Oakland, CA', 'Seattle, WA', 'Boston, MA', 'Cambridge, MA',\n",
       "       'Bellevue, WA', 'Chicago, IL', 'Sarasota, FL', 'Philadelphia, PA',\n",
       "       'San Jose, CA', 'Portland, OR', 'Toronto, Canada',\n",
       "       'New Orleans, LA', 'Sacramento, CA', 'Minneapolis, MN',\n",
       "       'Los Angeles, CA', 'Albany, NY', 'Jacksonville, FL',\n",
       "       'Baltimore, MD', 'San Diego, CA', 'Miami, FL', 'Buffalo, NY',\n",
       "       'Vancouver, Canada', 'Atlanta, GA', 'Reno, NV', 'Pittsburgh, PA',\n",
       "       'Pittsburg, PA', 'Denver, CO', 'Nashville, TN', 'Arlington, VA',\n",
       "       'Charlotte, NC', 'Halifax, Canada', 'Tucson, AZ', 'Olympia, WA',\n",
       "       'Victoria, Canada', 'Colorado Springs, CO', 'Tacoma, WA',\n",
       "       'Saint Louis, MO', 'Calgary, Canada', 'Columbus, OH',\n",
       "       \"Saint John's, Canada\", 'Raleigh-Durham, NC', 'Edmonton, Canada',\n",
       "       'Saskatoon, Canada', 'Kansas City, MO', 'Ottawa, Canada',\n",
       "       'Regina, Canada', 'Quebec City, Canada', 'Dallas, TX',\n",
       "       'Austin, TX', 'Las Vegas, NV', 'Phoenix, AZ', 'Montreal, Canada',\n",
       "       'Richmond, VA', 'Tampa, FL', 'Louisville, KY', 'Indianapolis, IN',\n",
       "       'Brampton, Canada', 'San Antonio, TX', 'Orlando, FL',\n",
       "       'Houston, TX', 'Salt Lake City, UT', 'Madison, WI', 'Tulsa, OK',\n",
       "       'Hamilton, Canada', 'Detroit, MI', 'Irving, TX',\n",
       "       'Winnipeg, Canada', 'Kitchener, Canada', 'Cincinnati, OH',\n",
       "       'Boise, ID', 'London, Canada', 'Little Rock, AR', 'El Paso, TX'],\n",
       "      dtype=object)"
      ]
     },
     "execution_count": 4,
     "metadata": {},
     "output_type": "execute_result"
    }
   ],
   "source": [
    "COI.City.unique()"
   ]
  },
  {
   "cell_type": "code",
   "execution_count": 5,
   "metadata": {},
   "outputs": [],
   "source": [
    "salary_df = pd.read_csv(\"salary_final.csv\")"
   ]
  },
  {
   "cell_type": "code",
   "execution_count": 6,
   "metadata": {},
   "outputs": [],
   "source": [
    "df = salary_df.merge(COI, left_on='Location2', right_on='City', how = 'left')"
   ]
  },
  {
   "cell_type": "code",
   "execution_count": 7,
   "metadata": {},
   "outputs": [
    {
     "data": {
      "text/plain": [
       "Location2\n",
       "Arlington, VA         114.082286\n",
       "Atlanta, GA           140.470000\n",
       "Austin, TX            145.760000\n",
       "Boston, MA            112.390000\n",
       "Cambridge, MA         112.390000\n",
       "Charlotte, NC         144.290000\n",
       "Chicago, IL           113.520000\n",
       "Dallas, TX            155.300000\n",
       "Denver, CO            130.330000\n",
       "Hartford, CT                 NaN\n",
       "Houston, TX           141.310000\n",
       "Irving, TX            137.300000\n",
       "Los Angeles, CA       113.780000\n",
       "Miami, FL                    NaN\n",
       "New York, NY          100.000000\n",
       "Palo Alto, CA         135.900000\n",
       "Philadelphia, PA      100.230000\n",
       "Pittsburg, PA         123.080000\n",
       "Portland, OR          112.820000\n",
       "Raleigh-Durham, NC    145.300000\n",
       "San Antonio, TX       116.400000\n",
       "San Francisco, CA     135.900000\n",
       "San Jose, CA          143.480000\n",
       "Seattle, WA           133.430000\n",
       "Washington, DC        130.250000\n",
       "Name: Local Purchasing Power Index, dtype: float64"
      ]
     },
     "execution_count": 7,
     "metadata": {},
     "output_type": "execute_result"
    }
   ],
   "source": [
    "df.groupby('Location2')['Local Purchasing Power Index'].mean()"
   ]
  },
  {
   "cell_type": "code",
   "execution_count": 10,
   "metadata": {},
   "outputs": [
    {
     "data": {
      "text/html": [
       "<div>\n",
       "<style scoped>\n",
       "    .dataframe tbody tr th:only-of-type {\n",
       "        vertical-align: middle;\n",
       "    }\n",
       "\n",
       "    .dataframe tbody tr th {\n",
       "        vertical-align: top;\n",
       "    }\n",
       "\n",
       "    .dataframe thead th {\n",
       "        text-align: right;\n",
       "    }\n",
       "</style>\n",
       "<table border=\"1\" class=\"dataframe\">\n",
       "  <thead>\n",
       "    <tr style=\"text-align: right;\">\n",
       "      <th></th>\n",
       "      <th>Unnamed: 0</th>\n",
       "      <th>Title</th>\n",
       "      <th>Company</th>\n",
       "      <th>Link</th>\n",
       "      <th>Review</th>\n",
       "      <th>Salary</th>\n",
       "      <th>Description</th>\n",
       "      <th>Location2</th>\n",
       "      <th>Rate_by</th>\n",
       "      <th>low</th>\n",
       "      <th>...</th>\n",
       "      <th>adjusted_salary</th>\n",
       "      <th>adjusted_yearly_salary</th>\n",
       "      <th>Rank</th>\n",
       "      <th>City</th>\n",
       "      <th>Cost of Living Index</th>\n",
       "      <th>Rent Index</th>\n",
       "      <th>Cost of Living Plus Rent Index</th>\n",
       "      <th>Groceries Index</th>\n",
       "      <th>Restaurant Price Index</th>\n",
       "      <th>Local Purchasing Power Index</th>\n",
       "    </tr>\n",
       "  </thead>\n",
       "  <tbody>\n",
       "    <tr>\n",
       "      <th>0</th>\n",
       "      <td>2</td>\n",
       "      <td>2021048 Data Scientist $215,000.00</td>\n",
       "      <td>B4CORP</td>\n",
       "      <td>https://www.indeed.com/pagead/clk?mo=r&amp;ad=-6NY...</td>\n",
       "      <td>None</td>\n",
       "      <td>Up to $215,000 a year</td>\n",
       "      <td>Position Requires a Top Secret (TS/SCI) Cleara...</td>\n",
       "      <td>Arlington, VA</td>\n",
       "      <td>Yearly</td>\n",
       "      <td>Up to $215,000 a year</td>\n",
       "      <td>...</td>\n",
       "      <td>215000.0</td>\n",
       "      <td>215000.0</td>\n",
       "      <td>36.0</td>\n",
       "      <td>Arlington, VA</td>\n",
       "      <td>80.159143</td>\n",
       "      <td>58.838571</td>\n",
       "      <td>69.961143</td>\n",
       "      <td>76.886286</td>\n",
       "      <td>78.608571</td>\n",
       "      <td>115.594571</td>\n",
       "    </tr>\n",
       "    <tr>\n",
       "      <th>1</th>\n",
       "      <td>2</td>\n",
       "      <td>2021048 Data Scientist $215,000.00</td>\n",
       "      <td>B4CORP</td>\n",
       "      <td>https://www.indeed.com/pagead/clk?mo=r&amp;ad=-6NY...</td>\n",
       "      <td>None</td>\n",
       "      <td>Up to $215,000 a year</td>\n",
       "      <td>Position Requires a Top Secret (TS/SCI) Cleara...</td>\n",
       "      <td>Arlington, VA</td>\n",
       "      <td>Yearly</td>\n",
       "      <td>Up to $215,000 a year</td>\n",
       "      <td>...</td>\n",
       "      <td>215000.0</td>\n",
       "      <td>215000.0</td>\n",
       "      <td>61.0</td>\n",
       "      <td>Arlington, VA</td>\n",
       "      <td>67.200000</td>\n",
       "      <td>33.880000</td>\n",
       "      <td>51.260000</td>\n",
       "      <td>59.130000</td>\n",
       "      <td>76.440000</td>\n",
       "      <td>112.570000</td>\n",
       "    </tr>\n",
       "    <tr>\n",
       "      <th>2</th>\n",
       "      <td>6</td>\n",
       "      <td>Data Science/Data Analyst</td>\n",
       "      <td>CRAiC LLC</td>\n",
       "      <td>https://www.indeed.com/company/CRAiC-LLC/jobs/...</td>\n",
       "      <td>None</td>\n",
       "      <td>$60,000 a year</td>\n",
       "      <td>Cost Readiness Analytics (CRAiC LLC) is lookin...</td>\n",
       "      <td>Arlington, VA</td>\n",
       "      <td>Yearly</td>\n",
       "      <td>$60,000 a year</td>\n",
       "      <td>...</td>\n",
       "      <td>60000.0</td>\n",
       "      <td>60000.0</td>\n",
       "      <td>36.0</td>\n",
       "      <td>Arlington, VA</td>\n",
       "      <td>80.159143</td>\n",
       "      <td>58.838571</td>\n",
       "      <td>69.961143</td>\n",
       "      <td>76.886286</td>\n",
       "      <td>78.608571</td>\n",
       "      <td>115.594571</td>\n",
       "    </tr>\n",
       "    <tr>\n",
       "      <th>3</th>\n",
       "      <td>6</td>\n",
       "      <td>Data Science/Data Analyst</td>\n",
       "      <td>CRAiC LLC</td>\n",
       "      <td>https://www.indeed.com/company/CRAiC-LLC/jobs/...</td>\n",
       "      <td>None</td>\n",
       "      <td>$60,000 a year</td>\n",
       "      <td>Cost Readiness Analytics (CRAiC LLC) is lookin...</td>\n",
       "      <td>Arlington, VA</td>\n",
       "      <td>Yearly</td>\n",
       "      <td>$60,000 a year</td>\n",
       "      <td>...</td>\n",
       "      <td>60000.0</td>\n",
       "      <td>60000.0</td>\n",
       "      <td>61.0</td>\n",
       "      <td>Arlington, VA</td>\n",
       "      <td>67.200000</td>\n",
       "      <td>33.880000</td>\n",
       "      <td>51.260000</td>\n",
       "      <td>59.130000</td>\n",
       "      <td>76.440000</td>\n",
       "      <td>112.570000</td>\n",
       "    </tr>\n",
       "    <tr>\n",
       "      <th>4</th>\n",
       "      <td>8</td>\n",
       "      <td>Data Science Intern</td>\n",
       "      <td>MilliporeSigma</td>\n",
       "      <td>https://www.indeed.com/company/Serono/jobs/Dat...</td>\n",
       "      <td>3.9</td>\n",
       "      <td>$20 - $25 an hour</td>\n",
       "      <td>Job Title: Data Science Intern\\rA career with ...</td>\n",
       "      <td>Arlington, VA</td>\n",
       "      <td>Hourly</td>\n",
       "      <td>$20</td>\n",
       "      <td>...</td>\n",
       "      <td>22.5</td>\n",
       "      <td>46800.0</td>\n",
       "      <td>36.0</td>\n",
       "      <td>Arlington, VA</td>\n",
       "      <td>80.159143</td>\n",
       "      <td>58.838571</td>\n",
       "      <td>69.961143</td>\n",
       "      <td>76.886286</td>\n",
       "      <td>78.608571</td>\n",
       "      <td>115.594571</td>\n",
       "    </tr>\n",
       "  </tbody>\n",
       "</table>\n",
       "<p>5 rows × 23 columns</p>\n",
       "</div>"
      ],
      "text/plain": [
       "   Unnamed: 0                               Title         Company  \\\n",
       "0           2  2021048 Data Scientist $215,000.00          B4CORP   \n",
       "1           2  2021048 Data Scientist $215,000.00          B4CORP   \n",
       "2           6           Data Science/Data Analyst       CRAiC LLC   \n",
       "3           6           Data Science/Data Analyst       CRAiC LLC   \n",
       "4           8                 Data Science Intern  MilliporeSigma   \n",
       "\n",
       "                                                Link Review  \\\n",
       "0  https://www.indeed.com/pagead/clk?mo=r&ad=-6NY...   None   \n",
       "1  https://www.indeed.com/pagead/clk?mo=r&ad=-6NY...   None   \n",
       "2  https://www.indeed.com/company/CRAiC-LLC/jobs/...   None   \n",
       "3  https://www.indeed.com/company/CRAiC-LLC/jobs/...   None   \n",
       "4  https://www.indeed.com/company/Serono/jobs/Dat...    3.9   \n",
       "\n",
       "                  Salary                                        Description  \\\n",
       "0  Up to $215,000 a year  Position Requires a Top Secret (TS/SCI) Cleara...   \n",
       "1  Up to $215,000 a year  Position Requires a Top Secret (TS/SCI) Cleara...   \n",
       "2         $60,000 a year  Cost Readiness Analytics (CRAiC LLC) is lookin...   \n",
       "3         $60,000 a year  Cost Readiness Analytics (CRAiC LLC) is lookin...   \n",
       "4      $20 - $25 an hour  Job Title: Data Science Intern\\rA career with ...   \n",
       "\n",
       "       Location2 Rate_by                    low  ... adjusted_salary  \\\n",
       "0  Arlington, VA  Yearly  Up to $215,000 a year  ...        215000.0   \n",
       "1  Arlington, VA  Yearly  Up to $215,000 a year  ...        215000.0   \n",
       "2  Arlington, VA  Yearly         $60,000 a year  ...         60000.0   \n",
       "3  Arlington, VA  Yearly         $60,000 a year  ...         60000.0   \n",
       "4  Arlington, VA  Hourly                   $20   ...            22.5   \n",
       "\n",
       "   adjusted_yearly_salary  Rank           City  Cost of Living Index  \\\n",
       "0                215000.0  36.0  Arlington, VA             80.159143   \n",
       "1                215000.0  61.0  Arlington, VA             67.200000   \n",
       "2                 60000.0  36.0  Arlington, VA             80.159143   \n",
       "3                 60000.0  61.0  Arlington, VA             67.200000   \n",
       "4                 46800.0  36.0  Arlington, VA             80.159143   \n",
       "\n",
       "   Rent Index Cost of Living Plus Rent Index  Groceries Index  \\\n",
       "0   58.838571                      69.961143        76.886286   \n",
       "1   33.880000                      51.260000        59.130000   \n",
       "2   58.838571                      69.961143        76.886286   \n",
       "3   33.880000                      51.260000        59.130000   \n",
       "4   58.838571                      69.961143        76.886286   \n",
       "\n",
       "   Restaurant Price Index  Local Purchasing Power Index  \n",
       "0               78.608571                    115.594571  \n",
       "1               76.440000                    112.570000  \n",
       "2               78.608571                    115.594571  \n",
       "3               76.440000                    112.570000  \n",
       "4               78.608571                    115.594571  \n",
       "\n",
       "[5 rows x 23 columns]"
      ]
     },
     "execution_count": 10,
     "metadata": {},
     "output_type": "execute_result"
    }
   ],
   "source": [
    "df.head()"
   ]
  },
  {
   "cell_type": "code",
   "execution_count": 12,
   "metadata": {},
   "outputs": [],
   "source": [
    "#Combine Title with the Description\n",
    "df['combined_text'] = df['Title'].str.cat(df['Description'], sep = ' ')"
   ]
  },
  {
   "cell_type": "code",
   "execution_count": 20,
   "metadata": {},
   "outputs": [
    {
     "data": {
      "text/plain": [
       "\"Data Science/Data Analyst Cost Readiness Analytics (CRAiC LLC) is looking for a Journeyman Data Science / Data Analyst to support our DoD client in the Pentagon. CRAiC LLC is a professional services company with a focus on data analytics in the fields of financial analysis, reliability engineering, and logistics. Based in Frederick MD, CRAiC helps their Government clients to see \\x8a\\x97\\x93the story within the data\\x8a\\x97\\x9d so they can optimize resources to accomplish the mission.\\r*\\rQualities\\rDemonstrated resourcefulness in problem-solving\\rAn analytical mind and business acumen\\rA positive attitude\\rStrong mathematical skills\\rExcellent communication and presentation skills\\rAbility to deliver high-quality products as a member of a cross-functional team\\rAbility to work independently with minimal supervision\\rQualifications\\rProven experience (2-5 years) in a Data Science or Data Analyst position\\rExperience in data mining\\rUnderstanding of operations research\\rExperience with Excel, SQL Databases, and Tableau/QLIK/similar (required); experience with Rstudio, Python, or C++ (preferred)\\rBenefits\\rCompetitive salary and benefits\\rBS/BA in Data Science, Engineering, Computer Science, or other relevant technical field is required; graduate degree in Data Science or other quantitative field is preferred.\\rThe ability to obtain and maintain a DoD Secret-level clearance is a requirement. Current or recent Secret-level clearance is preferred.\\rCRAiC LLC provides equal employment opportunities to all employees and applicants for employment and prohibits discrimination and harassment of any type without regard to race, color, religion, age, sex, national origin, disability status, genetics, protected veteran status, sexual orientation, gender identity or expression, or any other characteristic protected by federal, state or local laws.\\r*\\rJob Type: Full-time\\rSalary: $60,000.00 /year\\rExperience:\\rData Science or Data Analyst: 2 years (Preferred)\\rSecurity Clearance Required:\\rSecret (Preferred)\\rWork Location:\\rOne location\\rBenefits:\\rOther\\rSchedule:\\rMonday to Friday\\rCompany's website:\\rhttp://www.craic-llc.com\\rWork Remotely:\\rTemporarily due to COVID-19\""
      ]
     },
     "execution_count": 20,
     "metadata": {},
     "output_type": "execute_result"
    }
   ],
   "source": [
    "df['combined_text'][3]"
   ]
  },
  {
   "cell_type": "code",
   "execution_count": 14,
   "metadata": {},
   "outputs": [],
   "source": [
    "df.to_csv(\"salary_final.csv\")"
   ]
  },
  {
   "cell_type": "markdown",
   "metadata": {},
   "source": [
    "# Processing Text Data and Create Frequency Distributions"
   ]
  },
  {
   "cell_type": "markdown",
   "metadata": {},
   "source": [
    "### Helper Functions to clean text data"
   ]
  },
  {
   "cell_type": "markdown",
   "metadata": {},
   "source": [
    "* Do we remove stop words or not?\n",
    "* Do we stem or lemmatize our text data, or leave the words as is?\n",
    "* Is basic tokenization enough, or do we need to support special edge cases through the use of regex?\n",
    "* Do we use the entire vocabulary, or just limit the model to a subset of the most frequently used words? If so, how many?\n",
    "* Do we engineer other features, such as bigrams, or POS tags, or Mutual Information Scores?\n",
    "* What sort of vectorization should we use in our model? Boolean Vectorization? Count Vectorization? TF-IDF? More advanced vectorization strategies such as Word2Vec?"
   ]
  },
  {
   "cell_type": "code",
   "execution_count": 16,
   "metadata": {},
   "outputs": [],
   "source": [
    "def clean_word(job_descriptions):\n",
    "    jd_data=[]\n",
    "    pattern = \"([a-zA-Z]+(?:'[a-z]+)?)\"\n",
    "    stopwords_list = stopwords.words('english')\n",
    "    stopwords_list += list(string.punctuation)\n",
    "    stopwords_list += ['0', '1', '2', '3', '4', '5', '6', '7', '8', '9']\n",
    "    \n",
    "    for jd in job_descriptions:\n",
    "        jd_tokens_raw = nltk.regexp_tokenize(jd, pattern)\n",
    "        jd_tokens=[word.lower() for word in jd_tokens_raw]\n",
    "        jd_words_stopped = [word for word in jd_tokens if word not in stopwords_list]\n",
    "        jd_data.append(jd_words_stopped)\n",
    "    return pd.Series(jd_data) # Turn list of lists to series of lists to use in Word2Vec"
   ]
  },
  {
   "cell_type": "code",
   "execution_count": 17,
   "metadata": {},
   "outputs": [],
   "source": [
    "job_tokens = clean_word(df['combined_text'])"
   ]
  },
  {
   "cell_type": "code",
   "execution_count": 32,
   "metadata": {},
   "outputs": [],
   "source": [
    "all_tokens = [word for job in job_tokens for word in job]"
   ]
  },
  {
   "cell_type": "code",
   "execution_count": 37,
   "metadata": {},
   "outputs": [
    {
     "data": {
      "text/plain": [
       "[('data', 5621),\n",
       " ('experience', 5151),\n",
       " ('work', 3541),\n",
       " ('business', 2659),\n",
       " ('required', 2266),\n",
       " ('years', 2048),\n",
       " ('time', 1968),\n",
       " ('job', 1959),\n",
       " ('skills', 1929),\n",
       " ('team', 1835),\n",
       " ('management', 1770),\n",
       " ('ability', 1562),\n",
       " ('preferred', 1501),\n",
       " ('marketing', 1404),\n",
       " ('development', 1383),\n",
       " ('year', 1377),\n",
       " ('company', 1280),\n",
       " ('position', 1257),\n",
       " ('knowledge', 1235),\n",
       " ('benefits', 1233),\n",
       " ('requirements', 1221),\n",
       " ('analysis', 1216),\n",
       " ('insurance', 1211),\n",
       " ('information', 1202),\n",
       " ('full', 1162),\n",
       " ('including', 1145),\n",
       " ('support', 1138),\n",
       " ('analytics', 1133),\n",
       " ('salary', 1098),\n",
       " ('must', 1096),\n",
       " ('working', 1039),\n",
       " ('education', 1029),\n",
       " ('new', 1015),\n",
       " ('strong', 999),\n",
       " ('may', 977),\n",
       " ('technical', 976),\n",
       " ('analyst', 956),\n",
       " ('systems', 956),\n",
       " ('apply', 934),\n",
       " ('science', 931),\n",
       " ('degree', 913),\n",
       " ('health', 904),\n",
       " ('related', 897),\n",
       " ('customer', 828),\n",
       " ('sales', 824),\n",
       " ('software', 821),\n",
       " ('develop', 808),\n",
       " ('location', 804),\n",
       " ('design', 794),\n",
       " ('services', 784),\n",
       " ('environment', 780),\n",
       " ('provide', 772),\n",
       " ('schedule', 746),\n",
       " ('learning', 735),\n",
       " ('one', 734),\n",
       " ('product', 726),\n",
       " ('research', 724),\n",
       " ('service', 717),\n",
       " ('qualifications', 712),\n",
       " ('level', 711),\n",
       " ('application', 705),\n",
       " ('solutions', 696),\n",
       " ('process', 694),\n",
       " ('performance', 688),\n",
       " ('employees', 681),\n",
       " ('responsibilities', 676),\n",
       " ('engineer', 675),\n",
       " ('project', 669),\n",
       " ('social', 667),\n",
       " ('quality', 667),\n",
       " ('us', 666),\n",
       " ('tools', 665),\n",
       " ('based', 660),\n",
       " ('communication', 640),\n",
       " ('using', 639),\n",
       " ('paid', 626),\n",
       " ('role', 622),\n",
       " ('type', 620),\n",
       " ('technology', 618),\n",
       " ('field', 615),\n",
       " ('program', 614),\n",
       " ('professional', 605),\n",
       " ('well', 603),\n",
       " ('e', 597),\n",
       " ('training', 591),\n",
       " ('projects', 591),\n",
       " ('system', 586),\n",
       " ('vision', 578),\n",
       " ('within', 576),\n",
       " ('senior', 571),\n",
       " ('media', 570),\n",
       " ('engineering', 568),\n",
       " ('help', 563),\n",
       " ('client', 563),\n",
       " ('computer', 560),\n",
       " ('please', 557),\n",
       " ('opportunity', 556),\n",
       " ('high', 554),\n",
       " ('etc', 552),\n",
       " ('teams', 547)]"
      ]
     },
     "execution_count": 37,
     "metadata": {},
     "output_type": "execute_result"
    }
   ],
   "source": [
    "#Most common 50 words\n",
    "job_tokens_freq = FreqDist(all_tokens)\n",
    "job_tokens_freq.most_common(100)"
   ]
  },
  {
   "cell_type": "markdown",
   "metadata": {},
   "source": [
    "While some of them are relevant, not all of them are informational."
   ]
  },
  {
   "cell_type": "markdown",
   "metadata": {},
   "source": [
    "**Size of the total vocabulary in all jobs**"
   ]
  },
  {
   "cell_type": "code",
   "execution_count": 36,
   "metadata": {},
   "outputs": [
    {
     "data": {
      "text/plain": [
       "13283"
      ]
     },
     "execution_count": 36,
     "metadata": {},
     "output_type": "execute_result"
    }
   ],
   "source": [
    "len(job_tokens_freq)"
   ]
  },
  {
   "cell_type": "markdown",
   "metadata": {},
   "source": [
    "### Normalized Frequency\n",
    "\n",
    "Divide each word frequency by the total number of words."
   ]
  },
  {
   "cell_type": "code",
   "execution_count": 38,
   "metadata": {},
   "outputs": [
    {
     "name": "stdout",
     "output_type": "stream",
     "text": [
      "Word\t\t\tNormalized Frequency\n",
      "data \t\t\t 0.0153\n",
      "experience \t\t\t 0.01402\n",
      "work \t\t\t 0.00964\n",
      "business \t\t\t 0.007239\n",
      "required \t\t\t 0.006169\n",
      "years \t\t\t 0.005575\n",
      "time \t\t\t 0.005358\n",
      "job \t\t\t 0.005333\n",
      "skills \t\t\t 0.005251\n",
      "team \t\t\t 0.004995\n",
      "management \t\t\t 0.004819\n",
      "ability \t\t\t 0.004252\n",
      "preferred \t\t\t 0.004086\n",
      "marketing \t\t\t 0.003822\n",
      "development \t\t\t 0.003765\n",
      "year \t\t\t 0.003749\n",
      "company \t\t\t 0.003485\n",
      "position \t\t\t 0.003422\n",
      "knowledge \t\t\t 0.003362\n",
      "benefits \t\t\t 0.003357\n",
      "requirements \t\t\t 0.003324\n",
      "analysis \t\t\t 0.00331\n",
      "insurance \t\t\t 0.003297\n",
      "information \t\t\t 0.003272\n",
      "full \t\t\t 0.003163\n",
      "including \t\t\t 0.003117\n",
      "support \t\t\t 0.003098\n",
      "analytics \t\t\t 0.003084\n",
      "salary \t\t\t 0.002989\n",
      "must \t\t\t 0.002984\n",
      "working \t\t\t 0.002828\n",
      "education \t\t\t 0.002801\n",
      "new \t\t\t 0.002763\n",
      "strong \t\t\t 0.00272\n",
      "may \t\t\t 0.00266\n",
      "technical \t\t\t 0.002657\n",
      "analyst \t\t\t 0.002603\n",
      "systems \t\t\t 0.002603\n",
      "apply \t\t\t 0.002543\n",
      "science \t\t\t 0.002534\n",
      "degree \t\t\t 0.002485\n",
      "health \t\t\t 0.002461\n",
      "related \t\t\t 0.002442\n",
      "customer \t\t\t 0.002254\n",
      "sales \t\t\t 0.002243\n",
      "software \t\t\t 0.002235\n",
      "develop \t\t\t 0.0022\n",
      "location \t\t\t 0.002189\n",
      "design \t\t\t 0.002162\n",
      "services \t\t\t 0.002134\n",
      "environment \t\t\t 0.002123\n",
      "provide \t\t\t 0.002102\n",
      "schedule \t\t\t 0.002031\n",
      "learning \t\t\t 0.002001\n",
      "one \t\t\t 0.001998\n",
      "product \t\t\t 0.001976\n",
      "research \t\t\t 0.001971\n",
      "service \t\t\t 0.001952\n",
      "qualifications \t\t\t 0.001938\n",
      "level \t\t\t 0.001936\n",
      "application \t\t\t 0.001919\n",
      "solutions \t\t\t 0.001895\n",
      "process \t\t\t 0.001889\n",
      "performance \t\t\t 0.001873\n",
      "employees \t\t\t 0.001854\n",
      "responsibilities \t\t\t 0.00184\n",
      "engineer \t\t\t 0.001838\n",
      "project \t\t\t 0.001821\n",
      "social \t\t\t 0.001816\n",
      "quality \t\t\t 0.001816\n",
      "us \t\t\t 0.001813\n",
      "tools \t\t\t 0.00181\n",
      "based \t\t\t 0.001797\n",
      "communication \t\t\t 0.001742\n",
      "using \t\t\t 0.00174\n",
      "paid \t\t\t 0.001704\n",
      "role \t\t\t 0.001693\n",
      "type \t\t\t 0.001688\n",
      "technology \t\t\t 0.001682\n",
      "field \t\t\t 0.001674\n",
      "program \t\t\t 0.001672\n",
      "professional \t\t\t 0.001647\n",
      "well \t\t\t 0.001642\n",
      "e \t\t\t 0.001625\n",
      "training \t\t\t 0.001609\n",
      "projects \t\t\t 0.001609\n",
      "system \t\t\t 0.001595\n",
      "vision \t\t\t 0.001573\n",
      "within \t\t\t 0.001568\n",
      "senior \t\t\t 0.001554\n",
      "media \t\t\t 0.001552\n",
      "engineering \t\t\t 0.001546\n",
      "help \t\t\t 0.001533\n",
      "client \t\t\t 0.001533\n",
      "computer \t\t\t 0.001524\n",
      "please \t\t\t 0.001516\n",
      "opportunity \t\t\t 0.001514\n",
      "high \t\t\t 0.001508\n",
      "etc \t\t\t 0.001503\n",
      "teams \t\t\t 0.001489\n"
     ]
    }
   ],
   "source": [
    "total_word_count = sum(job_tokens_freq.values())\n",
    "job_top_100 = job_tokens_freq.most_common(100)\n",
    "print('Word\\t\\t\\tNormalized Frequency')\n",
    "for word in job_top_100:\n",
    "    normalized_frequency = word[1]/total_word_count\n",
    "    print('{} \\t\\t\\t {:.4}'.format(word[0], normalized_frequency))"
   ]
  },
  {
   "cell_type": "markdown",
   "metadata": {},
   "source": [
    "### Creating Bigrams\n",
    "\n",
    "Create word combinations to examine further\n",
    "\n",
    "* We'll begin by aliasing a particularly long method name to make it easier to call. Store `nltk.collocations.BigramAssocMeasures()` inside of the variable `bigram_measures` \n",
    "* Next, we'll need to create a **_finder_**. Pass `all_tokens` \n",
    "* Once we have a finder, we can use it to compute bigram scores, so we can see the combinations that occur most frequently. \n"
   ]
  },
  {
   "cell_type": "code",
   "execution_count": 39,
   "metadata": {},
   "outputs": [],
   "source": [
    "bigram_measures = nltk.collocations.BigramAssocMeasures()\n",
    "job_finder = BigramCollocationFinder.from_words(all_tokens)\n",
    "job_scored = job_finder.score_ngrams(bigram_measures.raw_freq)"
   ]
  },
  {
   "cell_type": "code",
   "execution_count": 52,
   "metadata": {},
   "outputs": [
    {
     "data": {
      "text/plain": [
       "[(('full', 'time'), 0.0024909210691087674),\n",
       " (('job', 'type'), 0.0013992715076742148),\n",
       " (('monday', 'friday'), 0.0013203242825330626),\n",
       " (('years', 'experience'), 0.001276767192800013),\n",
       " (('machine', 'learning'), 0.0012686002384750662),\n",
       " (('data', 'science'), 0.0012522663298251727),\n",
       " (('schedule', 'monday'), 0.0012141538763087544),\n",
       " (('work', 'remotely'), 0.0011379289692759178),\n",
       " (('time', 'salary'), 0.0011079834700844463),\n",
       " (('years', 'required'), 0.001075315652784659),\n",
       " (('social', 'media'), 0.0010617040622430813),\n",
       " (('type', 'full'), 0.0010589817441347656),\n",
       " (('years', 'preferred'), 0.0010480924717015032),\n",
       " (('health', 'insurance'), 0.0009936461095351914),\n",
       " (('salary', 'year'), 0.0009800345189936133),\n",
       " (('communication', 'skills'), 0.0009745898827769823),\n",
       " (('year', 'preferred'), 0.0008901980214191989),\n",
       " (('work', 'location'), 0.0008575302041194118),\n",
       " (('paid', 'time'), 0.0008439186135778338),\n",
       " (('benefits', 'health'), 0.000835751659252887),\n",
       " (('e', 'g'), 0.0008221400687113091),\n",
       " (('business', 'analyst'), 0.0008194177506029934),\n",
       " (('computer', 'science'), 0.0007867499333032063),\n",
       " (('dental', 'insurance'), 0.0007513597978951037),\n",
       " (('related', 'field'), 0.0007377482073535257),\n",
       " (('year', 'experience'), 0.0007377482073535257),\n",
       " (('vision', 'insurance'), 0.0007295812530285789),\n",
       " (('insurance', 'dental'), 0.0007078027081620542),\n",
       " (('united', 'states'), 0.0007078027081620542),\n",
       " (('salary', 'hour'), 0.0006996357538371074)]"
      ]
     },
     "execution_count": 52,
     "metadata": {},
     "output_type": "execute_result"
    }
   ],
   "source": [
    "job_scored[0:30]"
   ]
  },
  {
   "cell_type": "code",
   "execution_count": 51,
   "metadata": {},
   "outputs": [
    {
     "data": {
      "text/plain": [
       "('full', 'time')"
      ]
     },
     "execution_count": 51,
     "metadata": {},
     "output_type": "execute_result"
    }
   ],
   "source": [
    "job_scored[0][0]"
   ]
  },
  {
   "cell_type": "markdown",
   "metadata": {},
   "source": [
    "This combination definitely gives more information about the nature of the job, such as whether the position is full time or not, some keywords pop up like machine learning, computer science. Let's look at the **Mutual Information** which measures the dependence between two random variables X and Y. In our case, X and Y represent all bi-grams in corpus such that Y comes right after X. **PMI (Pointwise Mutual Information)** is a measure of the dependece between a  concrete occurences of X and Y. When two words X and Y appear together many times, but not alone, PMI(x,y) will have a  higher value."
   ]
  },
  {
   "cell_type": "markdown",
   "metadata": {},
   "source": [
    "### Calculating Mutual Information Scores"
   ]
  },
  {
   "cell_type": "markdown",
   "metadata": {},
   "source": [
    "To calculate mutual information scores, we'll need to first create a frequency filter, so that we only examine bigrams that occur more than a set number of times -- for our purposes, we'll set this limit to 5. \n",
    "\n",
    "In NLTK, mutual information is often referred to as `pmi`, for **_Pointwise Mutual Information_**. Calculating PMI scores works much the same way that we created bigrams, with a few notable differences.\n",
    "\n",
    "In the cell below:\n",
    "\n",
    "* We'll start by creating another finder for pmi. Pass `all_tokens` as the input to `BigramCollocationFinder.from_words()`. Store this is the variable `job_pmi_finder` \n",
    "* Once we have our finder, we'll need to apply our frequency filter. Call `job_pmi_finder`'s `apply_freq_filter` and try different inputs ranging from 5 to 20. \n",
    "* Now, we can use the finder to calculate pmi scores. Use the pmi finder's `.score_ngrams()` method, and pass in `bigram_measures.pmi` as the argument. Store this in `job_pmi_scored` \n",
    "* Examine the first 50 elements in `job_pmi_scored` "
   ]
  },
  {
   "cell_type": "code",
   "execution_count": 60,
   "metadata": {},
   "outputs": [],
   "source": [
    "def mutual_info_scores(text, freq_filter=5):\n",
    "\n",
    "    pmi_finder = BigramCollocationFinder.from_words(text)\n",
    "    pmi_finder.apply_freq_filter(freq_filter)\n",
    "    pmi_scored = pmi_finder.score_ngrams(bigram_measures.pmi)\n",
    "    return pmi_scored"
   ]
  },
  {
   "cell_type": "code",
   "execution_count": 68,
   "metadata": {},
   "outputs": [
    {
     "data": {
      "text/plain": [
       "[(('supply', 'chain'), 12.003053745947051),\n",
       " (('cutting', 'edge'), 11.876799863124738),\n",
       " (('sexual', 'orientation'), 11.68505119718861),\n",
       " (('button', 'sending'), 11.572889554580735),\n",
       " (('liberty', 'mutual'), 11.424564089744589),\n",
       " (('cooperative', 'extensionanr'), 11.39927006958068),\n",
       " (('regard', 'race'), 11.191418808548232),\n",
       " (('race', 'color'), 11.182844743344024),\n",
       " (('cover', 'letter'), 11.176877648244234),\n",
       " (('tuition', 'reimbursement'), 11.172309985600528),\n",
       " (('without', 'regard'), 11.103586073943847),\n",
       " (('san', 'francisco'), 11.07488235672783),\n",
       " (('gender', 'identity'), 11.070934054713097),\n",
       " (('color', 'religion'), 10.962148612668472),\n",
       " (('waiting', 'period'), 10.94301869637738),\n",
       " (('subject', 'matter'), 10.711131114491613),\n",
       " (('orientation', 'gender'), 10.589401143647345),\n",
       " (('national', 'origin'), 10.565628456002804),\n",
       " (('fit', 'easy'), 10.548815419601876),\n",
       " (('long', 'term'), 10.542575057505811),\n",
       " (('fast', 'paced'), 10.452960334530319),\n",
       " (('fully', 'remote'), 10.391909364629429),\n",
       " (('self', 'starter'), 10.347181558432231),\n",
       " (('decision', 'making'), 10.335149545378219),\n",
       " (('temporarily', 'due'), 10.315399714995898),\n",
       " (('united', 'states'), 10.297858806587715),\n",
       " (('site', 'button'), 10.28464458594966),\n",
       " (('artificial', 'intelligence'), 10.280384501138835),\n",
       " (('conditions', 'waiting'), 10.253432803247701),\n",
       " (('problem', 'solving'), 10.146882907946399),\n",
       " (('authorization', 'united'), 10.145855713142668),\n",
       " (('due', 'covid'), 10.137907710633524),\n",
       " (('describes', 'culture'), 10.082055784692857),\n",
       " (('power', 'bi'), 9.99057967706772),\n",
       " (('veterans', 'preference'), 9.988239828573743),\n",
       " (('co', 'cooperative'), 9.96146126264318),\n",
       " (('attention', 'detail'), 9.947574099722992),\n",
       " (('track', 'record'), 9.945189479277788),\n",
       " (('b', 'corp'), 9.89801827524876),\n",
       " (('per', 'week'), 9.873143606609728),\n",
       " (('accelerated', 'career'), 9.852937225584919),\n",
       " (('precision', 'focused'), 9.829333253569606),\n",
       " (('cooperative', 'collaborative'), 9.77987407179565),\n",
       " (('continuous', 'improvement'), 9.750032542337202),\n",
       " (('benefit', 'conditions'), 9.725425356292853),\n",
       " (('remotely', 'temporarily'), 9.715628404807564),\n",
       " (('college', 'university'), 9.699822292147356),\n",
       " (('compensation', 'bonuses'), 9.564455760797099),\n",
       " (('ideal', 'someone'), 9.541604255244469),\n",
       " (('monday', 'friday'), 9.488575801005965),\n",
       " (('life', 'cycle'), 9.418378892528388),\n",
       " (('contract', 'length'), 9.36423477058535),\n",
       " ((\"company's\", 'website'), 9.358881849379188),\n",
       " (('accredited', 'college'), 9.344858003346477),\n",
       " (('veteran', 'status'), 9.30322476516791),\n",
       " (('semester', 'hours'), 9.296604338665526),\n",
       " (('cross', 'functional'), 9.285300108130219),\n",
       " (('http', 'www'), 9.21251784900358),\n",
       " (('human', 'resources'), 9.181055397114186),\n",
       " (('e', 'g'), 9.177121041768991),\n",
       " (('large', 'scale'), 9.148635879050147),\n",
       " (('retirement', 'plan'), 9.13309595621632),\n",
       " (('internal', 'external'), 9.117781915210099),\n",
       " (('ideal', 'candidate'), 9.063736164084538),\n",
       " (('https', 'www'), 9.031518969367202),\n",
       " (('risk', 'taking'), 9.010476669552366),\n",
       " (('friday', 'weekends'), 8.986808881836305),\n",
       " (('outcome', 'oriented'), 8.968289354294477),\n",
       " (('oral', 'written'), 8.928312197562358),\n",
       " (('e', 'commerce'), 8.902575710181507),\n",
       " (('verbal', 'written'), 8.892688287831636),\n",
       " (('background', 'check'), 8.88900895548601),\n",
       " (('machine', 'learning'), 8.886804110422336),\n",
       " (('day', 'shift'), 8.865047304104342),\n",
       " (('proven', 'track'), 8.854949553356871),\n",
       " (('self', 'motivated'), 8.845987415403668),\n",
       " (('meet', 'criteria'), 8.839601589023436),\n",
       " (('application', 'question'), 8.832608385602468),\n",
       " (('best', 'practices'), 8.814436941145036),\n",
       " (('quality', 'precision'), 8.809734076120263),\n",
       " (('policies', 'procedures'), 8.803974989722192),\n",
       " (('schedule', 'monday'), 8.787498948933806),\n",
       " (('bit', 'us'), 8.768552630308001),\n",
       " (('written', 'verbal'), 8.740685194386586),\n",
       " (('equal', 'opportunity'), 8.739760615494472),\n",
       " (('multiple', 'locations'), 8.724184768264488),\n",
       " (('remotely', 'yes'), 8.603813948654981),\n",
       " (('clicking', 'apply'), 8.578812186624017),\n",
       " (('apply', 'clicking'), 8.558053626457216),\n",
       " (('social', 'media'), 8.557702164343944),\n",
       " (('additional', 'compensation'), 8.556243837110895),\n",
       " (('bachelor', 'degree'), 8.53956172809744),\n",
       " (('quality', 'assurance'), 8.538843137092625),\n",
       " (('essential', 'functions'), 8.527734127516457),\n",
       " (('please', 'visit'), 8.519527539882283),\n",
       " (('sending', 'us'), 8.515439282396834),\n",
       " (('new', 'york'), 8.499468898758483),\n",
       " (('sql', 'server'), 8.488270692153618),\n",
       " (('may', 'substituted'), 8.445583787309472),\n",
       " (('detail', 'oriented'), 8.441907014903077),\n",
       " (('competitive', 'base'), 8.41787403760853),\n",
       " (('oriented', 'cooperative'), 8.412591448078516),\n",
       " (('friday', \"company's\"), 8.39138660947011),\n",
       " (('hours', 'per'), 8.359125423223588),\n",
       " (('opportunity', 'employer'), 8.350444594543621),\n",
       " (('encouraged', 'apply'), 8.335000781652663),\n",
       " (('details', 'background'), 8.325872817218036),\n",
       " (('background', 'fit'), 8.274033885698417),\n",
       " (('hour', 'shift'), 8.27135648324721),\n",
       " (('fast', 'growing'), 8.245724811327225),\n",
       " (('easy', 'apply'), 8.173389776221892),\n",
       " (('security', 'clearance'), 8.164740411352643),\n",
       " (('oriented', 'enjoys'), 8.155683145041564),\n",
       " (('employees', 'eligible'), 8.146775183843985),\n",
       " (('microsoft', 'office'), 8.117557744682916),\n",
       " (('none', 'schedule'), 8.117237345570476),\n",
       " (('company', 'describes'), 8.113274515303576),\n",
       " (('website', 'https'), 8.10587316173066),\n",
       " (('website', 'www'), 8.086145355595988),\n",
       " (('medical', 'dental'), 8.07623108279357),\n",
       " (('period', 'may'), 8.057950774087193),\n",
       " (('innovative', 'risk'), 8.051633994309125),\n",
       " (('location', 'fully'), 7.9920827769946605),\n",
       " (('benefits', 'none'), 7.9836723533421825),\n",
       " (('qualified', 'applicants'), 7.982211826294716),\n",
       " (('please', 'note'), 7.97288197071223),\n",
       " (('salary', 'bit'), 7.959805817123723),\n",
       " (('innovative', 'innovative'), 7.87938768095669),\n",
       " (('com', 'benefit'), 7.863569116209394),\n",
       " ((\"master's\", 'degree'), 7.85256051133263),\n",
       " (('paced', 'environment'), 7.844914220696118),\n",
       " (('end', 'end'), 7.842513184443337),\n",
       " (('salary', 'hour'), 7.829452696798629),\n",
       " (('insurance', 'retirement'), 7.822178589172438),\n",
       " (('high', 'school'), 7.7951176688469985),\n",
       " (('culture', 'detail'), 7.764352275667218),\n",
       " (('types', 'full'), 7.755717903769057),\n",
       " (('day', 'day'), 7.75527244604859),\n",
       " (('u', 'department'), 7.737093486629703),\n",
       " (('computer', 'science'), 7.669738218827941),\n",
       " (('include', 'limited'), 7.643204376219934),\n",
       " (('master', 'degree'), 7.641206672337802),\n",
       " (('education', \"bachelor's\"), 7.638233090122252),\n",
       " (('type', 'full'), 7.631840497138445),\n",
       " (('flexible', 'schedule'), 7.564207708154608),\n",
       " (('k', 'k'), 7.5525002851220115),\n",
       " (('duties', 'assigned'), 7.522507578799125),\n",
       " ((\"bachelor's\", 'degree'), 7.519654365690233),\n",
       " (('plan', 'paid'), 7.507142156402459),\n",
       " (('dental', 'insurance'), 7.504651277485522),\n",
       " (('related', 'field'), 7.495475177039026),\n",
       " (('ms', 'office'), 7.4873200644107705),\n",
       " (('written', 'communication'), 7.439274116839734),\n",
       " (('job', 'hosted'), 7.4305369948457205),\n",
       " (('grade', 'level'), 7.428064660490449),\n",
       " (('insurance', 'dental'), 7.418494633735808),\n",
       " (('minimum', 'qualifications'), 7.403841233029269),\n",
       " (('qualification', 'requirements'), 7.393350098036869),\n",
       " (('join', 'us'), 7.389854772182016),\n",
       " (('team', 'player'), 7.3868565675090565),\n",
       " (('dental', 'vision'), 7.370074883509524),\n",
       " (('verbal', 'communication'), 7.343305711565787),\n",
       " (('base', 'salary'), 7.33813609476212),\n",
       " (('jobot', 'job'), 7.33742759045424),\n",
       " (('results', 'focused'), 7.324320600623416),\n",
       " (('deep', 'learning'), 7.306512928660833),\n",
       " (('benefits', 'package'), 7.301237986620158),\n",
       " (('job', 'type'), 7.280331372483072),\n",
       " (('career', 'growth'), 7.275957216747653),\n",
       " (('job', 'types'), 7.267038262562842),\n",
       " (('full', 'time'), 7.1994519852586585),\n",
       " (('contract', 'salary'), 7.172936118350471),\n",
       " (('vision', 'insurance'), 7.135913269093784),\n",
       " (('google', 'analytics'), 7.0806779545966165),\n",
       " (('duties', 'responsibilities'), 7.079310628682066),\n",
       " (('one', 'location'), 7.016484684949976),\n",
       " (('friday', 'day'), 7.00858337658401),\n",
       " (('location', 'one'), 7.002545493992098),\n",
       " (('collaborative', 'schedule'), 6.9971403495372435),\n",
       " (('insurance', 'vision'), 6.97671467424453),\n",
       " (('remote', 'benefits'), 6.955741420594389),\n",
       " (('health', 'insurance'), 6.936323452488882),\n",
       " (('people', 'oriented'), 6.862857435668342),\n",
       " (('five', 'years'), 6.855966720496738),\n",
       " (('non', 'technical'), 6.823279452103289),\n",
       " (('us', 'resume'), 6.789614245835828),\n",
       " (('federal', 'state'), 6.787515398030976),\n",
       " (('fit', 'apply'), 6.771457264566404),\n",
       " (('job', 'description'), 6.769841010505225),\n",
       " (('interpersonal', 'skills'), 6.735945958463962),\n",
       " (('communication', 'skills'), 6.734983165158809),\n",
       " (('least', 'one'), 6.72065876268471),\n",
       " (('team', 'members'), 6.689562682458899),\n",
       " (('including', 'limited'), 6.6724670244839785),\n",
       " (('type', 'contract'), 6.6683504557898665),\n",
       " (('public', 'health'), 6.666553948415835),\n",
       " (('three', 'years'), 6.663610672915098),\n",
       " (('benefits', 'health'), 6.660691709383173),\n",
       " (('work', 'remotely'), 6.645927699794264),\n",
       " (('closely', 'related'), 6.645919869872419),\n",
       " (('excellent', 'communication'), 6.643358765972437),\n",
       " (('oriented', 'results'), 6.635969653560519),\n",
       " (('performance', 'culture'), 6.614211926239356),\n",
       " (('work', 'authorization'), 6.605818122392616),\n",
       " (('predictive', 'analytics'), 6.583001667427133),\n",
       " (('meet', 'minimum'), 6.575565659344566),\n",
       " (('development', 'assistance'), 6.5486748868197395),\n",
       " (('develop', 'implement'), 6.541463793038915),\n",
       " (('paid', 'time'), 6.530323963833403),\n",
       " (('help', 'us'), 6.524952283357166),\n",
       " (('comprehensive', 'benefits'), 6.522167969878119),\n",
       " (('digital', 'marketing'), 6.5118530794515905),\n",
       " (('health', 'care'), 6.498953999919763),\n",
       " (('must', 'able'), 6.4875760779533),\n",
       " (('two', 'years'), 6.486732910831019),\n",
       " (('salary', 'year'), 6.450610824020536),\n",
       " (('job', 'details'), 6.383103782825366),\n",
       " (('applicants', 'must'), 6.382098093046245),\n",
       " (('skills', 'abilities'), 6.374549803399837),\n",
       " (('states', 'required'), 6.3620172509202),\n",
       " (('federal', 'employees'), 6.356403675363001),\n",
       " (('personal', 'information'), 6.339575994908309),\n",
       " (('position', 'requires'), 6.326427393705632),\n",
       " (('customer', 'service'), 6.307416644629793),\n",
       " (('presentation', 'skills'), 6.30561517191693),\n",
       " (('company', 'site'), 6.2846445859496605),\n",
       " (('conditions', 'full'), 6.264810193239853),\n",
       " (('list', 'years'), 6.223698504997227),\n",
       " (('responsibilities', 'include'), 6.193609654904716),\n",
       " (('part', 'time'), 6.1806712214026795),\n",
       " (('multiple', 'projects'), 6.17538193083875),\n",
       " (('products', 'services'), 6.171583348574721),\n",
       " (('high', 'level'), 6.16607153585732),\n",
       " (('join', 'team'), 6.135110871393181),\n",
       " (('time', 'salary'), 6.112441050752828),\n",
       " (('high', 'quality'), 6.078910634847588),\n",
       " (('oriented', 'quality'), 6.075442616252385),\n",
       " (('focused', 'strong'), 6.0673388649118785),\n",
       " (('resume', 'salary'), 6.047268658374065),\n",
       " (('software', 'engineer'), 6.036107427194629),\n",
       " (('marketing', 'campaigns'), 5.995781780795742),\n",
       " (('business', 'intelligence'), 5.966473995344501),\n",
       " (('organizational', 'skills'), 5.951607106035649),\n",
       " (('solving', 'skills'), 5.931549453694398),\n",
       " (('job', 'ideal'), 5.912570501682229),\n",
       " (('may', 'apply'), 5.906407939615136),\n",
       " (('degree', 'computer'), 5.898018275248756),\n",
       " (('location', 'benefits'), 5.889652230136615),\n",
       " (('demonstrated', 'ability'), 5.889627004989617),\n",
       " (('operations', 'research'), 5.8783625669696455),\n",
       " (('data', 'scientist'), 5.875793664864808),\n",
       " (('year', 'preferred'), 5.860858630573453),\n",
       " (('project', 'management'), 5.834898821276216),\n",
       " (('professional', 'development'), 5.834723950547023),\n",
       " (('work', 'home'), 5.797554759375025),\n",
       " ((\"bachelor's\", 'preferred'), 5.793428370826515),\n",
       " (('big', 'data'), 5.742065138947876),\n",
       " (('data', 'sets'), 5.716963925996474),\n",
       " (('data', 'mining'), 5.716013220828039),\n",
       " (('data', 'warehouse'), 5.695702772185541),\n",
       " (('data', 'scientists'), 5.665357518458482),\n",
       " (('statistical', 'analysis'), 5.662016828111984),\n",
       " (('ability', 'communicate'), 5.6551617513525905),\n",
       " (('one', 'year'), 5.648308270631016),\n",
       " (('life', 'insurance'), 5.642713747056593),\n",
       " (('strong', 'analytical'), 5.59842793407114),\n",
       " (('eligible', 'work'), 5.542069187641463),\n",
       " (('specialized', 'experience'), 5.539424725659238),\n",
       " (('department', 'education'), 5.537421141793338),\n",
       " (('additional', 'information'), 5.529407128585394),\n",
       " (('proven', 'ability'), 5.527056925604903),\n",
       " (('may', 'include'), 5.524770815468582),\n",
       " (('years', 'preferred'), 5.5237392847925975),\n",
       " (('work', 'independently'), 5.522540855595004),\n",
       " (('information', 'technology'), 5.491843342414157),\n",
       " (('software', 'engineering'), 5.488637393713276),\n",
       " (('data', 'collection'), 5.482634015953607),\n",
       " ((\"bachelor's\", 'required'), 5.4771892339264525),\n",
       " (('business', 'analyst'), 5.442817717752302),\n",
       " (('salary', 'k'), 5.431874261438946),\n",
       " (('apply', 'meet'), 5.410736686681986),\n",
       " (('please', 'apply'), 5.380563703143171),\n",
       " (('time', 'contract'), 5.366532788020724),\n",
       " (('insurance', 'paid'), 5.364121850341775),\n",
       " (('work', 'location'), 5.344948109648456),\n",
       " (('time', 'employees'), 5.302632418922023),\n",
       " (('work', 'closely'), 5.30053149019189),\n",
       " (('learning', 'engineer'), 5.2943092337322994),\n",
       " (('strong', 'performance'), 5.204651745114674),\n",
       " (('science', 'engineering'), 5.202268888330746),\n",
       " (('data', 'visualization'), 5.200046812698414),\n",
       " (('required', 'documents'), 5.194821459193225),\n",
       " (('years', 'relevant'), 5.1749646821638855),\n",
       " (('software', 'development'), 5.153268771427381),\n",
       " (('apply', 'please'), 5.141776843556048),\n",
       " (('minimum', 'years'), 5.097166099068296),\n",
       " (('information', 'systems'), 5.082565376702284),\n",
       " (('hour', 'experience'), 5.061459211969652),\n",
       " (('analytical', 'skills'), 5.031601010636869),\n",
       " (('data', 'science'), 5.012974504641683),\n",
       " (('working', 'knowledge'), 4.989873511804873),\n",
       " (('years', 'required'), 4.966509608074972),\n",
       " (('data', 'sources'), 4.956659649315082),\n",
       " (('strong', 'communication'), 4.9553514503147085),\n",
       " (('team', 'oriented'), 4.946066531694868),\n",
       " (('time', 'part'), 4.931643673562764),\n",
       " (('marketing', 'manager'), 4.914861785412171),\n",
       " (('hands', 'experience'), 4.899756332847943),\n",
       " (('preferred', 'education'), 4.682884884479833),\n",
       " (('media', 'marketing'), 4.604508036037554),\n",
       " (('preferred', 'qualifications'), 4.5678156750221),\n",
       " (('data', 'driven'), 4.565159086645576),\n",
       " (('skills', 'excellent'), 4.553195925344209),\n",
       " (('data', 'center'), 4.538586174503219),\n",
       " (('plus', 'years'), 4.4900763539053905),\n",
       " (('science', 'related'), 4.458987568127686),\n",
       " (('data', 'engineer'), 4.457926606608819),\n",
       " (('relevant', 'experience'), 4.420828779413551),\n",
       " (('apply', 'company'), 4.406050533012163),\n",
       " (('skills', 'ability'), 4.39854497227666),\n",
       " (('business', 'processes'), 4.381446597520672),\n",
       " (('demonstrated', 'experience'), 4.3767555402197225),\n",
       " (('business', 'needs'), 4.35799236241694),\n",
       " (('required', 'additional'), 4.351661757642269),\n",
       " (('product', 'development'), 4.330681445209436),\n",
       " (('systems', 'analyst'), 4.328855484644247),\n",
       " (('year', 'required'), 4.253337923760167),\n",
       " (('senior', 'management'), 4.2122776724693125),\n",
       " (('design', 'development'), 4.201511986062226),\n",
       " (('friday', 'work'), 4.193327395740138),\n",
       " (('flexible', 'work'), 4.1695447795752365),\n",
       " (('time', 'opportunity'), 4.153197787331472),\n",
       " (('apply', 'full'), 4.13749953585792),\n",
       " (('required', 'education'), 4.075240484517682),\n",
       " (('able', 'work'), 4.075049432444189),\n",
       " (('experience', 'working'), 4.071754086206088),\n",
       " (('years', 'experience'), 4.029540198623106),\n",
       " (('experience', 'managing'), 4.024566463402429),\n",
       " (('ability', 'work'), 4.012425547903906),\n",
       " (('proven', 'experience'), 3.8341679912203688),\n",
       " (('data', 'analytics'), 3.8208276044381577),\n",
       " (('year', 'experience'), 3.810932283326636),\n",
       " (('team', 'environment'), 3.7927257515143005),\n",
       " (('business', 'process'), 3.7587358376454354),\n",
       " (('equivalent', 'experience'), 3.7491318873645696),\n",
       " (('time', 'schedule'), 3.7291070397997395),\n",
       " (('knowledge', 'skills'), 3.7290649110119745),\n",
       " (('skills', 'strong'), 3.717279071767667),\n",
       " (('data', 'quality'), 3.6485788600715168),\n",
       " (('business', 'analysis'), 3.630321660306695),\n",
       " (('experience', 'building'), 3.619155100249518),\n",
       " (('com', 'work'), 3.5995699747274372),\n",
       " (('business', 'systems'), 3.5667500456106858),\n",
       " (('work', 'environment'), 3.5488930873277873),\n",
       " (('experience', 'developing'), 3.545468701993226),\n",
       " (('experience', 'using'), 3.4946354479125326),\n",
       " (('required', 'location'), 3.4446365759950446),\n",
       " (('business', 'requirements'), 3.4411798647071095),\n",
       " (('preferred', 'benefits'), 3.421955066970959),\n",
       " (('data', 'analysis'), 3.3969041419277204),\n",
       " (('senior', 'data'), 3.3805695160919527),\n",
       " (('data', 'analyst'), 3.348423523737516),\n",
       " (('may', 'required'), 3.3393233506050066),\n",
       " (('opportunity', 'work'), 3.22170689949132),\n",
       " (('professional', 'experience'), 3.1441234444416573),\n",
       " (('education', 'experience'), 3.137753505985927),\n",
       " (('skills', 'including'), 3.1124033179387034),\n",
       " (('required', 'work'), 3.042712732949262),\n",
       " (('management', 'skills'), 3.031489351255143),\n",
       " (('analysis', 'years'), 2.9667258519506348),\n",
       " (('lead', 'data'), 2.964032620798328),\n",
       " (('etc', 'experience'), 2.9302146786914065),\n",
       " (('required', 'benefits'), 2.8801986026652706),\n",
       " (('preferred', 'work'), 2.8730039753826127),\n",
       " (('management', 'team'), 2.83291484163),\n",
       " (('marketing', 'years'), 2.7862931926899286),\n",
       " (('apply', 'work'), 2.712156092092286),\n",
       " (('data', 'engineering'), 2.687729613809026),\n",
       " (('skills', 'experience'), 2.4998465007512785),\n",
       " (('time', 'management'), 2.398540950296141),\n",
       " (('data', 'management'), 2.349112623063913),\n",
       " (('business', 'development'), 2.3203355975975803),\n",
       " (('experience', 'education'), 1.8769892737769602),\n",
       " (('time', 'work'), 1.7766450901293211),\n",
       " (('experience', 'preferred'), 1.7541349439917227),\n",
       " (('knowledge', 'experience'), 1.7437817547632655),\n",
       " (('management', 'experience'), 1.7064124440219892),\n",
       " (('preferred', 'experience'), 1.5816677479869554),\n",
       " (('work', 'experience'), 1.536079959159128),\n",
       " (('experience', 'years'), 1.3260210875500427),\n",
       " (('experience', 'business'), 1.2388596428873555),\n",
       " (('required', 'experience'), 1.1999884991672332),\n",
       " (('experience', 'required'), 1.1186883970653838),\n",
       " (('experience', 'data'), 0.6881696733049729),\n",
       " (('experience', 'experience'), -0.15217292558710582)]"
      ]
     },
     "execution_count": 68,
     "metadata": {},
     "output_type": "execute_result"
    }
   ],
   "source": [
    "mutual_info_scores(all_tokens,50)"
   ]
  },
  {
   "cell_type": "markdown",
   "metadata": {},
   "source": [
    "The results are pretty interesting here. Seems a lot of bigram combinations are very specific and not particular useful to differentiate from job to job. Try pass single job description."
   ]
  },
  {
   "cell_type": "code",
   "execution_count": 67,
   "metadata": {},
   "outputs": [
    {
     "data": {
      "text/plain": [
       "[(('employment', 'opportunity'), 6.381542951184585),\n",
       " (('equal', 'employment'), 6.381542951184585),\n",
       " (('data', 'analysis'), 5.059614856297222),\n",
       " (('data', 'science'), 4.644577357018379),\n",
       " (('data', 'analytics'), 4.252259934239619)]"
      ]
     },
     "execution_count": 67,
     "metadata": {},
     "output_type": "execute_result"
    }
   ],
   "source": [
    "mutual_info_scores(job_tokens[5], 3)"
   ]
  },
  {
   "cell_type": "markdown",
   "metadata": {},
   "source": [
    "#### QUESTION: Can we use bi-grams in the Word2Vec model?"
   ]
  },
  {
   "cell_type": "markdown",
   "metadata": {},
   "source": [
    "## Generating a Word Cloud"
   ]
  },
  {
   "cell_type": "markdown",
   "metadata": {},
   "source": [
    "Most of our jobs are data focused. Let's generate a word cloud to see what words appear the most in these job descriptions."
   ]
  },
  {
   "cell_type": "code",
   "execution_count": 70,
   "metadata": {},
   "outputs": [
    {
     "name": "stdout",
     "output_type": "stream",
     "text": [
      "Collecting wordcloud\n",
      "\u001b[?25l  Downloading https://files.pythonhosted.org/packages/7e/ea/e531ac225713af626d1d2d108ec4774ffdde54ac83c5c863b42a72e4a164/wordcloud-1.7.0-cp37-cp37m-macosx_10_6_x86_64.whl (160kB)\n",
      "\u001b[K     |████████████████████████████████| 163kB 3.1MB/s eta 0:00:01\n",
      "\u001b[?25hRequirement already satisfied: matplotlib in /Applications/anaconda3/lib/python3.7/site-packages (from wordcloud) (3.1.1)\n",
      "Requirement already satisfied: numpy>=1.6.1 in /Applications/anaconda3/lib/python3.7/site-packages (from wordcloud) (1.18.1)\n",
      "Requirement already satisfied: pillow in /Applications/anaconda3/lib/python3.7/site-packages (from wordcloud) (7.0.0)\n",
      "Requirement already satisfied: cycler>=0.10 in /Applications/anaconda3/lib/python3.7/site-packages (from matplotlib->wordcloud) (0.10.0)\n",
      "Requirement already satisfied: kiwisolver>=1.0.1 in /Applications/anaconda3/lib/python3.7/site-packages (from matplotlib->wordcloud) (1.1.0)\n",
      "Requirement already satisfied: pyparsing!=2.0.4,!=2.1.2,!=2.1.6,>=2.0.1 in /Applications/anaconda3/lib/python3.7/site-packages (from matplotlib->wordcloud) (2.4.6)\n",
      "Requirement already satisfied: python-dateutil>=2.1 in /Applications/anaconda3/lib/python3.7/site-packages (from matplotlib->wordcloud) (2.8.1)\n",
      "Requirement already satisfied: six in /Applications/anaconda3/lib/python3.7/site-packages (from cycler>=0.10->matplotlib->wordcloud) (1.13.0)\n",
      "Requirement already satisfied: setuptools in /Applications/anaconda3/lib/python3.7/site-packages (from kiwisolver>=1.0.1->matplotlib->wordcloud) (44.0.0.post20200106)\n",
      "Installing collected packages: wordcloud\n",
      "Successfully installed wordcloud-1.7.0\n"
     ]
    }
   ],
   "source": [
    "!pip install wordcloud"
   ]
  },
  {
   "cell_type": "code",
   "execution_count": 73,
   "metadata": {},
   "outputs": [],
   "source": [
    "from os import path\n",
    "from PIL import Image\n",
    "from wordcloud import WordCloud, STOPWORDS, ImageColorGenerator\n",
    "\n",
    "import matplotlib.pyplot as plt\n",
    "%matplotlib inline"
   ]
  },
  {
   "cell_type": "markdown",
   "metadata": {},
   "source": [
    "### Wordcloud on all descriptions"
   ]
  },
  {
   "cell_type": "code",
   "execution_count": 82,
   "metadata": {},
   "outputs": [
    {
     "data": {
      "image/png": "[encoded data removed]",
      "text/plain": [
       "<Figure size 432x288 with 1 Axes>"
      ]
     },
     "metadata": {
      "needs_background": "light"
     },
     "output_type": "display_data"
    }
   ],
   "source": [
    "text = \" \".join(description for description in salary_df['combined_text'])\n",
    "#text = salary_df['combined_text'][4]\n",
    "\n",
    "#Create stopword list:\n",
    "stopwords = set(STOPWORDS)\n",
    "#stopwords.update([\"to\",\"sex\",\"may\"])\n",
    "\n",
    "wordcloud = WordCloud(stopwords = stopwords,max_font_size=50, max_words=100, background_color='white').generate(text)\n",
    "plt.figure()\n",
    "plt.imshow(wordcloud, interpolation='bilinear')\n",
    "plt.axis('off')\n",
    "plt.show()"
   ]
  },
  {
   "cell_type": "markdown",
   "metadata": {},
   "source": [
    "\"Full time, ability to, experience with, knowledge of\".. These words seem to be common in all job descriptions. However, we want to see what skills, specifications data professionals should have, so this view is not very helpful. "
   ]
  },
  {
   "cell_type": "code",
   "execution_count": 90,
   "metadata": {},
   "outputs": [
    {
     "data": {
      "image/png": "[encoded data removed]",
      "text/plain": [
       "<Figure size 576x432 with 1 Axes>"
      ]
     },
     "metadata": {
      "needs_background": "light"
     },
     "output_type": "display_data"
    }
   ],
   "source": [
    "text = salary_df['combined_text'][10]\n",
    "\n",
    "#Create stopword list:\n",
    "stopwords = set(STOPWORDS)\n",
    "stopwords.update([\"to\",\"sex\",\"may\",\"Ability to\",\"Full time\",\"Experience with\", \"Job Type\"])\n",
    "\n",
    "wordcloud = WordCloud(stopwords = stopwords,max_font_size=50, max_words=100, background_color='white').generate(text)\n",
    "plt.figure(figsize=(8,6))\n",
    "plt.imshow(wordcloud, interpolation='bilinear')\n",
    "plt.axis('off')\n",
    "plt.show()"
   ]
  },
  {
   "cell_type": "markdown",
   "metadata": {},
   "source": [
    "When we look at individual job description, these keywords like data quality, analysis, define pop out. So maybe in the final application, we just pass in individual job description."
   ]
  },
  {
   "cell_type": "code",
   "execution_count": null,
   "metadata": {},
   "outputs": [],
   "source": []
  }
 ],
 "metadata": {
  "kernelspec": {
   "display_name": "Python 3",
   "language": "python",
   "name": "python3"
  },
  "language_info": {
   "codemirror_mode": {
    "name": "ipython",
    "version": 3
   },
   "file_extension": ".py",
   "mimetype": "text/x-python",
   "name": "python",
   "nbconvert_exporter": "python",
   "pygments_lexer": "ipython3",
   "version": "3.7.1"
  },
  "toc": {
   "base_numbering": 1,
   "nav_menu": {},
   "number_sections": true,
   "sideBar": true,
   "skip_h1_title": false,
   "title_cell": "Table of Contents",
   "title_sidebar": "Contents",
   "toc_cell": false,
   "toc_position": {
    "height": "calc(100% - 180px)",
    "left": "10px",
    "top": "150px",
    "width": "165px"
   },
   "toc_section_display": true,
   "toc_window_display": true
  },
  "varInspector": {
   "cols": {
    "lenName": "20",
    "lenType": 16,
    "lenVar": 40
   },
   "kernels_config": {
    "python": {
     "delete_cmd_postfix": "",
     "delete_cmd_prefix": "del ",
     "library": "var_list.py",
     "varRefreshCmd": "print(var_dic_list())"
    },
    "r": {
     "delete_cmd_postfix": ") ",
     "delete_cmd_prefix": "rm(",
     "library": "var_list.r",
     "varRefreshCmd": "cat(var_dic_list()) "
    }
   },
   "position": {
    "height": "467px",
    "left": "1550px",
    "right": "20px",
    "top": "120px",
    "width": "350px"
   },
   "types_to_exclude": [
    "module",
    "function",
    "builtin_function_or_method",
    "instance",
    "_Feature"
   ],
   "window_display": true
  }
 },
 "nbformat": 4,
 "nbformat_minor": 2
}
